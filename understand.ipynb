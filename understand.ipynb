{
 "cells": [
  {
   "cell_type": "code",
   "execution_count": 4,
   "metadata": {},
   "outputs": [
    {
     "data": {
      "text/plain": [
       "'c:\\\\Users\\\\karth\\\\OneDrive\\\\Documents\\\\GitHub\\\\pdf-build'"
      ]
     },
     "execution_count": 4,
     "metadata": {},
     "output_type": "execute_result"
    }
   ],
   "source": [
    "import os\n",
    "os.path.dirname(os.path.abspath(r'karthik.yaml'))"
   ]
  },
  {
   "cell_type": "code",
   "execution_count": 3,
   "metadata": {},
   "outputs": [],
   "source": [
    "from weasyprint import HTML\n",
    "\n",
    "# Path to your HTML file\n",
    "html_file = r'C:\\Users\\karth\\OneDrive\\Documents\\GitHub\\pdf-build\\Testing html\\test.html'\n",
    "\n",
    "# Convert HTML to PDF\n",
    "html = HTML(html_file)\n",
    "# doc = html.render(stylesheets=html_file)\n",
    "html.write_pdf(\"output.pdf\",stylesheets=[r\"C:\\Users\\karth\\OneDrive\\Documents\\GitHub\\pdf-build\\Testing html\\skills_theme.css\"])\n",
    "\n"
   ]
  }
 ],
 "metadata": {
  "kernelspec": {
   "display_name": ".venv",
   "language": "python",
   "name": "python3"
  },
  "language_info": {
   "codemirror_mode": {
    "name": "ipython",
    "version": 3
   },
   "file_extension": ".py",
   "mimetype": "text/x-python",
   "name": "python",
   "nbconvert_exporter": "python",
   "pygments_lexer": "ipython3",
   "version": "3.11.9"
  }
 },
 "nbformat": 4,
 "nbformat_minor": 2
}
