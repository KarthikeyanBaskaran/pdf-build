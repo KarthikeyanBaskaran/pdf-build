{
 "cells": [
  {
   "cell_type": "code",
   "execution_count": 7,
   "id": "52b971b7",
   "metadata": {},
   "outputs": [
    {
     "name": "stderr",
     "output_type": "stream",
     "text": [
      "/home/madhushree/Documents/pdf-build/Fixing/.venv/lib/python3.12/site-packages/tqdm/auto.py:21: TqdmWarning: IProgress not found. Please update jupyter and ipywidgets. See https://ipywidgets.readthedocs.io/en/stable/user_install.html\n",
      "  from .autonotebook import tqdm as notebook_tqdm\n"
     ]
    }
   ],
   "source": [
    "from sentence_transformers import SentenceTransformer, util\n",
    "import numpy as np\n",
    "\n",
    "# Initialize the model\n",
    "model = SentenceTransformer('all-MiniLM-L6-v2')  # Lightweight and good enough"
   ]
  },
  {
   "cell_type": "code",
   "execution_count": 8,
   "id": "eec72ea5",
   "metadata": {},
   "outputs": [],
   "source": [
    "job_description  = \"\"\"About the job\n",
    "Position Overview\n",
    "Calian ITCS is currently seeking Junior and Intermediate Systems Engineering Analysts to perform the following duties:\n",
    "Responsibilities\n",
    "Develop Architecture designs for operational, functional, and physical architectures;\n",
    "Produce views and designs related to interface management for internal and external system interfaces;\n",
    "Develop, capture, modify, manage, and trace requirements;\n",
    "Perform Mission Engineering and Analysis activities (such as functions analysis and development, system gap identification, use case development, and capabilities decomposition);\n",
    "Documenting the analysis, design and test in accordance with development standards.\n",
    "Support Metrics development and presentation of results;\n",
    "Participate in systems and software design and trade studies;\n",
    "Execute written test plans and test procedures;\n",
    "Identify system defects, resolve issues and verify solutions have been correctly implemented;\n",
    "Participate in an Agile team;\n",
    "Qualifications\n",
    "Clearance: NATO Secret; Must be able to obtain and maintain NATO Secret Clearance and a positive Controlled Goods Assessment.\n",
    "Language: English\n",
    "Bachelor's degree or equivalent in Engineering, or an applicable scientific discipline.\n",
    "Minimum 2-3 years System Engineering experience\n",
    "Experience in requirements development and system design\n",
    "Experience and working knowledge of systems engineering tools including DOORS, and team collaboration tools\n",
    "Demonstrated initiative and strong verbal and written communications skills\n",
    "Technical document writing experience\n",
    "The ability to work effectively both independently and in a team environment, with minimum supervision\n",
    "Demonstrated capability of meeting commitments and delivering high quality work products\n",
    "# #ID-LL1#\n",
    "\"\"\""
   ]
  },
  {
   "cell_type": "code",
   "execution_count": 2,
   "id": "005523e5",
   "metadata": {},
   "outputs": [],
   "source": [
    "import yaml \n",
    "yaml_file_path = '/home/madhushree/Documents/pdf-build/Fixing/Resume.yaml'\n",
    "with open(yaml_file_path, 'r') as f:\n",
    "    resume_data = yaml.safe_load(f)\n"
   ]
  },
  {
   "cell_type": "code",
   "execution_count": 9,
   "id": "0084be0c",
   "metadata": {},
   "outputs": [],
   "source": [
    "vestas_bullets  = resume_data['Professional Experience']['Vestas Wind Technology']\n",
    "manpower_bullets = resume_data['Professional Experience']['ManpowerGroup Services']\n",
    "valeo_bullets=resume_data['Professional Experience']['Valeo India']\n",
    "jd_embedding = model.encode(job_description, convert_to_tensor=True)\n"
   ]
  },
  {
   "cell_type": "code",
   "execution_count": 3,
   "id": "5c312fea",
   "metadata": {},
   "outputs": [
    {
     "data": {
      "text/plain": [
       "[{'project_name': 'Meta Financial Dashboard',\n",
       "  'description': 'Developed an interactive Tableau dashboard to analyze key financial KPIs such as P/E Ratio, Current Ratio, and Debt to Equity. Delivered actionable insights that improved financial decision making, enhancing reporting accuracy and strategic planning.',\n",
       "  'keywords': ['Tableau',\n",
       "   'Financial KPIs',\n",
       "   'Dashboarding',\n",
       "   'Strategic Planning']},\n",
       " {'project_name': 'Customer Churn Analysis',\n",
       "  'description': 'Analysed and processed raw input to clean customer data, applied machine learning to predict churn risk, and visualized insights to guide retention strategies.',\n",
       "  'keywords': ['Python',\n",
       "   'Predictive Modeling',\n",
       "   'Customer Analytics',\n",
       "   'Machine Learning']},\n",
       " {'project_name': 'Procurement Analytics',\n",
       "  'description': 'Created a Power BI dashboard to track procurement KPIs, supplier performance, and category spend, providing actionable insights for informed decision-making.',\n",
       "  'keywords': ['Power BI', 'Procurement', 'Analytics', 'KPIs']},\n",
       " {'project_name': 'SAP Data Automation',\n",
       "  'description': 'Developed automation solutions to streamline data management of SAP using Excel VBA and SAP automation features. Enabled seamless updates enhancing operational efficiency and data accuracy across departments.',\n",
       "  'keywords': ['SAP',\n",
       "   'Excel VBA',\n",
       "   'Data Automation',\n",
       "   'Operational Efficiency']},\n",
       " {'project_name': 'Plastic Pollution Overview Dashboard',\n",
       "  'description': 'Created a dynamic Tableau dashboard to visualize global plastic pollution metrics, including waste generation, recycling rates, and environmental impacts. Integrated multiple data sources offering actionable insights for potential stakeholders supporting sustainability efforts.',\n",
       "  'keywords': ['Tableau',\n",
       "   'Environmental Analytics',\n",
       "   'Sustainability',\n",
       "   'Data Visualization']},\n",
       " {'project_name': 'FAANG Forecast Pipeline',\n",
       "  'description': 'Built machine learning models to forecast FAANG stock performance using financial indicators. Performed data collection, cleaning, and transformation. Deployed results to Azure cloud storage for scalable access and reporting in Power BI.',\n",
       "  'keywords': ['Machine Learning',\n",
       "   'Financial Analysis',\n",
       "   'Python',\n",
       "   'Azure',\n",
       "   'Power BI']},\n",
       " {'project_name': 'Speech Form Automation',\n",
       "  'description': 'Developed a speech-to-structured-data tool using Google Speech API to transcribe patient voice queries and leveraged a large language model (LLM) to extract key information and store into SQL Server. Deployed the interface using Streamlit for real-time visualization.',\n",
       "  'keywords': ['Speech Recognition',\n",
       "   'Python',\n",
       "   'Streamlit',\n",
       "   'SQL',\n",
       "   'LLM',\n",
       "   'Data Automation']},\n",
       " {'project_name': 'Financial Simulation Modeling',\n",
       "  'description': 'Developed a hybrid ML-financial model integrating Monte Carlo simulations, CAPM, and technical indicators to generate data-driven, risk-aware investment insights.',\n",
       "  'keywords': ['Python',\n",
       "   'Monte Carlo Simulation',\n",
       "   'CAPM',\n",
       "   'Technical Analysis',\n",
       "   'Financial Modeling',\n",
       "   'Machine Learning']},\n",
       " {'project_name': 'Perception & Sentiment Analysis',\n",
       "  'description': \"Led a data-driven study analyzing META's financial performance and public sentiment using NLP, EDA, and dynamic visualizations to uncover market-driven insights.\",\n",
       "  'keywords': ['NLP',\n",
       "   'Sentiment Analysis',\n",
       "   'Python',\n",
       "   'Tableau',\n",
       "   'Financial Analysis',\n",
       "   'Data Storytelling']},\n",
       " {'project_name': 'Supply Chain Intelligence',\n",
       "  'description': 'Optimized food delivery logistics and rider efficiency by applying ML forecasting, operational analytics, and real-time dashboards to drive data-backed performance improvements.',\n",
       "  'keywords': ['Supply Chain Analytics',\n",
       "   'Machine Learning',\n",
       "   'Python',\n",
       "   'Tableau',\n",
       "   'Forecasting',\n",
       "   'Operational Efficiency']}]"
      ]
     },
     "execution_count": 3,
     "metadata": {},
     "output_type": "execute_result"
    }
   ],
   "source": [
    "resume_data['projects']"
   ]
  },
  {
   "cell_type": "code",
   "execution_count": 11,
   "id": "4196419d",
   "metadata": {},
   "outputs": [],
   "source": [
    "def toppoints(jd_embedding,bullets):  \n",
    "    bullet_embeddings = model.encode(bullets, convert_to_tensor=True)\n",
    "    # Compute cosine similarity scores\n",
    "    similarities = util.pytorch_cos_sim(jd_embedding, bullet_embeddings)[0].cpu().numpy()\n",
    "    # Pair scores with bullets\n",
    "    scored_bullets = list(zip(similarities, bullets))\n",
    "    # Sort by similarity (descending)\n",
    "    sorted_bullets = sorted(scored_bullets, key=lambda x: x[0], reverse=True)\n",
    "    # Top 3 most relevant bullets\n",
    "    return sorted_bullets[:3]\n"
   ]
  },
  {
   "cell_type": "code",
   "execution_count": 13,
   "id": "81df322f",
   "metadata": {},
   "outputs": [],
   "source": [
    "projects = toppoints(jd_embedding,resume_data['projects'])"
   ]
  },
  {
   "cell_type": "code",
   "execution_count": 14,
   "id": "68dbcd9c",
   "metadata": {},
   "outputs": [
    {
     "data": {
      "text/plain": [
       "[{'project_name': 'SAP Data Automation',\n",
       "  'description': 'Developed automation solutions to streamline data management of SAP using Excel VBA and SAP automation features. Enabled seamless updates enhancing operational efficiency and data accuracy across departments.',\n",
       "  'keywords': ['SAP',\n",
       "   'Excel VBA',\n",
       "   'Data Automation',\n",
       "   'Operational Efficiency']},\n",
       " {'project_name': 'Procurement Analytics',\n",
       "  'description': 'Created a Power BI dashboard to track procurement KPIs, supplier performance, and category spend, providing actionable insights for informed decision-making.',\n",
       "  'keywords': ['Power BI', 'Procurement', 'Analytics', 'KPIs']},\n",
       " {'project_name': 'Supply Chain Intelligence',\n",
       "  'description': 'Optimized food delivery logistics and rider efficiency by applying ML forecasting, operational analytics, and real-time dashboards to drive data-backed performance improvements.',\n",
       "  'keywords': ['Supply Chain Analytics',\n",
       "   'Machine Learning',\n",
       "   'Python',\n",
       "   'Tableau',\n",
       "   'Forecasting',\n",
       "   'Operational Efficiency']}]"
      ]
     },
     "execution_count": 14,
     "metadata": {},
     "output_type": "execute_result"
    }
   ],
   "source": [
    "[j for i,j in projects]"
   ]
  },
  {
   "cell_type": "code",
   "execution_count": null,
   "id": "7235e9f9",
   "metadata": {},
   "outputs": [],
   "source": []
  },
  {
   "cell_type": "code",
   "execution_count": null,
   "id": "2a2baced",
   "metadata": {},
   "outputs": [],
   "source": [
    "vestas = toppoints(jd_embedding, vestas_bullets)\n",
    "manpower = toppoints(jd_embedding, manpower_bullets)\n",
    "valeo = toppoints(jd_embedding, valeo_bullets)"
   ]
  },
  {
   "cell_type": "code",
   "execution_count": 37,
   "id": "14d04f6d",
   "metadata": {},
   "outputs": [
    {
     "data": {
      "text/plain": [
       "[(np.float32(0.2893437),\n",
       "  'Optimized material master data accuracy through VBA automation and SAP, improving data consistency and reducing errors by 25%.'),\n",
       " (np.float32(0.2826222),\n",
       "  'Negotiated supplier contracts to achieve significant cost savings and ensure compliance with government policies.'),\n",
       " (np.float32(0.22850567),\n",
       "  'Collaborated with cross-functional teams to develop scalable software solutions for supply chain monitoring, ensuring seamless integration with existing systems.')]"
      ]
     },
     "execution_count": 37,
     "metadata": {},
     "output_type": "execute_result"
    }
   ],
   "source": [
    "manpower"
   ]
  },
  {
   "cell_type": "code",
   "execution_count": 47,
   "id": "c6bdea5e",
   "metadata": {},
   "outputs": [],
   "source": [
    "import yaml \n",
    "feedllm_path = '/home/madhushree/Documents/pdf-build/Fixing/feedllm.yaml'\n",
    "with open(yaml_file_path, 'r') as f:\n",
    "    feedllm = yaml.safe_load(f)"
   ]
  },
  {
   "cell_type": "code",
   "execution_count": 50,
   "id": "dd42c938",
   "metadata": {},
   "outputs": [],
   "source": [
    "feedllm['Professional Experience']['Vestas Wind Technology'] = [b for i,b in vestas]\n",
    "feedllm['Professional Experience']['ManpowerGroup Services'] = [b for i,b in manpower]\n",
    "feedllm['Professional Experience']['Valeo India'] = [b for i,b in valeo]"
   ]
  },
  {
   "cell_type": "code",
   "execution_count": 51,
   "id": "e6ea81cf",
   "metadata": {},
   "outputs": [],
   "source": [
    "with open(feedllm_path, 'w', encoding='utf-8') as f:\n",
    "           yaml.dump(feedllm, f, sort_keys=False, default_flow_style=False)\n",
    "        "
   ]
  },
  {
   "cell_type": "code",
   "execution_count": null,
   "id": "5edce990",
   "metadata": {},
   "outputs": [],
   "source": []
  },
  {
   "cell_type": "code",
   "execution_count": 2,
   "id": "034479a2",
   "metadata": {},
   "outputs": [],
   "source": [
    "def semantic_search(jd_embedding,bullets,num=3):  \n",
    "    bullet_embeddings = model.encode(bullets, convert_to_tensor=True)\n",
    "    # Compute cosine similarity scores\n",
    "    similarities = util.pytorch_cos_sim(jd_embedding, bullet_embeddings)[0].cpu().numpy()\n",
    "    # Pair scores with bullets\n",
    "    scored_bullets = list(zip(similarities, bullets))\n",
    "    # Sort by similarity (descending)\n",
    "    sorted_bullets = sorted(scored_bullets, key=lambda x: x[0], reverse=True)\n",
    "    # Retuen top 3 most relevant points\n",
    "    return sorted_bullets[:num]"
   ]
  },
  {
   "cell_type": "code",
   "execution_count": null,
   "id": "145690a9",
   "metadata": {},
   "outputs": [],
   "source": [
    "jd_embeddings = model.encode(job_description, convert_to_tensor=True)"
   ]
  },
  {
   "cell_type": "code",
   "execution_count": 6,
   "id": "f6db4f7f",
   "metadata": {},
   "outputs": [],
   "source": [
    "import yaml \n",
    "yaml_file_path = '/home/madhushree/Documents/pdf-build/Fixing/Resume.yaml'\n",
    "with open(yaml_file_path, 'r') as f:\n",
    "    resume_data = yaml.safe_load(f)\n",
    "\n",
    "vestas_bullets  = resume_data['Professional Experience']['Vestas Wind Technology']\n"
   ]
  },
  {
   "cell_type": "code",
   "execution_count": 7,
   "id": "fdf06a66",
   "metadata": {},
   "outputs": [
    {
     "data": {
      "text/plain": [
       "[(np.float32(0.31642914),\n",
       "  'Collaborated with cross-functional teams to build scalable tools for requirements management and defect tracking, ensuring alignment with system baselines.'),\n",
       " (np.float32(0.31225318),\n",
       "  'Developed and deployed Python-based automation scripts to streamline requirements traceability and interface validation, improving engineering workflow efficiency.'),\n",
       " (np.float32(0.30801618),\n",
       "  'Automated internal systems engineering documentation processes using Power Query and SharePoint, reducing manual effort and error rate by 30%.')]"
      ]
     },
     "execution_count": 7,
     "metadata": {},
     "output_type": "execute_result"
    }
   ],
   "source": [
    "semantic_search(jd_embeddings, vestas_bullets)"
   ]
  },
  {
   "cell_type": "code",
   "execution_count": null,
   "id": "7e500d6b",
   "metadata": {},
   "outputs": [],
   "source": []
  },
  {
   "cell_type": "code",
   "execution_count": null,
   "id": "af9e16f7",
   "metadata": {},
   "outputs": [],
   "source": []
  },
  {
   "cell_type": "code",
   "execution_count": 17,
   "id": "d827b1b1",
   "metadata": {},
   "outputs": [],
   "source": [
    "from dotenv import load_dotenv\n",
    "from groq import Groq\n",
    "import os\n",
    "\n",
    "load_dotenv() # Load environment variables from a .env file (for the API key)\n",
    "GROQ_API_KEY = os.getenv(\"grok_api\") # Load grok api\n",
    "\n",
    "def get_llm_response(prompt: str) -> str:\n",
    "    \"\"\"Generic function to get a response from the Groq LLM.\"\"\"\n",
    "\n",
    "    client = Groq(api_key=GROQ_API_KEY)\n",
    "    response = client.chat.completions.create(\n",
    "    model=\"llama-3.3-70b-versatile\",\n",
    "    messages=[\n",
    "        {\n",
    "        \"role\": \"system\",\n",
    "        \"content\": \"You are a professional career coach and resume-writing assistant. Your task is to craft strong, impactful, and industry-relevant resume bullet points that make my profile stand out for data analytics, data engineering roles and other type of analyst roles\"\n",
    "    },\n",
    "    {\n",
    "        \"role\": \"user\",\n",
    "        \"content\": prompt}],\n",
    "        temperature=1,\n",
    "        max_tokens=1024,\n",
    "        top_p=1,\n",
    "        stream=True,\n",
    "        stop=None,\n",
    "    )\n",
    "    content = \"\"\n",
    "    for chunk in response:\n",
    "        c = chunk.choices[0].delta.content if chunk.choices[0].delta.content else \"\"\n",
    "        content += c\n",
    "    return content\n"
   ]
  },
  {
   "cell_type": "code",
   "execution_count": 22,
   "id": "b68a5ce4",
   "metadata": {},
   "outputs": [],
   "source": [
    "import yaml \n",
    "feedllm_path = '/home/madhushree/Documents/pdf-build/Fixing/feedllm.yaml'\n",
    "with open(yaml_file_path, 'r') as f:\n",
    "    resume = yaml.safe_load(f)"
   ]
  },
  {
   "cell_type": "code",
   "execution_count": 24,
   "id": "1b9a5e02",
   "metadata": {},
   "outputs": [
    {
     "data": {
      "text/plain": [
       "[{'project_name': 'SAP Data Automation',\n",
       "  'description': 'Developed automation solutions to streamline data management of SAP using Excel VBA and SAP automation features. Enabled seamless updates enhancing operational efficiency and data accuracy across departments.',\n",
       "  'keywords': ['SAP',\n",
       "   'Excel VBA',\n",
       "   'Data Automation',\n",
       "   'Operational Efficiency']},\n",
       " {'project_name': 'Procurement Analytics',\n",
       "  'description': 'Created a Power BI dashboard to track procurement KPIs, supplier performance, and category spend, providing actionable insights for informed decision-making.',\n",
       "  'keywords': ['Power BI', 'Procurement', 'Analytics', 'KPIs']},\n",
       " {'project_name': 'Supply Chain Intelligence',\n",
       "  'description': 'Optimized food delivery logistics and rider efficiency by applying ML forecasting, operational analytics, and real-time dashboards to drive data-backed performance improvements.',\n",
       "  'keywords': ['Supply Chain Analytics',\n",
       "   'Machine Learning',\n",
       "   'Python',\n",
       "   'Tableau',\n",
       "   'Forecasting',\n",
       "   'Operational Efficiency']}]"
      ]
     },
     "execution_count": 24,
     "metadata": {},
     "output_type": "execute_result"
    }
   ],
   "source": [
    "[j for i,j in projects]"
   ]
  },
  {
   "cell_type": "code",
   "execution_count": 27,
   "metadata": {},
   "outputs": [],
   "source": [
    "def tailored_projects(resume, job_description,projects):\n",
    "    prompt = (f\"\"\"\n",
    "    Instruction:\n",
    "    Generate an ATS-friendly resume tailored to the job description, using keywords from both the job description and my resume. The output must be in valid YAML format, with no markdown backticks, and follow the structure provided.\n",
    "\n",
    "    ---\n",
    "    Resume Generation Guidelines:\n",
    "\n",
    "\n",
    "        2.  **Projects :**\n",
    "        * Generate 2 new projects with difficulty level easy when some mandatory keywords or technology is missing in my work experience and projects. \n",
    "        * Each project title should be **short and precise (max 3 words)**.\n",
    "        * Provide a **single-line description** for each project.\n",
    "        * Include relevant keywords for each project.\n",
    "              \n",
    "        ---\n",
    "        Output Format (YAML - directly parsable):       \n",
    "        projects: # Optional: only if new projects are generated as per guidelines\n",
    "        - project_name: <Project Title>\n",
    "            description: <Short idea in one line>\n",
    "            keywords: [<keyword1>, <keyword2>, <keyword3>]\n",
    "              \n",
    "        My Resume:\n",
    "        {resume}\n",
    "\n",
    "        ---\n",
    "        Job Description:\n",
    "        {job_description}\n",
    "\n",
    "        projects:\n",
    "        {projects}\n",
    "                \n",
    "\n",
    "        NO PREAMBLE only yaml\n",
    "\n",
    "        \"\"\")\n",
    "    yaml_output = get_llm_response(prompt)\n",
    "    \n",
    "    return yaml_output"
   ]
  },
  {
   "cell_type": "code",
   "execution_count": 29,
   "metadata": {},
   "outputs": [],
   "source": [
    "ans = tailored_projects(resume, job_description,[j for i,j in projects])"
   ]
  },
  {
   "cell_type": "code",
   "execution_count": 31,
   "metadata": {},
   "outputs": [
    {
     "name": "stdout",
     "output_type": "stream",
     "text": [
      "projects:\n",
      "- project_name: System Design\n",
      "  description: Developed system architectures for operational, functional, and physical systems using systems engineering tools and methodologies.\n",
      "  keywords: [System Design, Architecture, Systems Engineering, DOORS]\n",
      "- project_name: Mission Analysis\n",
      "  description: Performed mission engineering and analysis activities, including function analysis, system gap identification, and capabilities decomposition to inform system design decisions.\n",
      "  keywords: [Mission Engineering, Systems Analysis, Function Analysis, Capabilities Decomposition]\n"
     ]
    }
   ],
   "source": [
    "print(ans)"
   ]
  },
  {
   "cell_type": "code",
   "execution_count": 34,
   "id": "f5fcd069",
   "metadata": {},
   "outputs": [
    {
     "data": {
      "text/plain": [
       "'projects:\\n- project_name: System Design\\n  description: Developed system architectures for operational, functional, and physical systems using systems engineering tools and methodologies.\\n  keywords: [System Design, Architecture, Systems Engineering, DOORS]\\n- project_name: Mission Analysis\\n  description: Performed mission engineering and analysis activities, including function analysis, system gap identification, and capabilities decomposition to inform system design decisions.\\n  keywords: [Mission Engineering, Systems Analysis, Function Analysis, Capabilities Decomposition]'"
      ]
     },
     "execution_count": 34,
     "metadata": {},
     "output_type": "execute_result"
    }
   ],
   "source": [
    "ans"
   ]
  },
  {
   "cell_type": "code",
   "execution_count": 36,
   "id": "cd58a1bd",
   "metadata": {},
   "outputs": [],
   "source": [
    "resume_data = yaml.safe_load(ans)\n"
   ]
  },
  {
   "cell_type": "code",
   "execution_count": 38,
   "id": "c49ab92b",
   "metadata": {},
   "outputs": [
    {
     "data": {
      "text/plain": [
       "[{'project_name': 'System Design',\n",
       "  'description': 'Developed system architectures for operational, functional, and physical systems using systems engineering tools and methodologies.',\n",
       "  'keywords': ['System Design',\n",
       "   'Architecture',\n",
       "   'Systems Engineering',\n",
       "   'DOORS']},\n",
       " {'project_name': 'Mission Analysis',\n",
       "  'description': 'Performed mission engineering and analysis activities, including function analysis, system gap identification, and capabilities decomposition to inform system design decisions.',\n",
       "  'keywords': ['Mission Engineering',\n",
       "   'Systems Analysis',\n",
       "   'Function Analysis',\n",
       "   'Capabilities Decomposition']}]"
      ]
     },
     "execution_count": 38,
     "metadata": {},
     "output_type": "execute_result"
    }
   ],
   "source": [
    "resume_data['projects']"
   ]
  },
  {
   "cell_type": "code",
   "execution_count": 39,
   "metadata": {},
   "outputs": [
    {
     "data": {
      "text/plain": [
       "[(np.float32(0.33519638),\n",
       "  {'project_name': 'Mission Analysis',\n",
       "   'description': 'Performed mission engineering and analysis activities, including function analysis, system gap identification, and capabilities decomposition to inform system design decisions.',\n",
       "   'keywords': ['Mission Engineering',\n",
       "    'Systems Analysis',\n",
       "    'Function Analysis',\n",
       "    'Capabilities Decomposition']}),\n",
       " (np.float32(0.27150226),\n",
       "  {'project_name': 'System Design',\n",
       "   'description': 'Developed system architectures for operational, functional, and physical systems using systems engineering tools and methodologies.',\n",
       "   'keywords': ['System Design',\n",
       "    'Architecture',\n",
       "    'Systems Engineering',\n",
       "    'DOORS']})]"
      ]
     },
     "execution_count": 39,
     "metadata": {},
     "output_type": "execute_result"
    }
   ],
   "source": [
    "toppoints(jd_embedding, resume_data['projects'])"
   ]
  },
  {
   "cell_type": "code",
   "execution_count": null,
   "id": "7893a0ab",
   "metadata": {},
   "outputs": [],
   "source": []
  },
  {
   "cell_type": "code",
   "execution_count": null,
   "metadata": {},
   "outputs": [],
   "source": []
  }
 ],
 "metadata": {
  "kernelspec": {
   "display_name": ".venv",
   "language": "python",
   "name": "python3"
  },
  "language_info": {
   "codemirror_mode": {
    "name": "ipython",
    "version": 3
   },
   "file_extension": ".py",
   "mimetype": "text/x-python",
   "name": "python",
   "nbconvert_exporter": "python",
   "pygments_lexer": "ipython3",
   "version": "3.12.3"
  }
 },
 "nbformat": 4,
 "nbformat_minor": 5
}
