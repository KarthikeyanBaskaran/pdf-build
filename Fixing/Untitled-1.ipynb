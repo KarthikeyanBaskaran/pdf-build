{
 "cells": [
  {
   "cell_type": "code",
   "execution_count": 7,
   "id": "52b971b7",
   "metadata": {},
   "outputs": [
    {
     "name": "stderr",
     "output_type": "stream",
     "text": [
      "/home/madhushree/Documents/pdf-build/Fixing/.venv/lib/python3.12/site-packages/tqdm/auto.py:21: TqdmWarning: IProgress not found. Please update jupyter and ipywidgets. See https://ipywidgets.readthedocs.io/en/stable/user_install.html\n",
      "  from .autonotebook import tqdm as notebook_tqdm\n"
     ]
    }
   ],
   "source": [
    "from sentence_transformers import SentenceTransformer, util\n",
    "import numpy as np\n",
    "\n",
    "# Initialize the model\n",
    "model = SentenceTransformer('all-MiniLM-L6-v2')  # Lightweight and good enough"
   ]
  },
  {
   "cell_type": "code",
   "execution_count": 8,
   "id": "eec72ea5",
   "metadata": {},
   "outputs": [],
   "source": [
    "job_description  = \"\"\"About the job\n",
    "Position Overview\n",
    "Calian ITCS is currently seeking Junior and Intermediate Systems Engineering Analysts to perform the following duties:\n",
    "Responsibilities\n",
    "Develop Architecture designs for operational, functional, and physical architectures;\n",
    "Produce views and designs related to interface management for internal and external system interfaces;\n",
    "Develop, capture, modify, manage, and trace requirements;\n",
    "Perform Mission Engineering and Analysis activities (such as functions analysis and development, system gap identification, use case development, and capabilities decomposition);\n",
    "Documenting the analysis, design and test in accordance with development standards.\n",
    "Support Metrics development and presentation of results;\n",
    "Participate in systems and software design and trade studies;\n",
    "Execute written test plans and test procedures;\n",
    "Identify system defects, resolve issues and verify solutions have been correctly implemented;\n",
    "Participate in an Agile team;\n",
    "Qualifications\n",
    "Clearance: NATO Secret; Must be able to obtain and maintain NATO Secret Clearance and a positive Controlled Goods Assessment.\n",
    "Language: English\n",
    "Bachelor's degree or equivalent in Engineering, or an applicable scientific discipline.\n",
    "Minimum 2-3 years System Engineering experience\n",
    "Experience in requirements development and system design\n",
    "Experience and working knowledge of systems engineering tools including DOORS, and team collaboration tools\n",
    "Demonstrated initiative and strong verbal and written communications skills\n",
    "Technical document writing experience\n",
    "The ability to work effectively both independently and in a team environment, with minimum supervision\n",
    "Demonstrated capability of meeting commitments and delivering high quality work products\n",
    "# #ID-LL1#\n",
    "\"\"\""
   ]
  },
  {
   "cell_type": "code",
   "execution_count": 2,
   "id": "005523e5",
   "metadata": {},
   "outputs": [],
   "source": [
    "import yaml \n",
    "yaml_file_path = '/home/madhushree/Documents/pdf-build/Fixing/Resume.yaml'\n",
    "with open(yaml_file_path, 'r') as f:\n",
    "    resume_data = yaml.safe_load(f)\n"
   ]
  },
  {
   "cell_type": "code",
   "execution_count": 9,
   "id": "0084be0c",
   "metadata": {},
   "outputs": [],
   "source": [
    "vestas_bullets  = resume_data['Professional Experience']['Vestas Wind Technology']\n",
    "manpower_bullets = resume_data['Professional Experience']['ManpowerGroup Services']\n",
    "valeo_bullets=resume_data['Professional Experience']['Valeo India']\n",
    "jd_embedding = model.encode(job_description, convert_to_tensor=True)\n"
   ]
  },
  {
   "cell_type": "code",
   "execution_count": 3,
   "id": "5c312fea",
   "metadata": {},
   "outputs": [
    {
     "data": {
      "text/plain": [
       "[{'project_name': 'Meta Financial Dashboard',\n",
       "  'description': 'Developed an interactive Tableau dashboard to analyze key financial KPIs such as P/E Ratio, Current Ratio, and Debt to Equity. Delivered actionable insights that improved financial decision making, enhancing reporting accuracy and strategic planning.',\n",
       "  'keywords': ['Tableau',\n",
       "   'Financial KPIs',\n",
       "   'Dashboarding',\n",
       "   'Strategic Planning']},\n",
       " {'project_name': 'Customer Churn Analysis',\n",
       "  'description': 'Analysed and processed raw input to clean customer data, applied machine learning to predict churn risk, and visualized insights to guide retention strategies.',\n",
       "  'keywords': ['Python',\n",
       "   'Predictive Modeling',\n",
       "   'Customer Analytics',\n",
       "   'Machine Learning']},\n",
       " {'project_name': 'Procurement Analytics',\n",
       "  'description': 'Created a Power BI dashboard to track procurement KPIs, supplier performance, and category spend, providing actionable insights for informed decision-making.',\n",
       "  'keywords': ['Power BI', 'Procurement', 'Analytics', 'KPIs']},\n",
       " {'project_name': 'SAP Data Automation',\n",
       "  'description': 'Developed automation solutions to streamline data management of SAP using Excel VBA and SAP automation features. Enabled seamless updates enhancing operational efficiency and data accuracy across departments.',\n",
       "  'keywords': ['SAP',\n",
       "   'Excel VBA',\n",
       "   'Data Automation',\n",
       "   'Operational Efficiency']},\n",
       " {'project_name': 'Plastic Pollution Overview Dashboard',\n",
       "  'description': 'Created a dynamic Tableau dashboard to visualize global plastic pollution metrics, including waste generation, recycling rates, and environmental impacts. Integrated multiple data sources offering actionable insights for potential stakeholders supporting sustainability efforts.',\n",
       "  'keywords': ['Tableau',\n",
       "   'Environmental Analytics',\n",
       "   'Sustainability',\n",
       "   'Data Visualization']},\n",
       " {'project_name': 'FAANG Forecast Pipeline',\n",
       "  'description': 'Built machine learning models to forecast FAANG stock performance using financial indicators. Performed data collection, cleaning, and transformation. Deployed results to Azure cloud storage for scalable access and reporting in Power BI.',\n",
       "  'keywords': ['Machine Learning',\n",
       "   'Financial Analysis',\n",
       "   'Python',\n",
       "   'Azure',\n",
       "   'Power BI']},\n",
       " {'project_name': 'Speech Form Automation',\n",
       "  'description': 'Developed a speech-to-structured-data tool using Google Speech API to transcribe patient voice queries and leveraged a large language model (LLM) to extract key information and store into SQL Server. Deployed the interface using Streamlit for real-time visualization.',\n",
       "  'keywords': ['Speech Recognition',\n",
       "   'Python',\n",
       "   'Streamlit',\n",
       "   'SQL',\n",
       "   'LLM',\n",
       "   'Data Automation']},\n",
       " {'project_name': 'Financial Simulation Modeling',\n",
       "  'description': 'Developed a hybrid ML-financial model integrating Monte Carlo simulations, CAPM, and technical indicators to generate data-driven, risk-aware investment insights.',\n",
       "  'keywords': ['Python',\n",
       "   'Monte Carlo Simulation',\n",
       "   'CAPM',\n",
       "   'Technical Analysis',\n",
       "   'Financial Modeling',\n",
       "   'Machine Learning']},\n",
       " {'project_name': 'Perception & Sentiment Analysis',\n",
       "  'description': \"Led a data-driven study analyzing META's financial performance and public sentiment using NLP, EDA, and dynamic visualizations to uncover market-driven insights.\",\n",
       "  'keywords': ['NLP',\n",
       "   'Sentiment Analysis',\n",
       "   'Python',\n",
       "   'Tableau',\n",
       "   'Financial Analysis',\n",
       "   'Data Storytelling']},\n",
       " {'project_name': 'Supply Chain Intelligence',\n",
       "  'description': 'Optimized food delivery logistics and rider efficiency by applying ML forecasting, operational analytics, and real-time dashboards to drive data-backed performance improvements.',\n",
       "  'keywords': ['Supply Chain Analytics',\n",
       "   'Machine Learning',\n",
       "   'Python',\n",
       "   'Tableau',\n",
       "   'Forecasting',\n",
       "   'Operational Efficiency']}]"
      ]
     },
     "execution_count": 3,
     "metadata": {},
     "output_type": "execute_result"
    }
   ],
   "source": [
    "resume_data['projects']"
   ]
  },
  {
   "cell_type": "code",
   "execution_count": 11,
   "id": "4196419d",
   "metadata": {},
   "outputs": [],
   "source": [
    "def toppoints(jd_embedding,bullets):  \n",
    "    bullet_embeddings = model.encode(bullets, convert_to_tensor=True)\n",
    "    # Compute cosine similarity scores\n",
    "    similarities = util.pytorch_cos_sim(jd_embedding, bullet_embeddings)[0].cpu().numpy()\n",
    "    # Pair scores with bullets\n",
    "    scored_bullets = list(zip(similarities, bullets))\n",
    "    # Sort by similarity (descending)\n",
    "    sorted_bullets = sorted(scored_bullets, key=lambda x: x[0], reverse=True)\n",
    "    # Top 3 most relevant bullets\n",
    "    return sorted_bullets[:3]\n"
   ]
  },
  {
   "cell_type": "code",
   "execution_count": 13,
   "id": "81df322f",
   "metadata": {},
   "outputs": [],
   "source": [
    "projects = toppoints(jd_embedding,resume_data['projects'])"
   ]
  },
  {
   "cell_type": "code",
   "execution_count": 14,
   "id": "68dbcd9c",
   "metadata": {},
   "outputs": [
    {
     "data": {
      "text/plain": [
       "[{'project_name': 'SAP Data Automation',\n",
       "  'description': 'Developed automation solutions to streamline data management of SAP using Excel VBA and SAP automation features. Enabled seamless updates enhancing operational efficiency and data accuracy across departments.',\n",
       "  'keywords': ['SAP',\n",
       "   'Excel VBA',\n",
       "   'Data Automation',\n",
       "   'Operational Efficiency']},\n",
       " {'project_name': 'Procurement Analytics',\n",
       "  'description': 'Created a Power BI dashboard to track procurement KPIs, supplier performance, and category spend, providing actionable insights for informed decision-making.',\n",
       "  'keywords': ['Power BI', 'Procurement', 'Analytics', 'KPIs']},\n",
       " {'project_name': 'Supply Chain Intelligence',\n",
       "  'description': 'Optimized food delivery logistics and rider efficiency by applying ML forecasting, operational analytics, and real-time dashboards to drive data-backed performance improvements.',\n",
       "  'keywords': ['Supply Chain Analytics',\n",
       "   'Machine Learning',\n",
       "   'Python',\n",
       "   'Tableau',\n",
       "   'Forecasting',\n",
       "   'Operational Efficiency']}]"
      ]
     },
     "execution_count": 14,
     "metadata": {},
     "output_type": "execute_result"
    }
   ],
   "source": [
    "[j for i,j in projects]"
   ]
  },
  {
   "cell_type": "code",
   "execution_count": null,
   "id": "7235e9f9",
   "metadata": {},
   "outputs": [],
   "source": []
  },
  {
   "cell_type": "code",
   "execution_count": null,
   "id": "2a2baced",
   "metadata": {},
   "outputs": [],
   "source": [
    "vestas = toppoints(jd_embedding, vestas_bullets)\n",
    "manpower = toppoints(jd_embedding, manpower_bullets)\n",
    "valeo = toppoints(jd_embedding, valeo_bullets)"
   ]
  },
  {
   "cell_type": "code",
   "execution_count": 37,
   "id": "14d04f6d",
   "metadata": {},
   "outputs": [
    {
     "data": {
      "text/plain": [
       "[(np.float32(0.2893437),\n",
       "  'Optimized material master data accuracy through VBA automation and SAP, improving data consistency and reducing errors by 25%.'),\n",
       " (np.float32(0.2826222),\n",
       "  'Negotiated supplier contracts to achieve significant cost savings and ensure compliance with government policies.'),\n",
       " (np.float32(0.22850567),\n",
       "  'Collaborated with cross-functional teams to develop scalable software solutions for supply chain monitoring, ensuring seamless integration with existing systems.')]"
      ]
     },
     "execution_count": 37,
     "metadata": {},
     "output_type": "execute_result"
    }
   ],
   "source": [
    "manpower"
   ]
  },
  {
   "cell_type": "code",
   "execution_count": 47,
   "id": "c6bdea5e",
   "metadata": {},
   "outputs": [],
   "source": [
    "import yaml \n",
    "feedllm_path = '/home/madhushree/Documents/pdf-build/Fixing/feedllm.yaml'\n",
    "with open(yaml_file_path, 'r') as f:\n",
    "    feedllm = yaml.safe_load(f)"
   ]
  },
  {
   "cell_type": "code",
   "execution_count": 50,
   "id": "dd42c938",
   "metadata": {},
   "outputs": [],
   "source": [
    "feedllm['Professional Experience']['Vestas Wind Technology'] = [b for i,b in vestas]\n",
    "feedllm['Professional Experience']['ManpowerGroup Services'] = [b for i,b in manpower]\n",
    "feedllm['Professional Experience']['Valeo India'] = [b for i,b in valeo]"
   ]
  },
  {
   "cell_type": "code",
   "execution_count": 51,
   "id": "e6ea81cf",
   "metadata": {},
   "outputs": [],
   "source": [
    "with open(feedllm_path, 'w', encoding='utf-8') as f:\n",
    "           yaml.dump(feedllm, f, sort_keys=False, default_flow_style=False)\n",
    "        "
   ]
  },
  {
   "cell_type": "code",
   "execution_count": null,
   "id": "5edce990",
   "metadata": {},
   "outputs": [],
   "source": []
  },
  {
   "cell_type": "code",
   "execution_count": 2,
   "id": "034479a2",
   "metadata": {},
   "outputs": [],
   "source": [
    "def semantic_search(jd_embedding,bullets,num=3):  \n",
    "    bullet_embeddings = model.encode(bullets, convert_to_tensor=True)\n",
    "    # Compute cosine similarity scores\n",
    "    similarities = util.pytorch_cos_sim(jd_embedding, bullet_embeddings)[0].cpu().numpy()\n",
    "    # Pair scores with bullets\n",
    "    scored_bullets = list(zip(similarities, bullets))\n",
    "    # Sort by similarity (descending)\n",
    "    sorted_bullets = sorted(scored_bullets, key=lambda x: x[0], reverse=True)\n",
    "    # Retuen top 3 most relevant points\n",
    "    return sorted_bullets[:num]"
   ]
  },
  {
   "cell_type": "code",
   "execution_count": null,
   "id": "145690a9",
   "metadata": {},
   "outputs": [],
   "source": [
    "jd_embeddings = model.encode(job_description, convert_to_tensor=True)"
   ]
  },
  {
   "cell_type": "code",
   "execution_count": 6,
   "id": "f6db4f7f",
   "metadata": {},
   "outputs": [],
   "source": [
    "import yaml \n",
    "yaml_file_path = '/home/madhushree/Documents/pdf-build/Fixing/Resume.yaml'\n",
    "with open(yaml_file_path, 'r') as f:\n",
    "    resume_data = yaml.safe_load(f)\n",
    "\n",
    "vestas_bullets  = resume_data['Professional Experience']['Vestas Wind Technology']\n"
   ]
  },
  {
   "cell_type": "code",
   "execution_count": 7,
   "id": "fdf06a66",
   "metadata": {},
   "outputs": [
    {
     "data": {
      "text/plain": [
       "[(np.float32(0.31642914),\n",
       "  'Collaborated with cross-functional teams to build scalable tools for requirements management and defect tracking, ensuring alignment with system baselines.'),\n",
       " (np.float32(0.31225318),\n",
       "  'Developed and deployed Python-based automation scripts to streamline requirements traceability and interface validation, improving engineering workflow efficiency.'),\n",
       " (np.float32(0.30801618),\n",
       "  'Automated internal systems engineering documentation processes using Power Query and SharePoint, reducing manual effort and error rate by 30%.')]"
      ]
     },
     "execution_count": 7,
     "metadata": {},
     "output_type": "execute_result"
    }
   ],
   "source": [
    "semantic_search(jd_embeddings, vestas_bullets)"
   ]
  },
  {
   "cell_type": "code",
   "execution_count": null,
   "id": "7e500d6b",
   "metadata": {},
   "outputs": [],
   "source": []
  },
  {
   "cell_type": "code",
   "execution_count": null,
   "id": "af9e16f7",
   "metadata": {},
   "outputs": [],
   "source": []
  },
  {
   "cell_type": "code",
   "execution_count": 12,
   "id": "d827b1b1",
   "metadata": {},
   "outputs": [],
   "source": [
    "from dotenv import load_dotenv\n",
    "from groq import Groq\n",
    "import os\n",
    "\n",
    "load_dotenv() # Load environment variables from a .env file (for the API key)\n",
    "GROQ_API_KEY = os.getenv(\"grok_api\") # Load grok api\n",
    "\n",
    "def get_llm_response(prompt: str) -> str:\n",
    "    \"\"\"Generic function to get a response from the Groq LLM.\"\"\"\n",
    "\n",
    "    client = Groq(api_key=GROQ_API_KEY)\n",
    "    response = client.chat.completions.create(\n",
    "    model=\"llama-3.3-70b-versatile\",\n",
    "    messages=[\n",
    "        {\n",
    "        \"role\": \"system\",\n",
    "        \"content\": \"You are a professional career coach and resume-writing assistant. Your task is to craft strong, impactful, and industry-relevant resume bullet points that make my profile stand out for data analytics, data engineering roles and other type of analyst roles\"\n",
    "    },\n",
    "    {\n",
    "        \"role\": \"user\",\n",
    "        \"content\": prompt}],\n",
    "        temperature=1,\n",
    "        max_tokens=1024,\n",
    "        top_p=1,\n",
    "        stream=True,\n",
    "        stop=None,\n",
    "    )\n",
    "    content = \"\"\n",
    "    for chunk in response:\n",
    "        c = chunk.choices[0].delta.content if chunk.choices[0].delta.content else \"\"\n",
    "        content += c\n",
    "    return content\n"
   ]
  },
  {
   "cell_type": "code",
   "execution_count": 8,
   "id": "b68a5ce4",
   "metadata": {},
   "outputs": [],
   "source": [
    "import yaml \n",
    "feedllm_path = '/home/madhushree/Documents/pdf-build/Fixing/Resume.yaml'\n",
    "with open(feedllm_path, 'r') as f:\n",
    "    resume = yaml.safe_load(f)"
   ]
  },
  {
   "cell_type": "code",
   "execution_count": 9,
   "id": "d07c2f11",
   "metadata": {},
   "outputs": [],
   "source": [
    "resume_data = resume\n",
    "vestas_bullets  = resume_data['Professional Experience']['Vestas Wind Technology']\n",
    "manpower_bullets = resume_data['Professional Experience']['ManpowerGroup Services']\n",
    "valeo_bullets=resume_data['Professional Experience']['Valeo India']\n",
    "projects_bullets = resume_data['projects']"
   ]
  },
  {
   "cell_type": "code",
   "execution_count": 7,
   "id": "45c6d66c",
   "metadata": {},
   "outputs": [
    {
     "data": {
      "text/plain": [
       "{'Vestas Wind Technology': ['Achieved a 15% reduction in procurement costs by developing a data-driven supplier evaluation and conducting detailed cost analysis.',\n",
       "  'Accelerated project timelines by 20% by implementing predictive analytics for demand forecasting enhancing project delivery capacity.',\n",
       "  'Delivered savings of $35M by developing and deploying Python-based automation tools that streamlined procurement workflows and enhanced operational efficiency.',\n",
       "  'Elevated supplier performance monitoring through the implementation of vendor scorecards using Excel and Power BI, providing actionable data visualizations for improved decision-making.',\n",
       "  'Integrated internal systems and procurement processes, leveraging Microsoft Power Query and SharePoint to automate operations and improve data accuracy, leading to a 30% reduction in manual efforts.',\n",
       "  'Developed a comprehensive Power BI procurement dashboard to track KPIs, supplier performance, and category spend, empowering leadership with informed decision-making capabilities.',\n",
       "  'Optimized material master data accuracy through VBA automation and SAP, improving data consistency and reducing errors by 25%.',\n",
       "  'Collaborated with cross-functional teams to develop scalable software solutions for supply chain monitoring, ensuring seamless integration with existing systems.',\n",
       "  'Mitigated supply chain risks by analyzing data and identifying alternative sourcing options, addressing potential delivery bottlenecks.',\n",
       "  'Streamlined RFQ processes using advanced quote comparison tools and automation, cutting processing time by 40%.',\n",
       "  'Negotiated supplier contracts to achieve significant cost savings and ensure compliance with government policies.',\n",
       "  'Improved KPI tracking by automating SLA adherence reporting, increasing stakeholder transparency and reducing manual intervention.',\n",
       "  'Identifying opportunities for process automation and implementing solutions that enhanced scalability and flexibility across procurement functions.',\n",
       "  'Enhanced Agile team efficiency by integrating predictive analytics for backlog prioritization, accelerating sprint delivery by 15%.',\n",
       "  'Developed and deployed Python-based automation scripts to streamline requirements traceability and interface validation, improving engineering workflow efficiency.',\n",
       "  'Created interactive dashboards in Power BI to visualize system component status and performance metrics, supporting data-driven decisions.',\n",
       "  'Automated internal systems engineering documentation processes using Power Query and SharePoint, reducing manual effort and error rate by 30%.',\n",
       "  'Built a comprehensive Power BI dashboard to monitor requirements coverage, system maturity, and integration readiness, supporting stakeholder reporting.',\n",
       "  'Improved configuration management and data consistency across system components by scripting automated validation routines in Python.',\n",
       "  'Collaborated with cross-functional teams to build scalable tools for requirements management and defect tracking, ensuring alignment with system baselines.',\n",
       "  'Mitigated integration risks by conducting detailed system interface analysis and gap identification, resolving 95% of early-stage interoperability issues.']}"
      ]
     },
     "execution_count": 7,
     "metadata": {},
     "output_type": "execute_result"
    }
   ],
   "source": [
    "resume_data['Professional Experience'][0]"
   ]
  },
  {
   "cell_type": "code",
   "execution_count": 24,
   "id": "1b9a5e02",
   "metadata": {},
   "outputs": [
    {
     "data": {
      "text/plain": [
       "[{'project_name': 'SAP Data Automation',\n",
       "  'description': 'Developed automation solutions to streamline data management of SAP using Excel VBA and SAP automation features. Enabled seamless updates enhancing operational efficiency and data accuracy across departments.',\n",
       "  'keywords': ['SAP',\n",
       "   'Excel VBA',\n",
       "   'Data Automation',\n",
       "   'Operational Efficiency']},\n",
       " {'project_name': 'Procurement Analytics',\n",
       "  'description': 'Created a Power BI dashboard to track procurement KPIs, supplier performance, and category spend, providing actionable insights for informed decision-making.',\n",
       "  'keywords': ['Power BI', 'Procurement', 'Analytics', 'KPIs']},\n",
       " {'project_name': 'Supply Chain Intelligence',\n",
       "  'description': 'Optimized food delivery logistics and rider efficiency by applying ML forecasting, operational analytics, and real-time dashboards to drive data-backed performance improvements.',\n",
       "  'keywords': ['Supply Chain Analytics',\n",
       "   'Machine Learning',\n",
       "   'Python',\n",
       "   'Tableau',\n",
       "   'Forecasting',\n",
       "   'Operational Efficiency']}]"
      ]
     },
     "execution_count": 24,
     "metadata": {},
     "output_type": "execute_result"
    }
   ],
   "source": [
    "[j for i,j in projects]"
   ]
  },
  {
   "cell_type": "code",
   "execution_count": 60,
   "metadata": {},
   "outputs": [],
   "source": [
    "def tailored_projects(resume, job_description,projects):\n",
    "    prompt = (f\"\"\"\n",
    "              \n",
    "    **Projects :**\n",
    "    * Generate 2 ATS friednly new projects when some mandatory keywords or technology from the job decription is missing in my work experience and projects. \n",
    "     \n",
    "    \n",
    "    Project Generation Guidelines:\n",
    "        Instructions:\n",
    "        1.The project can be built from data freely avaiable content online by a college graduate.\n",
    "        2. The graduate has ability to learn new technology from online turorials such as youtube\n",
    "        3. projects with difficulty level easy\n",
    "       \n",
    "       \n",
    "        ---\n",
    "        Output Format (YAML - directly parsable):       \n",
    "        projects: \n",
    "        - project_name: <Project Title in 3 words>\n",
    "            description: <Short idea in one line>\n",
    "            keywords: [<keyword1>, <keyword2>, <keyword3>] # Include relevant keywords for each project.\n",
    "              \n",
    "        My Resume:\n",
    "        {resume}\n",
    "\n",
    "        ---\n",
    "        Job Description:\n",
    "        {job_description}\n",
    "\n",
    "        projects:\n",
    "        {projects}\n",
    "                \n",
    "\n",
    "        NO PREAMBLE only yaml\n",
    "\n",
    "        \"\"\")\n",
    "    yaml_output = get_llm_response(prompt)\n",
    "    \n",
    "    return yaml_output"
   ]
  },
  {
   "cell_type": "code",
   "execution_count": 61,
   "metadata": {},
   "outputs": [],
   "source": [
    "ans = tailored_projects(resume, job_description,[j for i,j in projects])"
   ]
  },
  {
   "cell_type": "code",
   "execution_count": 62,
   "id": "cd58a1bd",
   "metadata": {},
   "outputs": [],
   "source": [
    "resume_data = yaml.safe_load(ans)\n"
   ]
  },
  {
   "cell_type": "code",
   "execution_count": 66,
   "id": "c49ab92b",
   "metadata": {},
   "outputs": [],
   "source": [
    "new_projects = resume_data['projects']"
   ]
  },
  {
   "cell_type": "code",
   "execution_count": 72,
   "id": "bf607682",
   "metadata": {},
   "outputs": [],
   "source": [
    "finallist = new_projects + [j for i,j in projects]"
   ]
  },
  {
   "cell_type": "code",
   "execution_count": 73,
   "id": "7893a0ab",
   "metadata": {},
   "outputs": [
    {
     "data": {
      "text/plain": [
       "[(np.float32(0.34851414),\n",
       "  {'project_name': 'Requirements Tracker',\n",
       "   'description': 'Built a requirements management tool using Excel VBA and DOORS to capture, modify, manage, and trace requirements, enhancing collaboration and efficiency in system engineering.',\n",
       "   'keywords': ['Requirements Management',\n",
       "    'Excel VBA',\n",
       "    'DOORS',\n",
       "    'System Engineering']}),\n",
       " (np.float32(0.25770393),\n",
       "  {'project_name': 'System Interface',\n",
       "   'description': 'Designed and developed a system interface management dashboard using Python and Tableau to analyze and visualize internal and external system interfaces.',\n",
       "   'keywords': ['System Interface', 'Python', 'Tableau', 'Dashboarding']}),\n",
       " (np.float32(0.2359829),\n",
       "  {'project_name': 'SAP Data Automation',\n",
       "   'description': 'Developed automation solutions to streamline data management of SAP using Excel VBA and SAP automation features. Enabled seamless updates enhancing operational efficiency and data accuracy across departments.',\n",
       "   'keywords': ['SAP',\n",
       "    'Excel VBA',\n",
       "    'Data Automation',\n",
       "    'Operational Efficiency']})]"
      ]
     },
     "execution_count": 73,
     "metadata": {},
     "output_type": "execute_result"
    }
   ],
   "source": [
    "toppoints(jd_embedding, finallist)"
   ]
  },
  {
   "cell_type": "code",
   "execution_count": 2,
   "id": "9fb29d1b",
   "metadata": {},
   "outputs": [],
   "source": [
    "import numpy as np"
   ]
  },
  {
   "cell_type": "code",
   "execution_count": 3,
   "id": "48b69437",
   "metadata": {},
   "outputs": [],
   "source": [
    "semfinal = [(np.float32(0.34851414),\n",
    "  {'project_name': 'Requirements Tracker',\n",
    "   'description': 'Built a requirements management tool using Excel VBA and DOORS to capture, modify, manage, and trace requirements, enhancing collaboration and efficiency in system engineering.',\n",
    "   'keywords': ['Requirements Management',\n",
    "    'Excel VBA',\n",
    "    'DOORS',\n",
    "    'System Engineering']}),\n",
    " (np.float32(0.25770393),\n",
    "  {'project_name': 'System Interface',\n",
    "   'description': 'Designed and developed a system interface management dashboard using Python and Tableau to analyze and visualize internal and external system interfaces.',\n",
    "   'keywords': ['System Interface', 'Python', 'Tableau', 'Dashboarding']}),\n",
    " (np.float32(0.2359829),\n",
    "  {'project_name': 'SAP Data Automation',\n",
    "   'description': 'Developed automation solutions to streamline data management of SAP using Excel VBA and SAP automation features. Enabled seamless updates enhancing operational efficiency and data accuracy across departments.',\n",
    "   'keywords': ['SAP',\n",
    "    'Excel VBA',\n",
    "    'Data Automation',\n",
    "    'Operational Efficiency']})]"
   ]
  },
  {
   "cell_type": "code",
   "execution_count": 4,
   "id": "e7f40048",
   "metadata": {},
   "outputs": [],
   "source": [
    "final = [j for i,j in semfinal]"
   ]
  },
  {
   "cell_type": "code",
   "execution_count": 5,
   "id": "db8edf20",
   "metadata": {},
   "outputs": [
    {
     "data": {
      "text/plain": [
       "[{'project_name': 'Requirements Tracker',\n",
       "  'description': 'Built a requirements management tool using Excel VBA and DOORS to capture, modify, manage, and trace requirements, enhancing collaboration and efficiency in system engineering.',\n",
       "  'keywords': ['Requirements Management',\n",
       "   'Excel VBA',\n",
       "   'DOORS',\n",
       "   'System Engineering']},\n",
       " {'project_name': 'System Interface',\n",
       "  'description': 'Designed and developed a system interface management dashboard using Python and Tableau to analyze and visualize internal and external system interfaces.',\n",
       "  'keywords': ['System Interface', 'Python', 'Tableau', 'Dashboarding']},\n",
       " {'project_name': 'SAP Data Automation',\n",
       "  'description': 'Developed automation solutions to streamline data management of SAP using Excel VBA and SAP automation features. Enabled seamless updates enhancing operational efficiency and data accuracy across departments.',\n",
       "  'keywords': ['SAP',\n",
       "   'Excel VBA',\n",
       "   'Data Automation',\n",
       "   'Operational Efficiency']}]"
      ]
     },
     "execution_count": 5,
     "metadata": {},
     "output_type": "execute_result"
    }
   ],
   "source": [
    "final"
   ]
  },
  {
   "cell_type": "markdown",
   "id": "b1fcaf3b",
   "metadata": {},
   "source": []
  },
  {
   "cell_type": "code",
   "execution_count": 10,
   "id": "86ff2e67",
   "metadata": {},
   "outputs": [],
   "source": [
    "resume['projects'] = final"
   ]
  },
  {
   "cell_type": "code",
   "execution_count": 11,
   "id": "d4c84de2",
   "metadata": {},
   "outputs": [
    {
     "data": {
      "text/plain": [
       "{'summary': 'Results-driven procurement and data analytics professional with 5+ years of experience in driving business growth through data-driven decision-making, process optimization, and strategic procurement initiatives, leveraging expertise in data analysis, machine learning, and project management to deliver high-impact solutions.',\n",
       " 'skills': [{'name': 'Data Analysis Tools',\n",
       "   'keywords': ['Tableau', 'Power BI', 'Excel', 'Python']},\n",
       "  {'name': 'Programming Languages', 'keywords': ['Python', 'VBA', 'SQL']},\n",
       "  {'name': 'Cloud Platforms',\n",
       "   'keywords': ['Azure', 'Google Cloud', 'SharePoint']},\n",
       "  {'name': 'Project Management',\n",
       "   'keywords': ['Project Coordination',\n",
       "    'Proposal Writing',\n",
       "    'Team Collaboration']},\n",
       "  {'name': 'Methodologies',\n",
       "   'keywords': ['Lean', 'Agile', 'Data-Driven Decision Making']},\n",
       "  {'name': 'Soft Skills',\n",
       "   'keywords': ['Communication', 'Problem-Solving', 'Time Management'],\n",
       "   'Professional Experience': None,\n",
       "   'Vestas Wind Technology': ['Collaborated with cross-functional teams to build scalable tools for requirements management and defect tracking, ensuring alignment with system baselines.',\n",
       "    'Developed and deployed Python-based automation scripts to streamline requirements traceability and interface validation, improving engineering workflow efficiency.',\n",
       "    'Automated internal systems engineering documentation processes using Power Query and SharePoint, reducing manual effort and error rate by 30%.'],\n",
       "   'ManpowerGroup Services': ['Optimized material master data accuracy through VBA automation and SAP, improving data consistency and reducing errors by 25%.',\n",
       "    'Negotiated supplier contracts to achieve significant cost savings and ensure compliance with government policies.',\n",
       "    'Collaborated with cross-functional teams to develop scalable software solutions for supply chain monitoring, ensuring seamless integration with existing systems.'],\n",
       "   'Valeo India': ['Collaborated with cross-functional teams to develop scalable software solutions for supply chain monitoring, ensuring seamless integration with existing systems.',\n",
       "    'Integrated internal systems and procurement processes, leveraging Microsoft Power Query and SharePoint to automate operations and improve data accuracy, leading to a 30% reduction in manual efforts.',\n",
       "    'Optimized material master data accuracy through VBA automation and SAP, improving data consistency and reducing errors by 25%.']}],\n",
       " 'projects': [{'project_name': 'Requirements Tracker',\n",
       "   'description': 'Built a requirements management tool using Excel VBA and DOORS to capture, modify, manage, and trace requirements, enhancing collaboration and efficiency in system engineering.',\n",
       "   'keywords': ['Requirements Management',\n",
       "    'Excel VBA',\n",
       "    'DOORS',\n",
       "    'System Engineering']},\n",
       "  {'project_name': 'System Interface',\n",
       "   'description': 'Designed and developed a system interface management dashboard using Python and Tableau to analyze and visualize internal and external system interfaces.',\n",
       "   'keywords': ['System Interface', 'Python', 'Tableau', 'Dashboarding']},\n",
       "  {'project_name': 'SAP Data Automation',\n",
       "   'description': 'Developed automation solutions to streamline data management of SAP using Excel VBA and SAP automation features. Enabled seamless updates enhancing operational efficiency and data accuracy across departments.',\n",
       "   'keywords': ['SAP',\n",
       "    'Excel VBA',\n",
       "    'Data Automation',\n",
       "    'Operational Efficiency']}]}"
      ]
     },
     "execution_count": 11,
     "metadata": {},
     "output_type": "execute_result"
    }
   ],
   "source": [
    "resume"
   ]
  },
  {
   "cell_type": "code",
   "execution_count": 12,
   "id": "b6567b05",
   "metadata": {},
   "outputs": [],
   "source": [
    "with open(feedllm_path, 'w', encoding='utf-8') as f:\n",
    "           yaml.dump(resume, f, sort_keys=False, default_flow_style=False)"
   ]
  },
  {
   "cell_type": "code",
   "execution_count": null,
   "id": "b9d4a369",
   "metadata": {},
   "outputs": [],
   "source": []
  },
  {
   "cell_type": "code",
   "execution_count": 1,
   "metadata": {},
   "outputs": [],
   "source": [
    "job_description1 = \"\"\"About the job\n",
    "Job Summary:\n",
    "\n",
    "We are looking for a detail-oriented and analytical Data Analyst to collect, process, and perform statistical analyses on large datasets. The ideal candidate has a strong foundation in data analytics, critical thinking skills, and the ability to transform data into actionable insights to support strategic decision-making.\n",
    "\n",
    "\n",
    "Key Responsibilities:\n",
    "\n",
    "Collect, clean, and validate data from multiple sources to ensure accuracy and reliability.\n",
    "Analyze data to identify trends, patterns, and insights that inform business decisions.\n",
    "Develop and maintain dashboards, reports, and data visualizations using tools like Tableau, Power BI, or similar.\n",
    "Work closely with stakeholders to understand data requirements and translate them into technical solutions.\n",
    "Create and maintain documentation related to data processes and analytics.\n",
    "Perform exploratory data analysis (EDA) to uncover new business opportunities.\n",
    "Assist in designing and implementing data models and databases for optimal performance.\n",
    "Required Qualifications:\n",
    "\n",
    "Bachelor’s degree in Data Science, Statistics, Mathematics, Computer Science, Economics, or a related field.\n",
    "Proficiency in data analysis tools and languages such as SQL, Excel, Python, or R.\n",
    "Experience with data visualization tools like Tableau, Power BI, or Looker.\n",
    "Strong understanding of statistical methods and data modelling techniques.\n",
    "Ability to work with large datasets and manage multiple tasks effectively.\n",
    "Strong communication skills with the ability to present complex information clearly.\n",
    "\n",
    "\n",
    "\"\"\"\n"
   ]
  },
  {
   "cell_type": "code",
   "execution_count": 2,
   "metadata": {},
   "outputs": [],
   "source": [
    "job_description2 = \"\"\"\n",
    "About the job\n",
    "Company Description\n",
    "\n",
    "Who We Are\n",
    "\n",
    "One Company. Hundreds of Products. Endless Possibilities. Ply Gem is North America's leading manufacturer of exterior building materials, including windows, siding, stone, and 40 other categories. At Ply Gem, we provide the nation's residential builders, remodelers and architects with access to a comprehensive range of building products. From new construction to repair, remodel and replacement, our full line of building products provide quality and value for all types of projects.\n",
    "\n",
    "Ply Gem Canada is a growing company in the building products industry backed by Cornerstone Building Brands, providing us with stability and strength in the North American market. Cornerstone Building Brands is the largest manufacturer of vinyl windows in North America with brands you’ve come to know and trust. We have endless building product options from standard to specialty to customized to whatever you’re looking for. But it’s our service capabilities that sets us apart.\n",
    "\n",
    "At Ply Gem Canada, we strive to produce a continuous stream of market leading products and services. We are creative and seek to recognize, embrace and apply new ideas and commercialize them more quickly than our competitors. We relentlessly seek to raise the bar on our products and services. We establish a reputation for innovation, quality and service that differentiates us from our competitors and enables us to tailor products and services to be the market leader.\n",
    "\n",
    "Our building solutions are the cornerstone of the communities we serve. We believe every building we create, and every part of that building, positively contributes to communities where people live, work and play.\n",
    "\n",
    "Why Join Our Team\n",
    "\n",
    "Our employees are empowered to make a meaningful impact on our success while pursuing a wide range of opportunities to meet your personal aspirations for development and advancement within a stable, growing Canadian industry leader.\n",
    "\n",
    "What You Can Expect From Our Company\n",
    "\n",
    "You will be Part of a Winning Team\n",
    "You Can Capitalize on Your Opportunities and Make an Impact\n",
    "You Will Be Well Rewarded for Your Contributions to our Success\n",
    "You’ll work for a growing company with an excellent reputation in our sector for providing great products and customer service\n",
    "Competitive and tangible rewards that provide fair compensation relative to expectations and effort including base earnings, benefits for you and your family, and contributions toward your retirement savings\n",
    "Competitive vacation time and flexibility in work schedules and location consistent with your role\n",
    "Resources and support to help you manage your personal wellness.\n",
    "\n",
    "What The Company Expects Of Our Team\n",
    "\n",
    "Bring yourself fully to work each day\n",
    "Playing your role on the team so together we Win as One\n",
    "Welcoming and Driving Change to support our continued evolution\n",
    "Help drive the success of our Canadian Business through living our universal core values\n",
    "Making an Impact to ensure our continued success\n",
    "\n",
    "Job Description\n",
    "\n",
    "Create Purchase Orders for services, tools, projects, kanban and other indirect material required to keep manufacturing and operations running\n",
    "Manage the purchasing cycle, including PO creation, PO follow-up, goods reception, seeking opportunities to establish contract agreements.\n",
    "Ensure accuracy of purchasing and coding information within the system\n",
    "Look for opportunities to automate areas of indirect spending.\n",
    "Advise internal customers on procurement issues, providing support and guidance at all stages of the procurement cycle\n",
    "Monitor inventory levels and order replacement stock as required through Plygem’s software system.\n",
    "Support the Purchasing Manager in selecting suppliers and maintaining supplier relations\n",
    "Monitor Supplier Performance as it relates to delivery, quality and service\n",
    "Supports Plygem’s MRO needs from various departments\n",
    "Develop and maintain inventory controls to support maintenance and other departments’ MRO needs\n",
    "Check and distribute MRO purchased materials upon receipt\n",
    "Create Project (Capex) PO’s\n",
    "Root cause inventory discrepancies and implement corrective measures\n",
    "Work with Maintenance and Finance to develop and maintain minimum spares inventory levels\n",
    "Works in safe and organized manner.\n",
    "\n",
    "This position is based fully onsite.\n",
    "\n",
    "Qualifications\n",
    "\n",
    "Post-secondary degree in Supply Chain Management, Purchasing or related field.\n",
    "Professional certification such as CSCP, CPP or CPIM would be considered an asset.\n",
    "Minimum of 2-3 years of experience in Purchasing / Indirect Spend preferably in a manufacturing maintenance environment\n",
    "Excellent negotiation, analytical, and organizational skills.\n",
    "Knowledge of ERP systems\n",
    "Proficient in Excel\n",
    "Ability to work independently and cross-functionally with various departments.\n",
    "Attention to detail and a problem-solving mindset.\n",
    "\n",
    "Additional Information\n",
    "\n",
    "Ply Gem Canada is committed to an inclusive, equitable and accessible workplace. We encourage applications from all qualified candidates, including those with disabilities. We will accommodate applicants’ needs, upon request, throughout all stages of the recruitment process. Please inform us of the accommodation(s) that you may require. Information received relating to accommodation will be addressed confidentially.\n",
    "\n",
    "\"\"\""
   ]
  },
  {
   "cell_type": "code",
   "execution_count": 3,
   "id": "7dae7775",
   "metadata": {},
   "outputs": [],
   "source": [
    "from dotenv import load_dotenv\n",
    "from groq import Groq\n",
    "import os\n",
    "\n",
    "load_dotenv() # Load environment variables from a .env file (for the API key)\n",
    "GROQ_API_KEY = os.getenv(\"grok_api\") # Load grok api"
   ]
  },
  {
   "cell_type": "code",
   "execution_count": null,
   "metadata": {},
   "outputs": [
    {
     "ename": "SyntaxError",
     "evalue": "invalid syntax. Maybe you meant '==' or ':=' instead of '='? (1390715303.py, line 30)",
     "output_type": "error",
     "traceback": [
      "  \u001b[36mCell\u001b[39m\u001b[36m \u001b[39m\u001b[32mIn[8]\u001b[39m\u001b[32m, line 30\u001b[39m\n\u001b[31m    \u001b[39m\u001b[31mresponse = chunk.choices[0].delta.content or \"\", end=\"\"\u001b[39m\n    ^\n\u001b[31mSyntaxError\u001b[39m\u001b[31m:\u001b[39m invalid syntax. Maybe you meant '==' or ':=' instead of '='?\n"
     ]
    }
   ],
   "source": [
    "from groq import Groq\n",
    "\n",
    "client = Groq(api_key=GROQ_API_KEY)\n",
    "completion = client.chat.completions.create(\n",
    "    model=\"gemma2-9b-it\",\n",
    "    messages=[\n",
    "      {\n",
    "        \"role\": \"user\",\n",
    "        \"content\": \n",
    "\n",
    "        \n",
    "      }\n",
    "    ],\n",
    "    temperature=1,\n",
    "    max_completion_tokens=1024,\n",
    "    top_p=1,\n",
    "    stream=True,\n",
    "    stop=None,\n",
    ")\n",
    "\n",
    "\n"
   ]
  },
  {
   "cell_type": "code",
   "execution_count": 24,
   "metadata": {},
   "outputs": [],
   "source": [
    "prompt = f\"\"\"What is the name of the company based on the below job description? If it does not contain a name return null\n",
    "\n",
    "        {job_description2}\n",
    "        \n",
    "        Output format as valid yaml format\n",
    "       company: \n",
    "        - company name\n",
    "        \n",
    "        NO PREAMBLE \n",
    "        \"\"\""
   ]
  },
  {
   "cell_type": "code",
   "execution_count": 25,
   "id": "b9c65920",
   "metadata": {},
   "outputs": [
    {
     "data": {
      "text/plain": [
       "'company: \\n  - Ply Gem Canada'"
      ]
     },
     "execution_count": 25,
     "metadata": {},
     "output_type": "execute_result"
    }
   ],
   "source": [
    "output = get_llm_response(prompt)\n",
    "output"
   ]
  },
  {
   "cell_type": "code",
   "execution_count": 22,
   "id": "7e13c749",
   "metadata": {},
   "outputs": [],
   "source": [
    "import yaml\n",
    "resume_data = yaml.safe_load(output)\n"
   ]
  },
  {
   "cell_type": "code",
   "execution_count": 23,
   "id": "61a86275",
   "metadata": {},
   "outputs": [
    {
     "data": {
      "text/plain": [
       "{'company': [None]}"
      ]
     },
     "execution_count": 23,
     "metadata": {},
     "output_type": "execute_result"
    }
   ],
   "source": [
    "resume_data"
   ]
  },
  {
   "cell_type": "code",
   "execution_count": 26,
   "id": "c6a1417c",
   "metadata": {},
   "outputs": [],
   "source": [
    "import yaml\n",
    "resume_data = yaml.safe_load(output)\n"
   ]
  },
  {
   "cell_type": "code",
   "execution_count": 29,
   "id": "01c36907",
   "metadata": {},
   "outputs": [
    {
     "data": {
      "text/plain": [
       "'Ply Gem Canada'"
      ]
     },
     "execution_count": 29,
     "metadata": {},
     "output_type": "execute_result"
    }
   ],
   "source": [
    "resume_data['company'][0]"
   ]
  },
  {
   "cell_type": "code",
   "execution_count": null,
   "id": "37e962aa",
   "metadata": {},
   "outputs": [
    {
     "name": "stdout",
     "output_type": "stream",
     "text": [
      "Directory created at: /home/madhushree/Documents/Fulltime/Ply Gem Canada\n"
     ]
    }
   ],
   "source": [
    "import os\n",
    "\n",
    "desired_location = \"/home/madhushree/Documents/Fulltime\"\n",
    "directory_name = resume_data['company'][0]\n",
    "\n",
    "# Construct full path\n",
    "full_path = os.path.join(desired_location, directory_name)\n",
    "\n",
    "# Create directory\n",
    "os.makedirs(full_path, exist_ok=True)\n",
    "\n",
    "print(f\"Directory created at: {full_path}\")\n"
   ]
  }
 ],
 "metadata": {
  "kernelspec": {
   "display_name": ".venv",
   "language": "python",
   "name": "python3"
  },
  "language_info": {
   "codemirror_mode": {
    "name": "ipython",
    "version": 3
   },
   "file_extension": ".py",
   "mimetype": "text/x-python",
   "name": "python",
   "nbconvert_exporter": "python",
   "pygments_lexer": "ipython3",
   "version": "3.12.3"
  }
 },
 "nbformat": 4,
 "nbformat_minor": 5
}
