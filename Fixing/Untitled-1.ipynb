{
 "cells": [
  {
   "cell_type": "code",
   "execution_count": null,
   "id": "6b0f45d1",
   "metadata": {},
   "outputs": [],
   "source": [
    "pip install -U sentence-transformers"
   ]
  },
  {
   "cell_type": "code",
   "execution_count": null,
   "id": "46443c42",
   "metadata": {},
   "outputs": [],
   "source": [
    "import sentence_transformers"
   ]
  },
  {
   "cell_type": "code",
   "execution_count": null,
   "id": "bdb3207b",
   "metadata": {},
   "outputs": [],
   "source": [
    "pip install  hf_xet"
   ]
  },
  {
   "cell_type": "code",
   "execution_count": null,
   "id": "81197c39",
   "metadata": {},
   "outputs": [],
   "source": [
    "!pip install ipywidgets"
   ]
  },
  {
   "cell_type": "code",
   "execution_count": 13,
   "id": "52b971b7",
   "metadata": {},
   "outputs": [],
   "source": [
    "from sentence_transformers import SentenceTransformer, util\n",
    "import numpy as np\n",
    "\n",
    "# Initialize the model\n",
    "model = SentenceTransformer('all-MiniLM-L6-v2')  # Lightweight and good enough"
   ]
  },
  {
   "cell_type": "code",
   "execution_count": 41,
   "id": "eec72ea5",
   "metadata": {},
   "outputs": [],
   "source": [
    "job_description  = \"\"\"About the job\n",
    "Federated Co-operatives Limited (FCL) is hiring a Strategic Sourcing Manager on a permanent basis on our Procurement team.\n",
    "\n",
    "\n",
    "This position is a remote/hybrid opportunity, and the location will be dependent on the successful candidate.\n",
    "\n",
    "\n",
    "We are seeking a Strategic Sourcing Manager addressing Major Projects Namely Energy Road Map - Path to Compliance. The Energy Roadmap focuses on the Cooperative Retailing System’s path to compliance and is the guiding plan to ensure a cleaner and more sustainable tomorrow. The plan outlines individual projects that are critical to success and will help to achieve low-carbon emission targets and compliance obligations. In its essence, the Energy Roadmap focuses on reducing emissions from transportation fuels, maximizing fuel production and distribution assets, and offering a competitive and sustainable path that cares for the environment and meets the needs of Co-op members, customers and western Canadian alike.\n",
    "\n",
    "\n",
    "The role will support executing strategic projects safely, reliably, efficiently and seamlessly handing over facilities to Operations addressing the strategic thrust of the organization. This position will support implementation of the pillars of Supply Chain best practices: Quality Contracting, cost effective Procurement and foolproof transactions. The Strategic Sourcing Manager role will also participate in key project meetings (e.g., kickoffs, progress reviews, risk assessments) to provide real-time contractual guidance.\n",
    "\n",
    "\n",
    "What you’ll do:\n",
    "\n",
    "Ensure SCM industry best practice in play, adhere to governance and develop Capital Projects contracting templates and processes\n",
    "Responsible for Strategy, Contracting Quilt, validating scope\n",
    "Responsible for detailed RFP and sourcing process for engineering and construction scopes of significant value\n",
    "Responsible for evaluation, and contract award recommendation\n",
    "Ensure Contract formation and negotiating complex commercial contracts including NDAs, MSAs, and vendor/supplier agreements\n",
    "Negotiate and manage subcontractor agreements\n",
    "Responsible for Post Award Contract Management & contracts change management\n",
    "Identify potential risk for projects and develop mitigation strategies\n",
    "Develop KPIs to measure success\n",
    "Responsible for claims management where appropriate\n",
    "Collaborate with internal stakeholders including major projects team, legal, finance, refinery operations, to align contractual terms with business objectives.\n",
    "Participate in project meetings (e.g., kick off, progress, clarification, reporting etc.). Provide guidance and interpretation of contractual terms to internal teams\n",
    "Help build complex project documents supporting Key Decision Records\n",
    "Generate opportunities for Indigenous vendors or suppliers\n",
    "Plan and Travel to site and project office when necessary\n",
    "\n",
    "\n",
    "Why it matters:\n",
    "\n",
    "We help local Co-ops grow and thrive by offering a range of professional services, including marketing, market research, information technology, human resources, accounting, risk management and business development.\n",
    "\n",
    "\n",
    "Who you are:\n",
    "\n",
    "You are looking for a career in Supply Chain and:\n",
    "Have 10+ years of relevant progressively responsible experience in Major Projects strategic sourcing, category management or supplier management.\n",
    "Have a Bachelor’s Degree in Business, Commerce, Economics, Engineering or relevant fields (a combination of relevant education and experience may be considered)\n",
    "Experience in the Energy, Oil & Gas, Mining industry preferred. \n",
    "Experience in contract/contractor management in the following areas would be an asset: selection of service providers; clear understanding of specific contractor dynamics (e.g.: union rules/regulations)\n",
    "Certificates in procurement, supply management, inventory management, Lean/Six Sigma, or operational planning are considered assets.\n",
    "MBA/Master’s degree in Business, Supply Chain Management, Finance, or Operations Management is considered an asset.\n",
    "\"\"\""
   ]
  },
  {
   "cell_type": "code",
   "execution_count": 36,
   "id": "28b8d8c3",
   "metadata": {},
   "outputs": [],
   "source": [
    "vestas_bullets = [\"Achieved a 15% reduction in procurement costs by developing a data-driven supplier evaluation and conducting detailed cost analysis.\",\n",
    "\"Accelerated project timelines by 20% by implementing predictive analytics for demand forecasting enhancing project delivery capacity.\",\n",
    "\"Delivered savings of $35M by developing and deploying Python-based automation tools that streamlined procurement workflows and enhanced operational efficiency.\",\n",
    "\"Elevated supplier performance monitoring through the implementation of vendor scorecards using Excel and Power BI, providing actionable data visualizations for improved decision-making.\",\n",
    "\"Integrated internal systems and procurement processes, leveraging Microsoft Power Query and SharePoint to automate operations and improve data accuracy, leading to a 30% reduction in manual efforts.\",\n",
    "\"Developed a comprehensive Power BI procurement dashboard to track KPIs, supplier performance, and category spend, empowering leadership with informed decision-making capabilities.\",\n",
    "\"Optimized material master data accuracy through VBA automation and SAP, improving data consistency and reducing errors by 25%.\",\n",
    "\"Collaborated with cross-functional teams to develop scalable software solutions for supply chain monitoring, ensuring seamless integration with existing systems.\",\n",
    "\"Mitigated supply chain risks by analyzing data and identifying alternative sourcing options, addressing potential delivery bottlenecks.\",\n",
    "\"Streamlined RFQ processes using advanced quote comparison tools and automation, cutting processing time by 40%.\",\n",
    "\"Negotiated supplier contracts to achieve significant cost savings and ensure compliance with government policies.\",\n",
    "\"Improved KPI tracking by automating SLA adherence reporting, increasing stakeholder transparency and reducing manual intervention\",\n",
    "\"Identifying opportunities for process automation and implementing solutions that enhanced scalability and flexibility across procurement functions.\"\n",
    "]"
   ]
  },
  {
   "cell_type": "code",
   "execution_count": 42,
   "id": "ca463ac8",
   "metadata": {},
   "outputs": [],
   "source": [
    "# Convert job description and bullets to embeddings\n",
    "jd_embedding = model.encode(job_description, convert_to_tensor=True)\n",
    "bullet_embeddings = model.encode(vestas_bullets, convert_to_tensor=True)\n"
   ]
  },
  {
   "cell_type": "code",
   "execution_count": 43,
   "id": "afdc14f7",
   "metadata": {},
   "outputs": [],
   "source": [
    "# Compute cosine similarity scores\n",
    "similarities = util.pytorch_cos_sim(jd_embedding, bullet_embeddings)[0].cpu().numpy()\n",
    "\n",
    "# Pair scores with bullets\n",
    "scored_bullets = list(zip(similarities, vestas_bullets))\n",
    "\n",
    "# Sort by similarity (descending)\n",
    "sorted_bullets = sorted(scored_bullets, key=lambda x: x[0], reverse=True)\n",
    "\n",
    "# Top 3 most relevant bullets\n",
    "top_bullets = [b for _, b in sorted_bullets[:3]]\n"
   ]
  },
  {
   "cell_type": "code",
   "execution_count": 44,
   "id": "a9628e7a",
   "metadata": {},
   "outputs": [
    {
     "data": {
      "text/plain": [
       "[(0.49599364,\n",
       "  'Developed a comprehensive Power BI procurement dashboard to track KPIs, supplier performance, and category spend, empowering leadership with informed decision-making capabilities.'),\n",
       " (0.49378097,\n",
       "  'Negotiated supplier contracts to achieve significant cost savings and ensure compliance with government policies.'),\n",
       " (0.47420785,\n",
       "  'Collaborated with cross-functional teams to develop scalable software solutions for supply chain monitoring, ensuring seamless integration with existing systems.'),\n",
       " (0.45838732,\n",
       "  'Mitigated supply chain risks by analyzing data and identifying alternative sourcing options, addressing potential delivery bottlenecks.'),\n",
       " (0.39657113,\n",
       "  'Elevated supplier performance monitoring through the implementation of vendor scorecards using Excel and Power BI, providing actionable data visualizations for improved decision-making.'),\n",
       " (0.3179586,\n",
       "  'Achieved a 15% reduction in procurement costs by developing a data-driven supplier evaluation and conducting detailed cost analysis.'),\n",
       " (0.3121508,\n",
       "  'Identifying opportunities for process automation and implementing solutions that enhanced scalability and flexibility across procurement functions.'),\n",
       " (0.29508498,\n",
       "  'Integrated internal systems and procurement processes, leveraging Microsoft Power Query and SharePoint to automate operations and improve data accuracy, leading to a 30% reduction in manual efforts.'),\n",
       " (0.2738818,\n",
       "  'Accelerated project timelines by 20% by implementing predictive analytics for demand forecasting enhancing project delivery capacity.'),\n",
       " (0.21710154,\n",
       "  'Delivered savings of $35M by developing and deploying Python-based automation tools that streamlined procurement workflows and enhanced operational efficiency.'),\n",
       " (0.18301146,\n",
       "  'Improved KPI tracking by automating SLA adherence reporting, increasing stakeholder transparency and reducing manual intervention'),\n",
       " (0.12252064,\n",
       "  'Optimized material master data accuracy through VBA automation and SAP, improving data consistency and reducing errors by 25%.'),\n",
       " (0.11499823,\n",
       "  'Streamlined RFQ processes using advanced quote comparison tools and automation, cutting processing time by 40%.')]"
      ]
     },
     "execution_count": 44,
     "metadata": {},
     "output_type": "execute_result"
    }
   ],
   "source": [
    "sorted_bullets"
   ]
  },
  {
   "cell_type": "code",
   "execution_count": 45,
   "id": "0cdae52f",
   "metadata": {},
   "outputs": [
    {
     "data": {
      "text/plain": [
       "['Developed a comprehensive Power BI procurement dashboard to track KPIs, supplier performance, and category spend, empowering leadership with informed decision-making capabilities.',\n",
       " 'Negotiated supplier contracts to achieve significant cost savings and ensure compliance with government policies.',\n",
       " 'Collaborated with cross-functional teams to develop scalable software solutions for supply chain monitoring, ensuring seamless integration with existing systems.']"
      ]
     },
     "execution_count": 45,
     "metadata": {},
     "output_type": "execute_result"
    }
   ],
   "source": [
    "top_bullets"
   ]
  },
  {
   "cell_type": "code",
   "execution_count": null,
   "id": "d9d5a16b",
   "metadata": {},
   "outputs": [],
   "source": []
  }
 ],
 "metadata": {
  "kernelspec": {
   "display_name": ".venv",
   "language": "python",
   "name": "python3"
  },
  "language_info": {
   "codemirror_mode": {
    "name": "ipython",
    "version": 3
   },
   "file_extension": ".py",
   "mimetype": "text/x-python",
   "name": "python",
   "nbconvert_exporter": "python",
   "pygments_lexer": "ipython3",
   "version": "3.11.9"
  }
 },
 "nbformat": 4,
 "nbformat_minor": 5
}
