{
 "cells": [
  {
   "cell_type": "code",
   "execution_count": 25,
   "id": "52b971b7",
   "metadata": {},
   "outputs": [],
   "source": [
    "from sentence_transformers import SentenceTransformer, util\n",
    "import numpy as np\n",
    "\n",
    "# Initialize the model\n",
    "model = SentenceTransformer('all-MiniLM-L6-v2')  # Lightweight and good enough"
   ]
  },
  {
   "cell_type": "code",
   "execution_count": 26,
   "id": "eec72ea5",
   "metadata": {},
   "outputs": [],
   "source": [
    "job_description  = \"\"\"About the job\n",
    "Position Overview\n",
    "Calian ITCS is currently seeking Junior and Intermediate Systems Engineering Analysts to perform the following duties:\n",
    "Responsibilities\n",
    "Develop Architecture designs for operational, functional, and physical architectures;\n",
    "Produce views and designs related to interface management for internal and external system interfaces;\n",
    "Develop, capture, modify, manage, and trace requirements;\n",
    "Perform Mission Engineering and Analysis activities (such as functions analysis and development, system gap identification, use case development, and capabilities decomposition);\n",
    "Documenting the analysis, design and test in accordance with development standards.\n",
    "Support Metrics development and presentation of results;\n",
    "Participate in systems and software design and trade studies;\n",
    "Execute written test plans and test procedures;\n",
    "Identify system defects, resolve issues and verify solutions have been correctly implemented;\n",
    "Participate in an Agile team;\n",
    "Qualifications\n",
    "Clearance: NATO Secret; Must be able to obtain and maintain NATO Secret Clearance and a positive Controlled Goods Assessment.\n",
    "Language: English\n",
    "Bachelor's degree or equivalent in Engineering, or an applicable scientific discipline.\n",
    "Minimum 2-3 years System Engineering experience\n",
    "Experience in requirements development and system design\n",
    "Experience and working knowledge of systems engineering tools including DOORS, and team collaboration tools\n",
    "Demonstrated initiative and strong verbal and written communications skills\n",
    "Technical document writing experience\n",
    "The ability to work effectively both independently and in a team environment, with minimum supervision\n",
    "Demonstrated capability of meeting commitments and delivering high quality work products\n",
    "# #ID-LL1#\n",
    "\"\"\""
   ]
  },
  {
   "cell_type": "code",
   "execution_count": 27,
   "id": "005523e5",
   "metadata": {},
   "outputs": [],
   "source": [
    "import yaml \n",
    "yaml_file_path = '/home/madhushree/Documents/pdf-build/Fixing/Resume.yaml'\n",
    "with open(yaml_file_path, 'r') as f:\n",
    "    resume_data = yaml.safe_load(f)\n"
   ]
  },
  {
   "cell_type": "code",
   "execution_count": 28,
   "id": "0084be0c",
   "metadata": {},
   "outputs": [],
   "source": [
    "vestas_bullets  = resume_data['Professional Experience']['Vestas Wind Technology']\n",
    "manpower_bullets = resume_data['Professional Experience']['ManpowerGroup Services']\n",
    "valeo_bullets=resume_data['Professional Experience']['Valeo India']\n",
    "jd_embedding = model.encode(job_description, convert_to_tensor=True)\n"
   ]
  },
  {
   "cell_type": "code",
   "execution_count": null,
   "id": "4196419d",
   "metadata": {},
   "outputs": [],
   "source": [
    "def toppoints(jd_embedding,bullets):  \n",
    "    bullet_embeddings = model.encode(bullets, convert_to_tensor=True)\n",
    "    # Compute cosine similarity scores\n",
    "    similarities = util.pytorch_cos_sim(jd_embedding, bullet_embeddings)[0].cpu().numpy()\n",
    "    # Pair scores with bullets\n",
    "    scored_bullets = list(zip(similarities, vestas_bullets))\n",
    "    # Sort by similarity (descending)\n",
    "    sorted_bullets = sorted(scored_bullets, key=lambda x: x[0], reverse=True)\n",
    "    # Top 3 most relevant bullets\n",
    "    return sorted_bullets[:3]\n"
   ]
  },
  {
   "cell_type": "code",
   "execution_count": 35,
   "id": "2a2baced",
   "metadata": {},
   "outputs": [],
   "source": [
    "vestas = toppoints(jd_embedding, vestas_bullets)\n",
    "manpower = toppoints(jd_embedding, manpower_bullets)\n",
    "valeo = toppoints(jd_embedding, valeo_bullets)"
   ]
  },
  {
   "cell_type": "code",
   "execution_count": 37,
   "id": "14d04f6d",
   "metadata": {},
   "outputs": [
    {
     "data": {
      "text/plain": [
       "[(np.float32(0.2893437),\n",
       "  'Optimized material master data accuracy through VBA automation and SAP, improving data consistency and reducing errors by 25%.'),\n",
       " (np.float32(0.2826222),\n",
       "  'Negotiated supplier contracts to achieve significant cost savings and ensure compliance with government policies.'),\n",
       " (np.float32(0.22850567),\n",
       "  'Collaborated with cross-functional teams to develop scalable software solutions for supply chain monitoring, ensuring seamless integration with existing systems.')]"
      ]
     },
     "execution_count": 37,
     "metadata": {},
     "output_type": "execute_result"
    }
   ],
   "source": [
    "manpower"
   ]
  },
  {
   "cell_type": "code",
   "execution_count": 47,
   "id": "c6bdea5e",
   "metadata": {},
   "outputs": [],
   "source": [
    "import yaml \n",
    "feedllm_path = '/home/madhushree/Documents/pdf-build/Fixing/feedllm.yaml'\n",
    "with open(yaml_file_path, 'r') as f:\n",
    "    feedllm = yaml.safe_load(f)"
   ]
  },
  {
   "cell_type": "code",
   "execution_count": 50,
   "id": "dd42c938",
   "metadata": {},
   "outputs": [],
   "source": [
    "feedllm['Professional Experience']['Vestas Wind Technology'] = [b for i,b in vestas]\n",
    "feedllm['Professional Experience']['ManpowerGroup Services'] = [b for i,b in manpower]\n",
    "feedllm['Professional Experience']['Valeo India'] = [b for i,b in valeo]"
   ]
  },
  {
   "cell_type": "code",
   "execution_count": 51,
   "id": "e6ea81cf",
   "metadata": {},
   "outputs": [],
   "source": [
    "with open(feedllm_path, 'w', encoding='utf-8') as f:\n",
    "           yaml.dump(feedllm, f, sort_keys=False, default_flow_style=False)\n",
    "        "
   ]
  }
 ],
 "metadata": {
  "kernelspec": {
   "display_name": ".venv",
   "language": "python",
   "name": "python3"
  },
  "language_info": {
   "codemirror_mode": {
    "name": "ipython",
    "version": 3
   },
   "file_extension": ".py",
   "mimetype": "text/x-python",
   "name": "python",
   "nbconvert_exporter": "python",
   "pygments_lexer": "ipython3",
   "version": "3.12.3"
  }
 },
 "nbformat": 4,
 "nbformat_minor": 5
}
