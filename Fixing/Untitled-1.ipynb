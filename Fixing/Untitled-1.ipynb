{
 "cells": [
  {
   "cell_type": "code",
   "execution_count": null,
   "id": "6b0f45d1",
   "metadata": {},
   "outputs": [],
   "source": [
    "pip install -U sentence-transformers"
   ]
  },
  {
   "cell_type": "code",
   "execution_count": null,
   "id": "46443c42",
   "metadata": {},
   "outputs": [],
   "source": [
    "import sentence_transformers"
   ]
  },
  {
   "cell_type": "code",
   "execution_count": null,
   "id": "bdb3207b",
   "metadata": {},
   "outputs": [],
   "source": [
    "pip install  hf_xet"
   ]
  },
  {
   "cell_type": "code",
   "execution_count": null,
   "id": "81197c39",
   "metadata": {},
   "outputs": [],
   "source": [
    "!pip install ipywidgets"
   ]
  },
  {
   "cell_type": "code",
   "execution_count": 13,
   "id": "52b971b7",
   "metadata": {},
   "outputs": [],
   "source": [
    "from sentence_transformers import SentenceTransformer, util\n",
    "import numpy as np\n",
    "\n",
    "# Initialize the model\n",
    "model = SentenceTransformer('all-MiniLM-L6-v2')  # Lightweight and good enough"
   ]
  },
  {
   "cell_type": "code",
   "execution_count": 51,
   "id": "eec72ea5",
   "metadata": {},
   "outputs": [],
   "source": [
    "job_description  = \"\"\"About the job\n",
    "About Versapay 🚀\n",
    "\n",
    "For growing businesses that need to accomplish more with less, Versapay’s Accounts Receivable Efficiency Suite simplifies the invoice-to-cash process by automating invoicing, facilitating B2B payments, and streamlining cash application with AI. Versapay integrates natively with top ERPs, while allowing businesses to collect with a self-serve payment portal and collaborate with customers and teammates to resolve what automation alone can’t. Owned by Great Hill Partners, Versapay’s employee base spans the U.S. and Canada with offices in Atlanta and Miami. With 10,000 customers and 5M+ companies transacting, Versapay facilitates 110M+ transactions and $170B+ in payments volume annually\n",
    "\n",
    "Think you might be the next Veep to join? Read on!!\n",
    "\n",
    "How you’ll make a huge impact here – and on your career: \n",
    "\n",
    "This role is all about getting hands-on in designing & coding scalable and highly performant software with a smart, collaborative team. Reporting to our VP of Engineering, Chief Architect, you will participate in innovation research tracks like AI/ML, as well as developing our unified/enterprise product architecture including emphasis on cloud scale performance & scalability roadmap enhancements. You’ll also play a part in pairing, coaching, and mentoring fellow VEEPs (Versapay’s Empowered and Enabled People).\n",
    "\n",
    "We’re interested to hear from individuals who are excited by designing and implementing modern cloud scale architecture/infrastructure processing hundreds of millions of transactions and billions in payment volumes.\n",
    "\n",
    "What You'll Do\n",
    "\n",
    "Drive us forward: Design, develop, and test, product features satisfying business & technical requirements on time and on budget. \n",
    "Develop the big picture: Define & maintain architecture principles, patterns, and standards with particular attention to scalable, and high performing design. \n",
    "Get in the weeds: Triage and correct performance and/or data integrity concerns by reviewing & evaluating code, data patches, system logs, and process/memory/disk consumption utilization. \n",
    "Collaborate across teams: Partner with product managers/analysts, customer care, DevOps, and other engineers on features and support cases, supporting technical decision making, and leading work that affects more and more complex systems and critical areas of our application. \n",
    "Lead research: Provide critical R&D to help us continue to design for scale and reliability as we grow (and we’re growing). \n",
    "Coach and mentor: Provide guidance to junior-intermediate engineers on the team and others when possible. \n",
    "\n",
    "What You'll Bring To The Team\n",
    "\n",
    "Practical experience: Background in computer science engineering and at least 7 years in software engineering under your belt, having written enterprise scale software in an agile test-driven culture that has shipped to market. Experience specifically in Ruby/Rails/Sinatra is a big plus. Proven machine learning integration using traditional techniques and/or AutoML platforms. \n",
    "Deep expertise: Strong knowledge & practice in a variety of technology spanning, algorithms/data-structures, languages (e.g. Ruby, Java, Python, C#), databases (e.g. Postgres, Oracle, SQLServer), operating systems (e.g. Mac, Windows, *nix), and benchmarking tools/techniques. Demonstrated experience leveraging LLMs and LLM cloud providers (e.g. Azure OpenAI, AWS Bedrock) for productivity and product benefit. \n",
    "Communication: Able to effectively deliver written and verbal communications that are clear, compelling, to socialize ideas and get buy-in. \n",
    "Follow-through/execution: Excellent organizational skills, work ethic, and passion to deliver on commitments. \n",
    "Proactiveness and curiosity: Able to work effectively in a team with minimal supervision, using your knowledge to source and resolve problems. \n",
    "Related industry knowledge: Preferably, experience in the Payments Industry and/or PCI/DSS, would be a strong asset. \n",
    "\n",
    "$180,000 - $200,000 a year\n",
    "\"\"\""
   ]
  },
  {
   "cell_type": "code",
   "execution_count": 36,
   "id": "28b8d8c3",
   "metadata": {},
   "outputs": [],
   "source": [
    "vestas_bullets = [\"Achieved a 15% reduction in procurement costs by developing a data-driven supplier evaluation and conducting detailed cost analysis.\",\n",
    "\"Accelerated project timelines by 20% by implementing predictive analytics for demand forecasting enhancing project delivery capacity.\",\n",
    "\"Delivered savings of $35M by developing and deploying Python-based automation tools that streamlined procurement workflows and enhanced operational efficiency.\",\n",
    "\"Elevated supplier performance monitoring through the implementation of vendor scorecards using Excel and Power BI, providing actionable data visualizations for improved decision-making.\",\n",
    "\"Integrated internal systems and procurement processes, leveraging Microsoft Power Query and SharePoint to automate operations and improve data accuracy, leading to a 30% reduction in manual efforts.\",\n",
    "\"Developed a comprehensive Power BI procurement dashboard to track KPIs, supplier performance, and category spend, empowering leadership with informed decision-making capabilities.\",\n",
    "\"Optimized material master data accuracy through VBA automation and SAP, improving data consistency and reducing errors by 25%.\",\n",
    "\"Collaborated with cross-functional teams to develop scalable software solutions for supply chain monitoring, ensuring seamless integration with existing systems.\",\n",
    "\"Mitigated supply chain risks by analyzing data and identifying alternative sourcing options, addressing potential delivery bottlenecks.\",\n",
    "\"Streamlined RFQ processes using advanced quote comparison tools and automation, cutting processing time by 40%.\",\n",
    "\"Negotiated supplier contracts to achieve significant cost savings and ensure compliance with government policies.\",\n",
    "\"Improved KPI tracking by automating SLA adherence reporting, increasing stakeholder transparency and reducing manual intervention\",\n",
    "\"Identifying opportunities for process automation and implementing solutions that enhanced scalability and flexibility across procurement functions.\"\n",
    "]"
   ]
  },
  {
   "cell_type": "code",
   "execution_count": null,
   "id": "8fa952da",
   "metadata": {},
   "outputs": [],
   "source": [
    "ats_bullets = [\n",
    "    \"Reduced procurement costs by 15% ($2.1M annually) by implementing a supplier performance evaluation model and conducting granular cost breakdown analysis across 80+ vendors.\",\n",
    "    \"Accelerated project timelines by 20% by deploying predictive analytics models for demand forecasting, improving supply planning accuracy for over 120 SKUs.\",\n",
    "    \"Delivered $35M in cumulative savings over 2 years by building Python-based automation tools that streamlined PR/PO workflows, cut processing time by 50%, and reduced manual rework.\",\n",
    "    \"Enhanced supplier accountability by creating Excel- and Power BI-based vendor scorecards, improving performance tracking for 100+ vendors and reducing non-compliance incidents by 35%.\",\n",
    "    \"Achieved a 30% reduction in manual operations by automating procurement data pipelines using Microsoft Power Query and SharePoint, increasing reporting speed and data accuracy.\",\n",
    "    \"Developed an interactive Power BI dashboard monitoring 15+ procurement KPIs, supplier performance, and $50M+ in annual spend, supporting faster and data-backed decision-making by leadership.\",\n",
    "    \"Improved material master data accuracy by 25% by automating SAP entries with VBA scripts, minimizing manual input errors across 10K+ records.\",\n",
    "    \"Engineered cross-functional software solutions for supply chain monitoring and reporting, reducing status update turnaround time by 60% and increasing stakeholder visibility.\",\n",
    "    \"Reduced supply chain risk by 40% by identifying alternative sourcing options and building a mitigation matrix to handle vendor delays, improving OTIF (On Time In Full) metrics.\",\n",
    "    \"Shortened RFQ cycle time by 40% (from 5 days to 3 days) by automating quote comparison logic and standardizing supplier templates.\",\n",
    "    \"Negotiated supplier contracts that led to $1.8M in cost savings while ensuring adherence to legal and compliance frameworks.\",\n",
    "    \"Automated SLA tracking and reporting using Power BI and Excel macros, improving KPI visibility and reducing manual tracking time by 70%.\",\n",
    "    \"Led 7+ automation initiatives that increased process efficiency across procurement functions, enhancing scalability and reducing operational workload by ~25%.\",\n",
    "    \"Deployed machine learning models \"\n",
    "]\n",
    "\n",
    "vestas_bullets = ats_bullets \n"
   ]
  },
  {
   "cell_type": "code",
   "execution_count": 64,
   "id": "ca463ac8",
   "metadata": {},
   "outputs": [],
   "source": [
    "# Convert job description and bullets to embeddings\n",
    "jd_embedding = model.encode(job_description, convert_to_tensor=True)\n",
    "bullet_embeddings = model.encode(vestas_bullets, convert_to_tensor=True)\n"
   ]
  },
  {
   "cell_type": "code",
   "execution_count": 65,
   "id": "afdc14f7",
   "metadata": {},
   "outputs": [],
   "source": [
    "# Compute cosine similarity scores\n",
    "similarities = util.pytorch_cos_sim(jd_embedding, bullet_embeddings)[0].cpu().numpy()\n",
    "\n",
    "# Pair scores with bullets\n",
    "scored_bullets = list(zip(similarities, vestas_bullets))\n",
    "\n",
    "# Sort by similarity (descending)\n",
    "sorted_bullets = sorted(scored_bullets, key=lambda x: x[0], reverse=True)\n",
    "\n",
    "# Top 3 most relevant bullets\n",
    "top_bullets = [b for _, b in sorted_bullets[:3]]\n"
   ]
  },
  {
   "cell_type": "code",
   "execution_count": 66,
   "id": "a9628e7a",
   "metadata": {},
   "outputs": [
    {
     "data": {
      "text/plain": [
       "[(0.4303562,\n",
       "  'Delivered $35M in cumulative savings over 2 years by building Python-based automation tools that streamlined PR/PO workflows, cut processing time by 50%, and reduced manual rework.'),\n",
       " (0.3804925,\n",
       "  'Developed an interactive Power BI dashboard monitoring 15+ procurement KPIs, supplier performance, and $50M+ in annual spend, supporting faster and data-backed decision-making by leadership.'),\n",
       " (0.37511218,\n",
       "  'Enhanced supplier accountability by creating Excel- and Power BI-based vendor scorecards, improving performance tracking for 100+ vendors and reducing non-compliance incidents by 35%.'),\n",
       " (0.3579539,\n",
       "  'Led 7+ automation initiatives that increased process efficiency across procurement functions, enhancing scalability and reducing operational workload by ~25%.'),\n",
       " (0.31845355,\n",
       "  'Engineered cross-functional software solutions for supply chain monitoring and reporting, reducing status update turnaround time by 60% and increasing stakeholder visibility.'),\n",
       " (0.30250335,\n",
       "  'Negotiated supplier contracts that led to $1.8M in cost savings while ensuring adherence to legal and compliance frameworks.'),\n",
       " (0.29868475,\n",
       "  'Accelerated project timelines by 20% by deploying predictive analytics models for demand forecasting, improving supply planning accuracy for over 120 SKUs.'),\n",
       " (0.28434548,\n",
       "  'Achieved a 30% reduction in manual operations by automating procurement data pipelines using Microsoft Power Query and SharePoint, increasing reporting speed and data accuracy.'),\n",
       " (0.2830409,\n",
       "  'Reduced supply chain risk by 40% by identifying alternative sourcing options and building a mitigation matrix to handle vendor delays, improving OTIF (On Time In Full) metrics.'),\n",
       " (0.26791114,\n",
       "  'Reduced procurement costs by 15% ($2.1M annually) by implementing a supplier performance evaluation model and conducting granular cost breakdown analysis across 80+ vendors.'),\n",
       " (0.23017876,\n",
       "  'Improved material master data accuracy by 25% by automating SAP entries with VBA scripts, minimizing manual input errors across 10K+ records.'),\n",
       " (0.22413245,\n",
       "  'Automated SLA tracking and reporting using Power BI and Excel macros, improving KPI visibility and reducing manual tracking time by 70%.'),\n",
       " (0.182711,\n",
       "  'Shortened RFQ cycle time by 40% (from 5 days to 3 days) by automating quote comparison logic and standardizing supplier templates.'),\n",
       " (0.15294902, 'Deployed machine learning models ML')]"
      ]
     },
     "execution_count": 66,
     "metadata": {},
     "output_type": "execute_result"
    }
   ],
   "source": [
    "sorted_bullets"
   ]
  },
  {
   "cell_type": "code",
   "execution_count": 55,
   "id": "0cdae52f",
   "metadata": {},
   "outputs": [
    {
     "data": {
      "text/plain": [
       "['Delivered $35M in cumulative savings over 2 years by building Python-based automation tools that streamlined PR/PO workflows, cut processing time by 50%, and reduced manual rework.',\n",
       " 'Developed an interactive Power BI dashboard monitoring 15+ procurement KPIs, supplier performance, and $50M+ in annual spend, supporting faster and data-backed decision-making by leadership.',\n",
       " 'Enhanced supplier accountability by creating Excel- and Power BI-based vendor scorecards, improving performance tracking for 100+ vendors and reducing non-compliance incidents by 35%.']"
      ]
     },
     "execution_count": 55,
     "metadata": {},
     "output_type": "execute_result"
    }
   ],
   "source": [
    "top_bullets"
   ]
  },
  {
   "cell_type": "code",
   "execution_count": null,
   "id": "d9d5a16b",
   "metadata": {},
   "outputs": [],
   "source": []
  }
 ],
 "metadata": {
  "kernelspec": {
   "display_name": ".venv",
   "language": "python",
   "name": "python3"
  },
  "language_info": {
   "codemirror_mode": {
    "name": "ipython",
    "version": 3
   },
   "file_extension": ".py",
   "mimetype": "text/x-python",
   "name": "python",
   "nbconvert_exporter": "python",
   "pygments_lexer": "ipython3",
   "version": "3.11.9"
  }
 },
 "nbformat": 4,
 "nbformat_minor": 5
}
