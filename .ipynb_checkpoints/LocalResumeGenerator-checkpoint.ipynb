{
 "cells": [
  {
   "cell_type": "code",
   "execution_count": 119,
   "metadata": {},
   "outputs": [],
   "source": [
    "!pip install dotenv groq PyYAML weasyprint --quiet"
   ]
  },
  {
   "cell_type": "code",
   "execution_count": 120,
   "metadata": {},
   "outputs": [],
   "source": [
    "import yaml"
   ]
  },
  {
   "cell_type": "code",
   "execution_count": 121,
   "metadata": {
    "id": "6rCgqRLsZqUs"
   },
   "outputs": [
    {
     "data": {
      "text/plain": [
       "True"
      ]
     },
     "execution_count": 121,
     "metadata": {},
     "output_type": "execute_result"
    }
   ],
   "source": [
    "from dotenv import load_dotenv, find_dotenv\n",
    "import os\n",
    "from groq import Groq\n",
    "\n",
    "envpath = find_dotenv()\n",
    "load_dotenv(envpath)"
   ]
  },
  {
   "cell_type": "code",
   "execution_count": 122,
   "metadata": {},
   "outputs": [],
   "source": [
    "jd = input('Enter the job description here')"
   ]
  },
  {
   "cell_type": "code",
   "execution_count": 123,
   "metadata": {},
   "outputs": [],
   "source": [
    "file_path = r'C:\\Users\\karth\\OneDrive\\Documents\\GitHub\\pdf-build\\Resume.txt'\n",
    "with open(file_path, 'r') as file:\n",
    "    MyResume = file.read()"
   ]
  },
  {
   "cell_type": "code",
   "execution_count": 124,
   "metadata": {
    "id": "R2M477ZGcv_h"
   },
   "outputs": [],
   "source": [
    "client = Groq(api_key= os.getenv(\"grok_api\"))\n",
    "\n",
    "completion = client.chat.completions.create(\n",
    "    model=\"llama-3.3-70b-versatile\",\n",
    "    messages=[\n",
    "        {\n",
    "            \"role\": \"system\",\n",
    "            \"content\": \"You are a professional career coach and resume-writing assistant. Your task is to craft strong, impactful, and industry-relevant resume bullet points that make my profile stand out for data analytics, data engineering roles and other type of analyst roles\\n\"\n",
    "        },\n",
    "        {\n",
    "            \"role\": \"user\",\n",
    "            \"content\": f\"\"\"\n",
    "            Instruction\n",
    "            Using the keyword extracted from the job description and my resume combine to generate an ideal resume for the job application.\n",
    "\n",
    "            Resume format:\n",
    "\n",
    "            *Work experience*\n",
    "            Company name\n",
    "            best suited 3 points from my resume and rewrite them to highlight transferable skills and quantify achievements\n",
    "            Use action verbs and measurable results (e.g., reduced, improved, increased by X%).\n",
    "\n",
    "\n",
    "            *Projects*\n",
    "            you can generate new projects with difficulty level easy when some mandatory keywords or technology is missing in my work experience. Make the project title short and crisp( 3 words ). Finally Just choose top suited 3 projects to list.\n",
    "            Title: \n",
    "            short idea in one line\n",
    "\n",
    "            Resume : {MyResume}\n",
    "            JOb Description : {jd}\n",
    "\n",
    "            \"\"\"}\n",
    "\n",
    "    ],\n",
    "    temperature=1,\n",
    "    max_tokens=1024,\n",
    "    top_p=1,\n",
    "    stream=True,\n",
    "    stop=None,\n",
    ")\n",
    "DesiredSkill = \"\"\n",
    "\n",
    "for chunk in completion:\n",
    "    content = chunk.choices[0].delta.content if chunk.choices[0].delta.content else \"\"\n",
    "    DesiredSkill += content"
   ]
  },
  {
   "cell_type": "code",
   "execution_count": 125,
   "metadata": {},
   "outputs": [
    {
     "name": "stdout",
     "output_type": "stream",
     "text": [
      "Based on the job description and your resume, I've crafted a tailored resume with focused bullet points that highlight transferable skills and quantify achievements.\n",
      "\n",
      "**Work Experience:**\n",
      "\n",
      "* **Procurement Engineer, Vestas Wind Technology, India (Nov 2021 – Aug 2023)** \n",
      "    * Managed RFx processes, achieving a 20% reduction in project timelines through predictive analytics and demand forecasting, resulting in enhanced project delivery capacity.\n",
      "    * Developed and deployed Python-based automation tools, streamlining procurement workflows and delivering $35M in savings through operational efficiency improvements.\n",
      "    * Implemented vendor scorecards using Excel and Power BI, providing actionable data visualizations for improved decision-making and elevating supplier performance monitoring.\n",
      "* **Consultant ECM Purchaser, Vestas, ManpowerGroup Services, India (Jan 2021 – Nov 2021)** \n",
      "    * Conducted process optimization analyses, reducing production costs by 10% and improving operational efficiency by 15% through data-driven insights and Lean methodologies.\n",
      "    * Led cross-functional collaboration, deploying cloud-based automation tools and resulting in a 30% increase in team productivity and faster completion of routine tasks.\n",
      "    * Developed and deployed dashboards and reporting tools using Python and Power BI, monitoring KPIs and improving decision-making accuracy by 18%.\n",
      "* **Procurement Engineer, Valeo India, India (Jun 2018 – Jan 2021)** \n",
      "    * Executed RFx processes, achieving 10-15% cost reductions through competitive vendor sourcing and procurement strategies, and improving supply chain efficiency by 20%.\n",
      "    * Built interactive dashboards to monitor procurement KPIs and supplier performance, resulting in a 40% decrease in reporting time and faster decision-making.\n",
      "    * Performed cost benchmarking, identifying outliers and informing pricing strategies through data-driven insights.\n",
      "\n",
      "**Projects:**\n",
      "\n",
      "1. **Sourcing Dashboard**: Developed an interactive Tableau dashboard to analyze key sourcing KPIs, such as spend analysis, supplier scorecards, and contract compliance tracking.\n",
      "2. **RFx Automation**: Built a Python-based automation tool to streamline RFx processes, reducing manual effort and improving response analysis and award decision support.\n",
      "3. **Supplier Performance**: Created a dynamic Power BI dashboard to visualize supplier performance metrics, including on-time delivery, quality ratings, and compliance tracking, enabling data-driven decision-making and supplier evaluation.\n",
      "\n",
      "These bullet points and projects focus on the key skills and requirements mentioned in the job description, such as RFx processes, supplier onboarding, contract management, sourcing analytics, and vendor management. The quantifiable achievements and transferable skills highlighted in these points aim to demonstrate your value as a Strategic Sourcing Specialist and increase your chances of standing out in the application process.\n"
     ]
    }
   ],
   "source": [
    "print(DesiredSkill)"
   ]
  },
  {
   "cell_type": "code",
   "execution_count": 126,
   "metadata": {
    "id": "z5F7_7t5zvXr"
   },
   "outputs": [],
   "source": [
    "client = Groq(api_key= os.getenv(\"grok_api\"))\n",
    "    \n",
    "completion = client.chat.completions.create(\n",
    "    model=\"llama-3.3-70b-versatile\",\n",
    "    messages=[\n",
    "        {\n",
    "            \"role\": \"system\",\n",
    "            \"content\": \"You are a professional career coach and resume-writing assistant. Your task is to craft strong, impactful, and industry-relevant resume bullet points that make my profile stand out for data analytics, data engineering roles, and other types of analyst roles.\"\n",
    "        },\n",
    "        {\n",
    "            \"role\": \"user\",\n",
    "            \"content\": f\"{DesiredSkill}\\n\\nPlease generate the updated resume sections in YAML format using the same structure as provided below. Make sure the output is valid YAML without any markdown formatting (i.e., no triple backticks) so it can be directly loaded by a YAML parser. Also, include keywords from the project as a side heading in the 'projects' section.\\n\\n\"\n",
    "            \"\"\"{'work_experience': [{'title': , \n",
    "                                   'company': , \n",
    "                                   'dates': , \n",
    "                                   'achievements': []}], \n",
    "              'projects': [{'project_name': , \n",
    "                            'description': , \n",
    "                            'keywords': []}]}\"\"\"\n",
    "        }\n",
    "    ],\n",
    "    temperature=1,\n",
    "    max_completion_tokens=1024,\n",
    "    top_p=1,\n",
    "    stream=True,\n",
    "    stop=None,\n",
    ")\n",
    "\n",
    "llm_yaml = \"\"\n",
    "\n",
    "for chunk in completion:\n",
    "    content = chunk.choices[0].delta.content if chunk.choices[0].delta.content else \"\"\n",
    "    llm_yaml += content\n"
   ]
  },
  {
   "cell_type": "code",
   "execution_count": 127,
   "metadata": {},
   "outputs": [
    {
     "name": "stdout",
     "output_type": "stream",
     "text": [
      "work_experience:\n",
      "  - title: Procurement Engineer\n",
      "    company: Vestas Wind Technology, India\n",
      "    dates: Nov 2021 - Aug 2023\n",
      "    achievements:\n",
      "      - Managed RFx processes, achieving a 20% reduction in project timelines through predictive analytics and demand forecasting, resulting in enhanced project delivery capacity.\n",
      "      - Developed and deployed Python-based automation tools, streamlining procurement workflows and delivering $35M in savings through operational efficiency improvements.\n",
      "      - Implemented vendor scorecards using Excel and Power BI, providing actionable data visualizations for improved decision-making and elevating supplier performance monitoring.\n",
      "  - title: Consultant ECM Purchaser\n",
      "    company: Vestas, ManpowerGroup Services, India\n",
      "    dates: Jan 2021 - Nov 2021\n",
      "    achievements:\n",
      "      - Conducted process optimization analyses, reducing production costs by 10% and improving operational efficiency by 15% through data-driven insights and Lean methodologies.\n",
      "      - Led cross-functional collaboration, deploying cloud-based automation tools and resulting in a 30% increase in team productivity and faster completion of routine tasks.\n",
      "      - Developed and deployed dashboards and reporting tools using Python and Power BI, monitoring KPIs and improving decision-making accuracy by 18%.\n",
      "  - title: Procurement Engineer\n",
      "    company: Valeo India, India\n",
      "    dates: Jun 2018 - Jan 2021\n",
      "    achievements:\n",
      "      - Executed RFx processes, achieving 10-15% cost reductions through competitive vendor sourcing and procurement strategies, and improving supply chain efficiency by 20%.\n",
      "      - Built interactive dashboards to monitor procurement KPIs and supplier performance, resulting in a 40% decrease in reporting time and faster decision-making.\n",
      "      - Performed cost benchmarking, identifying outliers and informing pricing strategies through data-driven insights.\n",
      "\n",
      "projects:\n",
      "  - project_name: Sourcing Dashboard\n",
      "    description: Developed an interactive Tableau dashboard to analyze key sourcing KPIs, such as spend analysis, supplier scorecards, and contract compliance tracking.\n",
      "    keywords: [Tableau, Sourcing Analytics, Spend Analysis, Supplier Scorecards, Contract Compliance]\n",
      "  - project_name: RFx Automation\n",
      "    description: Built a Python-based automation tool to streamline RFx processes, reducing manual effort and improving response analysis and award decision support.\n",
      "    keywords: [Python, RFx Automation, Procurement Automation, Supplier Management]\n",
      "  - project_name: Supplier Performance\n",
      "    description: Created a dynamic Power BI dashboard to visualize supplier performance metrics, including on-time delivery, quality ratings, and compliance tracking, enabling data-driven decision-making and supplier evaluation.\n",
      "    keywords: [Power BI, Supplier Performance, On-time Delivery, Quality Ratings, Compliance Tracking]\n"
     ]
    }
   ],
   "source": [
    "print(llm_yaml)"
   ]
  },
  {
   "cell_type": "code",
   "execution_count": 128,
   "metadata": {},
   "outputs": [],
   "source": [
    "client = Groq(api_key= os.getenv(\"grok_api\"))\n",
    "    \n",
    "completion = client.chat.completions.create(\n",
    "    model=\"llama-3.3-70b-versatile\",\n",
    "    messages=[\n",
    "        {\n",
    "            \"role\": \"system\",\n",
    "            \"content\": \"You are a professional career coach and resume-writing assistant. Your task is to craft strong, impactful, and industry-relevant resume bullet points that make my profile stand out for data analytics, data engineering roles, and other types of analyst roles.\"\n",
    "        },\n",
    "        {\n",
    "            \"role\": \"user\",\n",
    "            \"content\": f\"\"\"based on resume and job description i need skills and write a powerful 1-line professional summary that hooks a recruiter in under 10 seconds.\\n\\n\n",
    "            job description{jd}\n",
    "            resume {llm_yaml}\n",
    "            \n",
    "            FORMAT:\n",
    "            summary:\n",
    "            skills:\n",
    "            -  name: maximum 6 names\n",
    "               keywords: [max 3 well suited skills, do not repeat same skills]\n",
    "               \n",
    "            NO PREAMBLE, Yaml format\\n\"\"\"\n",
    "        }\n",
    "    ],\n",
    "    temperature=1,\n",
    "    max_completion_tokens=1024,\n",
    "    top_p=1,\n",
    "    stream=True,\n",
    "    stop=None,\n",
    ")\n",
    "\n",
    "skillyaml = \"\"\n",
    "\n",
    "for chunk in completion:\n",
    "    content = chunk.choices[0].delta.content if chunk.choices[0].delta.content else \"\"\n",
    "    skillyaml += content"
   ]
  },
  {
   "cell_type": "code",
   "execution_count": 129,
   "metadata": {},
   "outputs": [
    {
     "name": "stdout",
     "output_type": "stream",
     "text": [
      "summary: Results-driven Strategic Sourcing Specialist with 4+ years of experience in procurement, vendor management, and data-driven decision-making, leveraging analytical skills to drive cost savings, process improvements, and supplier performance optimization.\n",
      "\n",
      "skills:\n",
      "  - name: Procurement\n",
      "    keywords: [RFx Management, Supplier Onboarding, Contract Lifecycle Management]\n",
      "  - name: Data Analysis\n",
      "    keywords: [Spend Analysis, Pricing Benchmarks, Supplier Scorecards]\n",
      "  - name: Automation\n",
      "    keywords: [Python, Procurement Automation, Workflow Optimization]\n",
      "  - name: Vendor Management\n",
      "    keywords: [Supplier Performance, Contract Compliance, Risk Assessment]\n",
      "  - name: Business Intelligence\n",
      "    keywords: [Power BI, Tableau, Data Visualization]\n",
      "  - name: Strategic Sourcing\n",
      "    keywords: [Cost Savings, Process Improvements, Cross-Functional Collaboration]\n"
     ]
    }
   ],
   "source": [
    "print(skillyaml)"
   ]
  },
  {
   "cell_type": "code",
   "execution_count": 130,
   "metadata": {},
   "outputs": [
    {
     "name": "stdout",
     "output_type": "stream",
     "text": [
      "summary: Results-driven Strategic Sourcing Specialist with 4+ years of experience in procurement, vendor management, and data-driven decision-making, leveraging analytical skills to drive cost savings, process improvements, and supplier performance optimization.\n",
      "\n",
      "skills:\n",
      "  - name: Procurement\n",
      "    keywords: [RFx Management, Supplier Onboarding, Contract Lifecycle Management]\n",
      "  - name: Data Analysis\n",
      "    keywords: [Spend Analysis, Pricing Benchmarks, Supplier Scorecards]\n",
      "  - name: Automation\n",
      "    keywords: [Python, Procurement Automation, Workflow Optimization]\n",
      "  - name: Vendor Management\n",
      "    keywords: [Supplier Performance, Contract Compliance, Risk Assessment]\n",
      "  - name: Business Intelligence\n",
      "    keywords: [Power BI, Tableau, Data Visualization]\n",
      "  - name: Strategic Sourcing\n",
      "    keywords: [Cost Savings, Process Improvements, Cross-Functional Collaboration]\n"
     ]
    }
   ],
   "source": [
    "print(skillyaml)"
   ]
  },
  {
   "cell_type": "code",
   "execution_count": 131,
   "metadata": {},
   "outputs": [],
   "source": [
    "skill_data = yaml.safe_load(skillyaml)"
   ]
  },
  {
   "cell_type": "code",
   "execution_count": 132,
   "metadata": {},
   "outputs": [
    {
     "name": "stdout",
     "output_type": "stream",
     "text": [
      "YAML file updated successfully.\n"
     ]
    }
   ],
   "source": [
    "import yaml\n",
    "\n",
    "yaml_file_path = r'C:\\Users\\karth\\OneDrive\\Documents\\GitHub\\pdf-build\\karthik.yaml'\n",
    "with open(yaml_file_path, 'r') as f:\n",
    "    resume_data = yaml.safe_load(f)\n",
    "\n",
    "exp_data = yaml.safe_load(llm_yaml)\n",
    "skill_data = yaml.safe_load(skillyaml)\n",
    "\n",
    "resume_data['basics']['summary'] = skill_data['summary']\n",
    "\n",
    "#work experience\n",
    "for i in range(len(exp_data['work_experience'])):\n",
    "    resume_data[\"work\"][i]['highlights'] = exp_data['work_experience'][i]['achievements']\n",
    "\n",
    "for i in range(len(exp_data['projects'])):\n",
    "    resume_data['projects'][i]['description'] = exp_data['projects'][i]['description']\n",
    "    resume_data['projects'][i]['keywords'] = exp_data['projects'][i]['keywords']\n",
    "    resume_data['projects'][i]['name'] = exp_data['projects'][i]['project_name']\n",
    "\n",
    "for i in range(len(skill_data['skills'])):\n",
    "    resume_data['skills'][i]['keywords'] = skill_data['skills'][i]['keywords']\n",
    "    resume_data['skills'][i]['name'] = skill_data['skills'][i]['name']\n",
    "    \n",
    "\n",
    "with open(\"output.yaml\", 'w') as f:\n",
    "    yaml.safe_dump(resume_data, f)\n",
    "\n",
    "print(\"YAML file updated successfully.\")\n"
   ]
  },
  {
   "cell_type": "code",
   "execution_count": 133,
   "metadata": {},
   "outputs": [
    {
     "data": {
      "text/plain": [
       "['Conducted process optimization analyses, reducing production costs by 10% and improving operational efficiency by 15% through data-driven insights and Lean methodologies.',\n",
       " 'Led cross-functional collaboration, deploying cloud-based automation tools and resulting in a 30% increase in team productivity and faster completion of routine tasks.',\n",
       " 'Developed and deployed dashboards and reporting tools using Python and Power BI, monitoring KPIs and improving decision-making accuracy by 18%.']"
      ]
     },
     "execution_count": 133,
     "metadata": {},
     "output_type": "execute_result"
    }
   ],
   "source": [
    "resume_data[\"work\"][1]['highlights']"
   ]
  },
  {
   "cell_type": "code",
   "execution_count": 134,
   "metadata": {},
   "outputs": [
    {
     "name": "stdout",
     "output_type": "stream",
     "text": [
      "Generated HTML content:\n",
      "resume.pdf\n",
      "HTML file saved as: template.html\n",
      "SUCCESS: PDF created at resume.pdf\n"
     ]
    }
   ],
   "source": [
    "!python resumy.py build -o resume.pdf output.yaml"
   ]
  }
 ],
 "metadata": {
  "colab": {
   "authorship_tag": "ABX9TyPCaZx/Db0SJumCv0pb9W3i",
   "include_colab_link": true,
   "mount_file_id": "https://github.com/KarthikeyanBaskaran/pdf-build/blob/main/Resume_Generator.ipynb",
   "provenance": []
  },
  "kernelspec": {
   "display_name": "Python 3 (ipykernel)",
   "language": "python",
   "name": "python3"
  },
  "language_info": {
   "codemirror_mode": {
    "name": "ipython",
    "version": 3
   },
   "file_extension": ".py",
   "mimetype": "text/x-python",
   "name": "python",
   "nbconvert_exporter": "python",
   "pygments_lexer": "ipython3",
   "version": "3.11.4"
  }
 },
 "nbformat": 4,
 "nbformat_minor": 1
}
