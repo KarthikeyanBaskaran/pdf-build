{
  "cells": [
    {
      "cell_type": "markdown",
      "metadata": {
        "id": "view-in-github",
        "colab_type": "text"
      },
      "source": [
        "<a href=\"https://colab.research.google.com/github/KarthikeyanBaskaran/pdf-build/blob/main/TerminalBuildCode.ipynb\" target=\"_parent\"><img src=\"https://colab.research.google.com/assets/colab-badge.svg\" alt=\"Open In Colab\"/></a>"
      ]
    },
    {
      "cell_type": "code",
      "source": [
        "from google.colab import drive\n",
        "drive.mount('/content/drive')\n",
        "\n",
        "! apt-get install git"
      ],
      "metadata": {
        "colab": {
          "base_uri": "https://localhost:8080/"
        },
        "id": "7hY7M6jI4pX9",
        "outputId": "faddc053-d2e4-482f-fc32-b9de3e7c81bd"
      },
      "execution_count": 1,
      "outputs": [
        {
          "output_type": "stream",
          "name": "stdout",
          "text": [
            "Mounted at /content/drive\n",
            "Reading package lists... Done\n",
            "Building dependency tree... Done\n",
            "Reading state information... Done\n",
            "git is already the newest version (1:2.34.1-1ubuntu1.12).\n",
            "0 upgraded, 0 newly installed, 0 to remove and 20 not upgraded.\n"
          ]
        }
      ]
    },
    {
      "cell_type": "code",
      "source": [
        "!git clone https://github.com/KarthikeyanBaskaran/pdf-build.git"
      ],
      "metadata": {
        "colab": {
          "base_uri": "https://localhost:8080/"
        },
        "id": "-dh51zyP4Hkw",
        "outputId": "bcb6d114-d67f-4f2a-faf9-0deb64d6c899"
      },
      "execution_count": 13,
      "outputs": [
        {
          "output_type": "stream",
          "name": "stdout",
          "text": [
            "Cloning into 'pdf-build'...\n",
            "remote: Enumerating objects: 51, done.\u001b[K\n",
            "remote: Counting objects: 100% (51/51), done.\u001b[K\n",
            "remote: Compressing objects: 100% (48/48), done.\u001b[K\n",
            "remote: Total 51 (delta 28), reused 12 (delta 0), pack-reused 0 (from 0)\u001b[K\n",
            "Receiving objects: 100% (51/51), 116.52 KiB | 1.94 MiB/s, done.\n",
            "Resolving deltas: 100% (28/28), done.\n"
          ]
        }
      ]
    },
    {
      "cell_type": "code",
      "source": [
        "# Navigate into the cloned repository\n",
        "%cd pdf-build\n",
        "# Now, create the file (if it doesn't exist)\n",
        "!touch hello.txt"
      ],
      "metadata": {
        "id": "xkidxHaWCikA",
        "outputId": "c7e80106-849d-4e0b-a49b-6e9578993402",
        "colab": {
          "base_uri": "https://localhost:8080/"
        }
      },
      "execution_count": 14,
      "outputs": [
        {
          "output_type": "stream",
          "name": "stdout",
          "text": [
            "/content/pdf-build\n"
          ]
        }
      ]
    },
    {
      "cell_type": "code",
      "source": [
        "# Add the file to staging\n",
        "!git add hello.txt"
      ],
      "metadata": {
        "id": "e-W684b6C1g0"
      },
      "execution_count": 15,
      "outputs": []
    },
    {
      "cell_type": "code",
      "source": [
        "!git config --global user.email \"karthikeyanbaskarca@gmail.com\"\n",
        "!git config --global user.name \"KarthikeyanBaskaran\"\n",
        "!git commit -m \"Added hello.txt\""
      ],
      "metadata": {
        "id": "ch7j9N5AC68_",
        "outputId": "ef6ac0c0-d8db-4d6c-e034-592fa51cb80f",
        "colab": {
          "base_uri": "https://localhost:8080/"
        }
      },
      "execution_count": 16,
      "outputs": [
        {
          "output_type": "stream",
          "name": "stdout",
          "text": [
            "[main 32a5c26] Added hello.txt\n",
            " 1 file changed, 0 insertions(+), 0 deletions(-)\n",
            " create mode 100644 hello.txt\n"
          ]
        }
      ]
    },
    {
      "cell_type": "code",
      "source": [
        "!git remote -v"
      ],
      "metadata": {
        "id": "xa5ZanKOEUqP",
        "outputId": "ce9a5500-704d-429b-ce6e-b34411d6e832",
        "colab": {
          "base_uri": "https://localhost:8080/"
        }
      },
      "execution_count": 20,
      "outputs": [
        {
          "output_type": "stream",
          "name": "stdout",
          "text": [
            "origin\thttps://github.com/KarthikeyanBaskaran/pdf-build.git (fetch)\n",
            "origin\thttps://github.com/KarthikeyanBaskaran/pdf-build.git (push)\n"
          ]
        }
      ]
    },
    {
      "cell_type": "code",
      "source": [
        "# Before pushing, make sure you are on the correct branch (e.g., master or main)\n",
        "!git branch\n",
        "\n",
        "# If you need to switch branches (e.g., to main)\n",
        "# !git checkout main  #Replace 'main' with your branch name if needed\n",
        "\n",
        "# #Then push to origin\n",
        "# !git push origin main"
      ],
      "metadata": {
        "id": "IuGo8H_KEKnc",
        "outputId": "81a7b172-fe97-425e-92f8-e4046a7cc245",
        "colab": {
          "base_uri": "https://localhost:8080/"
        }
      },
      "execution_count": 21,
      "outputs": [
        {
          "output_type": "stream",
          "name": "stdout",
          "text": [
            "* \u001b[32mmain\u001b[m\n"
          ]
        }
      ]
    },
    {
      "cell_type": "code",
      "source": [
        "!git push origin main"
      ],
      "metadata": {
        "id": "JTEcC6Y-D78h",
        "outputId": "1c3efb4f-f30c-4410-f786-ff7ac209ee8f",
        "colab": {
          "base_uri": "https://localhost:8080/"
        }
      },
      "execution_count": 22,
      "outputs": [
        {
          "output_type": "stream",
          "name": "stdout",
          "text": [
            "fatal: could not read Username for 'https://github.com': No such device or address\n"
          ]
        }
      ]
    },
    {
      "cell_type": "code",
      "source": [
        "# # prompt: solve the error\n",
        "\n",
        "# from google.colab import drive\n",
        "# drive.mount('/content/drive')\n",
        "\n",
        "# ! apt-get install git\n",
        "# !git clone https://github.com/KarthikeyanBaskaran/pdf-build.git\n",
        "# # Navigate into the cloned repository\n",
        "# %cd pdf-build\n",
        "# # Now, create the file (if it doesn't exist)\n",
        "# !touch hello.txt\n",
        "# # Add the file to staging\n",
        "# !git add hello.txt\n",
        "!git config --global user.email \"karthikeyanbaskarca@gmail.com\"\n",
        "!git config --global user.name \"KarthikeyanBaskaran\"\n",
        "!git commit -m \"Added hello.txt\"\n",
        "!git remote -v\n",
        "\n",
        "# Check the current branch\n",
        "!git branch\n",
        "\n",
        "# Get the correct branch name from the output of the previous command\n",
        "# Replace 'main' with the actual branch name if it is not 'main'\n",
        "!git push origin main\n"
      ],
      "metadata": {
        "id": "-JK85GlHD-RQ",
        "outputId": "f72a08e9-306c-4a3b-b501-c7c8d6ca90e7",
        "colab": {
          "base_uri": "https://localhost:8080/"
        }
      },
      "execution_count": 23,
      "outputs": [
        {
          "output_type": "stream",
          "name": "stdout",
          "text": [
            "On branch main\n",
            "Your branch is ahead of 'origin/main' by 1 commit.\n",
            "  (use \"git push\" to publish your local commits)\n",
            "\n",
            "nothing to commit, working tree clean\n",
            "origin\thttps://github.com/KarthikeyanBaskaran/pdf-build.git (fetch)\n",
            "origin\thttps://github.com/KarthikeyanBaskaran/pdf-build.git (push)\n",
            "* \u001b[32mmain\u001b[m\n",
            "fatal: could not read Username for 'https://github.com': No such device or address\n"
          ]
        }
      ]
    },
    {
      "cell_type": "code",
      "source": [
        "# prompt: fatal: could not read Username for 'https://github.com': No such device or address\n",
        "# still error\n",
        "\n",
        "from google.colab import drive\n",
        "drive.mount('/content/drive')\n",
        "\n",
        "! apt-get install git\n",
        "!git clone https://github.com/KarthikeyanBaskaran/pdf-build.git\n",
        "# Navigate into the cloned repository\n",
        "%cd pdf-build\n",
        "# Now, create the file (if it doesn't exist)\n",
        "!touch hello.txt\n",
        "# Add the file to staging\n",
        "!git add hello.txt\n",
        "!git config --global user.email \"karthikeyanbaskarca@gmail.com\"\n",
        "!git config --global user.name \"KarthikeyanBaskaran\"\n",
        "!git commit -m \"Added hello.txt\"\n",
        "!git remote -v\n",
        "\n",
        "# The following lines are crucial for authentication in Colab\n",
        "!git config --global credential.helper store\n",
        "\n",
        "# Push the changes\n",
        "!git push origin main\n"
      ],
      "metadata": {
        "id": "xU9oHuzCEhR8"
      },
      "execution_count": null,
      "outputs": []
    },
    {
      "cell_type": "code",
      "source": [
        "!git config --global credential.helper store\n"
      ],
      "metadata": {
        "id": "THugrwToEyd0"
      },
      "execution_count": 27,
      "outputs": []
    },
    {
      "cell_type": "code",
      "source": [
        "from google.colab import userdata\n",
        "git_token = userdata.get('git_token')"
      ],
      "metadata": {
        "id": "O38ZyRWcFyZX"
      },
      "execution_count": 33,
      "outputs": []
    },
    {
      "cell_type": "code",
      "source": [
        "!git push https://{git_token}@github.com/KarthikeyanBaskaran/pdf-build.git"
      ],
      "metadata": {
        "id": "_REPnLGpE0me",
        "outputId": "d867b9af-f7ee-4e3e-dd93-38ffd564b617",
        "colab": {
          "base_uri": "https://localhost:8080/"
        }
      },
      "execution_count": 34,
      "outputs": [
        {
          "output_type": "stream",
          "name": "stdout",
          "text": [
            "Everything up-to-date\n"
          ]
        }
      ]
    },
    {
      "cell_type": "code",
      "source": [
        "# Get the current branch\n",
        "current_branch = !git branch --show-current"
      ],
      "metadata": {
        "id": "p9n9C0TIElJh"
      },
      "execution_count": 24,
      "outputs": []
    },
    {
      "cell_type": "code",
      "source": [
        "current_branch"
      ],
      "metadata": {
        "id": "eOJaSzGhEoBG",
        "outputId": "277bd8f5-f9a5-41e5-aa9f-1844945eae5f",
        "colab": {
          "base_uri": "https://localhost:8080/"
        }
      },
      "execution_count": 25,
      "outputs": [
        {
          "output_type": "execute_result",
          "data": {
            "text/plain": [
              "['main']"
            ]
          },
          "metadata": {},
          "execution_count": 25
        }
      ]
    },
    {
      "cell_type": "code",
      "source": [
        "branch_name = current_branch[0]\n",
        "\n",
        "# Push to the correct branch\n",
        "!git push origin {branch_name}"
      ],
      "metadata": {
        "id": "1tpUiiAWEnbF",
        "outputId": "bb26632f-c2f0-4930-c5d6-cd0eb1f62701",
        "colab": {
          "base_uri": "https://localhost:8080/"
        }
      },
      "execution_count": 26,
      "outputs": [
        {
          "output_type": "stream",
          "name": "stdout",
          "text": [
            "fatal: could not read Username for 'https://github.com': No such device or address\n"
          ]
        }
      ]
    },
    {
      "cell_type": "code",
      "source": [
        "# Go back to the root directory of your Google Drive\n",
        "%cd /content\n",
        "\n"
      ],
      "metadata": {
        "id": "C4WERYriDln7",
        "outputId": "fa0c3f96-5a3e-4958-b9ce-c1c6fe653a67",
        "colab": {
          "base_uri": "https://localhost:8080/"
        }
      },
      "execution_count": 11,
      "outputs": [
        {
          "output_type": "stream",
          "name": "stdout",
          "text": [
            "/content\n"
          ]
        }
      ]
    },
    {
      "cell_type": "code",
      "source": [
        "# Remove the cloned repository\n",
        "!rm -rf /content/pdf-build"
      ],
      "metadata": {
        "id": "6HYvQicSDpPy"
      },
      "execution_count": 12,
      "outputs": []
    },
    {
      "cell_type": "code",
      "source": [
        "# prompt: how to remove the repo in drive\n",
        "\n",
        "from google.colab import drive\n",
        "drive.mount('/content/drive')\n",
        "\n",
        "! apt-get install git\n",
        "!git clone https://github.com/KarthikeyanBaskaran/pdf-build.git\n",
        "# Navigate into the cloned repository\n",
        "%cd pdf-build\n",
        "# Now, create the file (if it doesn't exist)\n",
        "!touch hello.txt\n",
        "# Add the file to staging\n",
        "!git add hello.txt\n",
        "!git config --global user.email \"karthikeyanbaskarca@gmail.com\"\n",
        "!git config --global user.name \"KarthikeyanBaskaran\"\n",
        "!git commit -m \"Added hello.txt\"\n",
        "\n",
        "# Go back to the root directory of your Google Drive\n",
        "%cd /content/drive/MyDrive\n",
        "\n",
        "# Remove the cloned repository\n",
        "!rm -rf /content/drive/MyDrive/pdf-build\n"
      ],
      "metadata": {
        "id": "Jcl1lnHLClKb"
      },
      "execution_count": null,
      "outputs": []
    },
    {
      "cell_type": "code",
      "source": [
        "\n",
        "!pip install -q weasyprint\n",
        "!apt-get -qq install -y libpango-1.0-0 libpangocairo-1.0-0\n"
      ],
      "metadata": {
        "id": "cbbr_m4v5vrZ"
      },
      "execution_count": null,
      "outputs": []
    },
    {
      "cell_type": "code",
      "execution_count": null,
      "metadata": {
        "colab": {
          "base_uri": "https://localhost:8080/"
        },
        "id": "wAkBn6j03yRG",
        "outputId": "2073119c-c3c8-4b1f-d1c9-41ae60fb4b8d"
      },
      "outputs": [
        {
          "output_type": "stream",
          "name": "stdout",
          "text": [
            "Generated HTML content:\n",
            "Attempting to create resume PDF at: resume.pdf\n",
            "the directory is \n",
            "SUCCESS: PDF created at resume.pdf\n"
          ]
        }
      ],
      "source": [
        "!python /content/pdf-build/resumy.py build -o resume.pdf /content/pdf-build/karthik.yaml"
      ]
    }
  ],
  "metadata": {
    "kernelspec": {
      "display_name": "test",
      "language": "python",
      "name": "python3"
    },
    "language_info": {
      "codemirror_mode": {
        "name": "ipython",
        "version": 3
      },
      "file_extension": ".py",
      "mimetype": "text/x-python",
      "name": "python",
      "nbconvert_exporter": "python",
      "pygments_lexer": "ipython3",
      "version": "3.11.9"
    },
    "colab": {
      "provenance": [],
      "include_colab_link": true
    }
  },
  "nbformat": 4,
  "nbformat_minor": 0
}