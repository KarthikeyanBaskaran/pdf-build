{
  "cells": [
    {
      "cell_type": "code",
      "execution_count": 34,
      "metadata": {},
      "outputs": [
        {
          "name": "stderr",
          "output_type": "stream",
          "text": [
            "ERROR: Could not find a version that satisfies the requirement yaml (from versions: none)\n",
            "\n",
            "[notice] A new release of pip is available: 25.0.1 -> 25.1.1\n",
            "[notice] To update, run: python.exe -m pip install --upgrade pip\n",
            "ERROR: No matching distribution found for yaml\n"
          ]
        }
      ],
      "source": [
        "!pip install dotenv groq yaml weasyprint --quiet"
      ]
    },
    {
      "cell_type": "code",
      "execution_count": 35,
      "metadata": {
        "id": "6rCgqRLsZqUs"
      },
      "outputs": [
        {
          "data": {
            "text/plain": [
              "True"
            ]
          },
          "execution_count": 35,
          "metadata": {},
          "output_type": "execute_result"
        }
      ],
      "source": [
        "from dotenv import load_dotenv, find_dotenv\n",
        "import os\n",
        "from groq import Groq\n",
        "\n",
        "envpath = find_dotenv()\n",
        "load_dotenv(envpath)"
      ]
    },
    {
      "cell_type": "code",
      "execution_count": 36,
      "metadata": {},
      "outputs": [],
      "source": [
        "jd = input('Enter the job description here')"
      ]
    },
    {
      "cell_type": "code",
      "execution_count": 37,
      "metadata": {},
      "outputs": [],
      "source": [
        "file_path = r'C:\\Users\\karth\\OneDrive\\Documents\\GitHub\\pdf-build\\Resume.txt'\n",
        "with open(file_path, 'r') as file:\n",
        "    MyResume = file.read()"
      ]
    },
    {
      "cell_type": "code",
      "execution_count": 109,
      "metadata": {
        "id": "R2M477ZGcv_h"
      },
      "outputs": [],
      "source": [
        "client = Groq(api_key= os.getenv(\"grok_api\"))\n",
        "\n",
        "completion = client.chat.completions.create(\n",
        "    model=\"llama-3.3-70b-versatile\",\n",
        "    messages=[\n",
        "        {\n",
        "            \"role\": \"system\",\n",
        "            \"content\": \"You are a professional career coach and resume-writing assistant. Your task is to craft strong, impactful, and industry-relevant resume bullet points that make my profile stand out for data analytics, data engineering roles and other type of analyst roles\\n\"\n",
        "        },\n",
        "        {\n",
        "            \"role\": \"user\",\n",
        "            \"content\": f\"\"\"\n",
        "            Instruction\n",
        "            Using the keyword extracted from the job description and my resume combine to generate an ideal resume for the job application.\n",
        "\n",
        "            Resume format:\n",
        "\n",
        "            *Work experience*\n",
        "            Company name\n",
        "            best suited 3 points from my resume and rewrite them to highlight transferable skills and quantify achievements\n",
        "            Use action verbs and measurable results (e.g., reduced, improved, increased by X%).\n",
        "\n",
        "\n",
        "            *Projects*\n",
        "            you can generate new projects with difficulty level easy when some mandatory keywords or technology is missing in my work experience. Make the project title short and crisp( 3 words ). Finally Just choose top suited 3 projects to list.\n",
        "            Title: \n",
        "            short idea in one line\n",
        "\n",
        "            Resume : {MyResume}\n",
        "            JOb Description : {jd}\n",
        "\n",
        "            \"\"\"}\n",
        "\n",
        "    ],\n",
        "    temperature=1,\n",
        "    max_tokens=1024,\n",
        "    top_p=1,\n",
        "    stream=True,\n",
        "    stop=None,\n",
        ")\n",
        "DesiredSkill = \"\"\n",
        "\n",
        "for chunk in completion:\n",
        "    content = chunk.choices[0].delta.content if chunk.choices[0].delta.content else \"\"\n",
        "    DesiredSkill += content"
      ]
    },
    {
      "cell_type": "code",
      "execution_count": 110,
      "metadata": {},
      "outputs": [
        {
          "name": "stdout",
          "output_type": "stream",
          "text": [
            "Based on the job description and your resume, I've crafted a strong and impactful resume that highlights your transferable skills and quantifiable achievements for a Data Analytics, Data Engineering, or Analyst role.\n",
            "\n",
            "**Work Experience:**\n",
            "\n",
            "* **Procurement Engineer, Vestas Wind Technology, India (Nov 2021 – Aug 2023)**\n",
            "\t+ Developed and deployed data-driven supplier evaluation frameworks, resulting in a 15% reduction in procurement costs and a 20% acceleration in project timelines.\n",
            "\t+ Designed and implemented predictive analytics models for demand forecasting, enhancing project delivery capacity and reducing manual efforts by 30%.\n",
            "\t+ Created and automated Python-based procurement workflows, resulting in $35M in savings and a 25% reduction in manual errors.\n",
            "* **Consultant ECM Purchaser, Vestas, ManpowerGroup Services, India (Jan 2021 – Nov 2021)**\n",
            "\t+ Conducted data-driven process optimization analyses, resulting in a 10% reduction in production costs and a 15% improvement in operational efficiency.\n",
            "\t+ Developed and deployed cloud-based automation tools, increasing team productivity by 30% and reducing manual effort by 25%.\n",
            "\t+ Built and maintained interactive dashboards using Power BI and Python, enabling data-driven decision-making and improving stakeholder engagement by 12%.\n",
            "* **Procurement Engineer, Valeo India, India (Jun 2018 – Jan 2021)**\n",
            "\t+ Managed RFx processes, achieving 10-15% cost reductions through competitive vendor sourcing and procurement strategies.\n",
            "\t+ Developed and implemented data-driven RFx processes, resulting in an 8-12% reduction in part costs and a 20% improvement in supply chain efficiency.\n",
            "\t+ Created and maintained interactive dashboards to monitor procurement KPIs and supplier performance, reducing reporting time by 40% and improving decision-making accuracy.\n",
            "\n",
            "**Projects:**\n",
            "\n",
            "1. **Meta Financial Dashboard**: Developed an interactive Tableau dashboard to analyze key financial KPIs, delivering actionable insights that improved financial decision-making and strategic planning.\n",
            "2. **Customer Churn Analysis**: Analyzed and processed customer data, applying machine learning models to predict churn risk and visualizing insights to guide retention strategies.\n",
            "3. **Vestas KPI Tracking**: Automated employee data collection, analysis, and visualization processes using Power BI, Python, and Excel, improving traceability and key metric visibility for senior management decision-making.\n",
            "\n",
            "I've highlighted your experience in data-driven decision-making, process optimization, and automation, as well as your skills in data analysis, visualization, and machine learning. I've also emphasized your ability to work with cross-functional teams, communicate effectively, and drive business outcomes through data-driven insights.\n"
          ]
        }
      ],
      "source": [
        "print(DesiredSkill)"
      ]
    },
    {
      "cell_type": "code",
      "execution_count": 111,
      "metadata": {
        "id": "z5F7_7t5zvXr"
      },
      "outputs": [],
      "source": [
        "client = Groq(api_key= os.getenv(\"grok_api\"))\n",
        "    \n",
        "completion = client.chat.completions.create(\n",
        "    model=\"llama-3.3-70b-versatile\",\n",
        "    messages=[\n",
        "        {\n",
        "            \"role\": \"system\",\n",
        "            \"content\": \"You are a professional career coach and resume-writing assistant. Your task is to craft strong, impactful, and industry-relevant resume bullet points that make my profile stand out for data analytics, data engineering roles, and other types of analyst roles.\"\n",
        "        },\n",
        "        {\n",
        "            \"role\": \"user\",\n",
        "            \"content\": f\"{DesiredSkill}\\n\\nPlease generate the updated resume sections in YAML format using the same structure as provided below. Make sure the output is valid YAML without any markdown formatting (i.e., no triple backticks) so it can be directly loaded by a YAML parser. Also, include keywords from the project as a side heading in the 'projects' section.\\n\\n\"\n",
        "            \"\"\"{'work_experience': [{'title': , \n",
        "                                   'company': , \n",
        "                                   'dates': , \n",
        "                                   'achievements': []}], \n",
        "              'projects': [{'project_name': , \n",
        "                            'description': , \n",
        "                            'keywords': []}]}\"\"\"\n",
        "        }\n",
        "    ],\n",
        "    temperature=1,\n",
        "    max_completion_tokens=1024,\n",
        "    top_p=1,\n",
        "    stream=True,\n",
        "    stop=None,\n",
        ")\n",
        "\n",
        "llm_yaml = \"\"\n",
        "\n",
        "for chunk in completion:\n",
        "    content = chunk.choices[0].delta.content if chunk.choices[0].delta.content else \"\"\n",
        "    llm_yaml += content\n"
      ]
    },
    {
      "cell_type": "code",
      "execution_count": 112,
      "metadata": {},
      "outputs": [
        {
          "name": "stdout",
          "output_type": "stream",
          "text": [
            "work_experience:\n",
            "  - title: Procurement Engineer\n",
            "    company: Vestas Wind Technology, India\n",
            "    dates: Nov 2021 - Aug 2023\n",
            "    achievements:\n",
            "      - Developed and deployed data-driven supplier evaluation frameworks, resulting in a 15% reduction in procurement costs and a 20% acceleration in project timelines.\n",
            "      - Designed and implemented predictive analytics models for demand forecasting, enhancing project delivery capacity and reducing manual efforts by 30%.\n",
            "      - Created and automated Python-based procurement workflows, resulting in $35M in savings and a 25% reduction in manual errors.\n",
            "  - title: Consultant ECM Purchaser\n",
            "    company: Vestas, ManpowerGroup Services, India\n",
            "    dates: Jan 2021 - Nov 2021\n",
            "    achievements:\n",
            "      - Conducted data-driven process optimization analyses, resulting in a 10% reduction in production costs and a 15% improvement in operational efficiency.\n",
            "      - Developed and deployed cloud-based automation tools, increasing team productivity by 30% and reducing manual effort by 25%.\n",
            "      - Built and maintained interactive dashboards using Power BI and Python, enabling data-driven decision-making and improving stakeholder engagement by 12%.\n",
            "  - title: Procurement Engineer\n",
            "    company: Valeo India, India\n",
            "    dates: Jun 2018 - Jan 2021\n",
            "    achievements:\n",
            "      - Managed RFx processes, achieving 10-15% cost reductions through competitive vendor sourcing and procurement strategies.\n",
            "      - Developed and implemented data-driven RFx processes, resulting in an 8-12% reduction in part costs and a 20% improvement in supply chain efficiency.\n",
            "      - Created and maintained interactive dashboards to monitor procurement KPIs and supplier performance, reducing reporting time by 40% and improving decision-making accuracy.\n",
            "projects:\n",
            "  - project_name: Meta Financial Dashboard\n",
            "    description: Developed an interactive Tableau dashboard to analyze key financial KPIs, delivering actionable insights that improved financial decision-making and strategic planning.\n",
            "    keywords: [Tableau, Financial KPIs, Data Visualization, Financial Analysis]\n",
            "  - project_name: Customer Churn Analysis\n",
            "    description: Analyzed and processed customer data, applying machine learning models to predict churn risk and visualizing insights to guide retention strategies.\n",
            "    keywords: [Machine Learning, Customer Churn, Data Analysis, Predictive Modeling]\n",
            "  - project_name: Vestas KPI Tracking\n",
            "    description: Automated employee data collection, analysis, and visualization processes using Power BI, Python, and Excel, improving traceability and key metric visibility for senior management decision-making.\n",
            "    keywords: [Power BI, Python, Excel, Data Automation, KPI Tracking]\n"
          ]
        }
      ],
      "source": [
        "print(llm_yaml)"
      ]
    },
    {
      "cell_type": "code",
      "execution_count": 113,
      "metadata": {},
      "outputs": [],
      "source": [
        "client = Groq(api_key= os.getenv(\"grok_api\"))\n",
        "    \n",
        "completion = client.chat.completions.create(\n",
        "    model=\"llama-3.3-70b-versatile\",\n",
        "    messages=[\n",
        "        {\n",
        "            \"role\": \"system\",\n",
        "            \"content\": \"You are a professional career coach and resume-writing assistant. Your task is to craft strong, impactful, and industry-relevant resume bullet points that make my profile stand out for data analytics, data engineering roles, and other types of analyst roles.\"\n",
        "        },\n",
        "        {\n",
        "            \"role\": \"user\",\n",
        "            \"content\": f\"\"\"based on resume and job description i need skills and write a powerful 1-line professional summary that hooks a recruiter in under 10 seconds.\\n\\n\n",
        "            job description{jd}\n",
        "            resume {llm_yaml}\n",
        "            \n",
        "            FORMAT:\n",
        "            summary:\n",
        "            skills:\n",
        "            -  name: maximum 6 names\n",
        "               keywords: [max 3 well suited skills, do not repeat same skills]\n",
        "               \n",
        "            NO PREAMBLE, Yaml format\\n\"\"\"\n",
        "        }\n",
        "    ],\n",
        "    temperature=1,\n",
        "    max_completion_tokens=1024,\n",
        "    top_p=1,\n",
        "    stream=True,\n",
        "    stop=None,\n",
        ")\n",
        "\n",
        "skillyaml = \"\"\n",
        "\n",
        "for chunk in completion:\n",
        "    content = chunk.choices[0].delta.content if chunk.choices[0].delta.content else \"\"\n",
        "    skillyaml += content"
      ]
    },
    {
      "cell_type": "code",
      "execution_count": 114,
      "metadata": {},
      "outputs": [
        {
          "name": "stdout",
          "output_type": "stream",
          "text": [
            "summary: Results-driven analytics professional with 4+ years of experience in driving business growth through data-driven decision-making, process optimization, and predictive modeling, seeking a Financial Management Associate role at EY.\n",
            "\n",
            "skills:\n",
            "- name: Data Analysis\n",
            "  keywords: [Data Visualization, Predictive Modeling, Financial Analysis]\n",
            "- name: Process Optimization\n",
            "  keywords: [Operations Management, Supply Chain Efficiency, Cost Reduction]\n",
            "- name: Business Intelligence\n",
            "  keywords: [Power BI, Tableau, Data Automation]\n",
            "- name: Predictive Modeling\n",
            "  keywords: [Machine Learning, Customer Churn, Risk Analysis]\n",
            "- name: Procurement Management\n",
            "  keywords: [Supplier Evaluation, RFx Processes, Contract Management]\n",
            "- name: Financial Management\n",
            "  keywords: [Financial Planning, Budgeting, Forecasting]\n"
          ]
        }
      ],
      "source": [
        "print(skillyaml)"
      ]
    },
    {
      "cell_type": "code",
      "execution_count": 115,
      "metadata": {},
      "outputs": [
        {
          "name": "stdout",
          "output_type": "stream",
          "text": [
            "summary: Results-driven analytics professional with 4+ years of experience in driving business growth through data-driven decision-making, process optimization, and predictive modeling, seeking a Financial Management Associate role at EY.\n",
            "\n",
            "skills:\n",
            "- name: Data Analysis\n",
            "  keywords: [Data Visualization, Predictive Modeling, Financial Analysis]\n",
            "- name: Process Optimization\n",
            "  keywords: [Operations Management, Supply Chain Efficiency, Cost Reduction]\n",
            "- name: Business Intelligence\n",
            "  keywords: [Power BI, Tableau, Data Automation]\n",
            "- name: Predictive Modeling\n",
            "  keywords: [Machine Learning, Customer Churn, Risk Analysis]\n",
            "- name: Procurement Management\n",
            "  keywords: [Supplier Evaluation, RFx Processes, Contract Management]\n",
            "- name: Financial Management\n",
            "  keywords: [Financial Planning, Budgeting, Forecasting]\n"
          ]
        }
      ],
      "source": [
        "print(skillyaml)"
      ]
    },
    {
      "cell_type": "code",
      "execution_count": 116,
      "metadata": {},
      "outputs": [],
      "source": [
        "skill_data = yaml.safe_load(skillyaml)"
      ]
    },
    {
      "cell_type": "code",
      "execution_count": 117,
      "metadata": {},
      "outputs": [
        {
          "name": "stdout",
          "output_type": "stream",
          "text": [
            "YAML file updated successfully.\n"
          ]
        }
      ],
      "source": [
        "import yaml\n",
        "\n",
        "yaml_file_path = r'C:\\Users\\karth\\OneDrive\\Documents\\GitHub\\pdf-build\\karthik.yaml'\n",
        "with open(yaml_file_path, 'r') as f:\n",
        "    resume_data = yaml.safe_load(f)\n",
        "\n",
        "exp_data = yaml.safe_load(llm_yaml)\n",
        "skill_data = yaml.safe_load(skillyaml)\n",
        "\n",
        "resume_data['basics']['summary'] = skill_data['summary']\n",
        "\n",
        "#work experience\n",
        "for i in range(len(exp_data['work_experience'])):\n",
        "    resume_data[\"work\"][i]['highlights'] = exp_data['work_experience'][i]['achievements']\n",
        "\n",
        "for i in range(len(exp_data['projects'])):\n",
        "    resume_data['projects'][i]['description'] = exp_data['projects'][i]['description']\n",
        "    resume_data['projects'][i]['keywords'] = exp_data['projects'][i]['keywords']\n",
        "    resume_data['projects'][i]['name'] = exp_data['projects'][i]['project_name']\n",
        "\n",
        "for i in range(len(skill_data['skills'])):\n",
        "    resume_data['skills'][i]['keywords'] = skill_data['skills'][i]['keywords']\n",
        "    resume_data['skills'][i]['name'] = skill_data['skills'][i]['name']\n",
        "    \n",
        "\n",
        "with open(\"output.yaml\", 'w') as f:\n",
        "    yaml.safe_dump(resume_data, f)\n",
        "\n",
        "print(\"YAML file updated successfully.\")\n"
      ]
    },
    {
      "cell_type": "code",
      "execution_count": 118,
      "metadata": {},
      "outputs": [
        {
          "data": {
            "text/plain": [
              "['Conducted data-driven process optimization analyses, resulting in a 10% reduction in production costs and a 15% improvement in operational efficiency.',\n",
              " 'Developed and deployed cloud-based automation tools, increasing team productivity by 30% and reducing manual effort by 25%.',\n",
              " 'Built and maintained interactive dashboards using Power BI and Python, enabling data-driven decision-making and improving stakeholder engagement by 12%.']"
            ]
          },
          "execution_count": 118,
          "metadata": {},
          "output_type": "execute_result"
        }
      ],
      "source": [
        "resume_data[\"work\"][1]['highlights']"
      ]
    },
    {
      "cell_type": "code",
      "execution_count": 119,
      "metadata": {},
      "outputs": [
        {
          "name": "stdout",
          "output_type": "stream",
          "text": [
            "Generated HTML content:\n",
            "resume.pdf\n",
            "HTML file saved as: template.html\n",
            "SUCCESS: PDF created at resume.pdf\n"
          ]
        }
      ],
      "source": [
        "!python resumy.py build -o resume.pdf output.yaml"
      ]
    },
    {
      "cell_type": "code",
      "execution_count": 108,
      "metadata": {},
      "outputs": [],
      "source": [
        "from weasyprint import HTML\n",
        "css_path = r\"C:\\Users\\karth\\OneDrive\\Documents\\GitHub\\pdf-build\\themes\\prairie\\theme.css\"\n",
        "html = HTML(r\"C:\\Users\\karth\\OneDrive\\Documents\\GitHub\\pdf-build\\template.html\")\n",
        "html.write_pdf(\"testing.pdf\",stylesheets=[css_path])\n"
      ]
    }
  ],
  "metadata": {
    "colab": {
      "authorship_tag": "ABX9TyPCaZx/Db0SJumCv0pb9W3i",
      "include_colab_link": true,
      "mount_file_id": "https://github.com/KarthikeyanBaskaran/pdf-build/blob/main/Resume_Generator.ipynb",
      "provenance": []
    },
    "kernelspec": {
      "display_name": ".venv",
      "language": "python",
      "name": "python3"
    },
    "language_info": {
      "codemirror_mode": {
        "name": "ipython",
        "version": 3
      },
      "file_extension": ".py",
      "mimetype": "text/x-python",
      "name": "python",
      "nbconvert_exporter": "python",
      "pygments_lexer": "ipython3",
      "version": "3.11.9"
    }
  },
  "nbformat": 4,
  "nbformat_minor": 0
}
