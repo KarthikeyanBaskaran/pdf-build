{
 "cells": [
  {
   "cell_type": "code",
   "execution_count": 49,
   "metadata": {},
   "outputs": [],
   "source": [
    "!pip install dotenv groq PyYAML weasyprint --quiet"
   ]
  },
  {
   "cell_type": "code",
   "execution_count": 50,
   "metadata": {},
   "outputs": [],
   "source": [
    "import yaml"
   ]
  },
  {
   "cell_type": "code",
   "execution_count": 51,
   "metadata": {
    "id": "6rCgqRLsZqUs"
   },
   "outputs": [
    {
     "data": {
      "text/plain": [
       "True"
      ]
     },
     "execution_count": 51,
     "metadata": {},
     "output_type": "execute_result"
    }
   ],
   "source": [
    "from dotenv import load_dotenv, find_dotenv\n",
    "import os\n",
    "from groq import Groq\n",
    "\n",
    "envpath = find_dotenv()\n",
    "load_dotenv(envpath)"
   ]
  },
  {
   "cell_type": "code",
   "execution_count": 52,
   "metadata": {},
   "outputs": [],
   "source": [
    "jd = input('Enter the job description here')"
   ]
  },
  {
   "cell_type": "code",
   "execution_count": 53,
   "metadata": {},
   "outputs": [],
   "source": [
    "file_path = r'C:\\Users\\karth\\OneDrive\\Documents\\GitHub\\pdf-build\\Resume.txt'\n",
    "with open(file_path, 'r') as file:\n",
    "    MyResume = file.read()"
   ]
  },
  {
   "cell_type": "code",
   "execution_count": 54,
   "metadata": {
    "id": "R2M477ZGcv_h"
   },
   "outputs": [],
   "source": [
    "client = Groq(api_key= os.getenv(\"grok_api\"))\n",
    "\n",
    "completion = client.chat.completions.create(\n",
    "    model=\"llama-3.3-70b-versatile\",\n",
    "    messages=[\n",
    "        {\n",
    "            \"role\": \"system\",\n",
    "            \"content\": \"You are a professional career coach and resume-writing assistant. Your task is to craft strong, impactful, and industry-relevant resume bullet points that make my profile stand out for data analytics, data engineering roles and other type of analyst roles\\n\"\n",
    "        },\n",
    "        {\n",
    "            \"role\": \"user\",\n",
    "            \"content\": f\"\"\"\n",
    "            Instruction\n",
    "            Using the keyword extracted from the job description and my resume combine to generate an ideal resume for the job application.\n",
    "\n",
    "            Resume format:\n",
    "\n",
    "            *Work experience*\n",
    "            Company name\n",
    "            best suited 3 points from my resume and rewrite them to highlight transferable skills and quantify achievements\n",
    "            Use action verbs and measurable results (e.g., reduced, improved, increased by X%).\n",
    "\n",
    "\n",
    "            *Projects*\n",
    "            you can generate new projects with difficulty level easy when some mandatory keywords or technology is missing in my work experience. Make the project title short and crisp( 3 words ). Finally Just choose top suited 3 projects to list.\n",
    "            Title: \n",
    "            short idea in one line\n",
    "\n",
    "            Resume : {MyResume}\n",
    "            JOb Description : {jd}\n",
    "\n",
    "            \"\"\"}\n",
    "\n",
    "    ],\n",
    "    temperature=1,\n",
    "    max_tokens=1024,\n",
    "    top_p=1,\n",
    "    stream=True,\n",
    "    stop=None,\n",
    ")\n",
    "DesiredSkill = \"\"\n",
    "\n",
    "for chunk in completion:\n",
    "    content = chunk.choices[0].delta.content if chunk.choices[0].delta.content else \"\"\n",
    "    DesiredSkill += content"
   ]
  },
  {
   "cell_type": "code",
   "execution_count": 55,
   "metadata": {},
   "outputs": [
    {
     "name": "stdout",
     "output_type": "stream",
     "text": [
      "Based on the job description and your resume, I've crafted strong, impactful, and industry-relevant resume bullet points that highlight transferable skills and quantify achievements.\n",
      "\n",
      "**Work Experience:**\n",
      "\n",
      "* **Vestas Wind Technology, India (Nov 2021 – Aug 2023)**\n",
      "\t+ Optimized logistics operations by developing predictive analytics models, resulting in a 20% reduction in project timelines and enhancing delivery capacity.\n",
      "\t+ Improved data-driven decision-making by creating interactive Power BI dashboards to track KPIs, supplier performance, and category spend, leading to a 30% reduction in manual efforts.\n",
      "\t+ Streamlined procurement workflows by automating processes using Python, resulting in $35M in savings and a 25% reduction in errors.\n",
      "* **Vestas, ManpowerGroup Services, India (Jan 2021 – Nov 2021)**\n",
      "\t+ Enhanced operational efficiency by 15% through process optimization analyses, utilizing data-driven insights to streamline operations.\n",
      "\t+ Developed and deployed cloud-based automation tools, resulting in a 30% increase in team productivity and faster completion of routine tasks.\n",
      "\t+ Improved supplier performance monitoring by implementing vendor scorecards using Excel and Power BI, providing actionable data visualizations for informed decision-making.\n",
      "* **Valeo India, India (Jun 2018 – Jan 2021)**\n",
      "\t+ Managed RFx processes across various segments, achieving 10-15% cost reductions through competitive vendor sourcing and procurement strategies.\n",
      "\t+ Built and maintained a robust supplier base, resulting in a 20% improvement in supply chain efficiency.\n",
      "\t+ Conducted data-driven RFx processes on digital platforms, achieving an 8-12% reduction in part costs by leveraging competitive analysis and strategic sourcing.\n",
      "\n",
      "**Projects:**\n",
      "\n",
      "1. **Supply Chain Dashboard**\n",
      "\t+ Developed an interactive Tableau dashboard to analyze key supply chain KPIs, such as inventory levels, shipping times, and supplier performance.\n",
      "2. **Logistics Optimization**\n",
      "\t+ Built a machine learning model to forecast logistics demand, resulting in a 15% reduction in shipping costs and a 10% improvement in delivery times.\n",
      "3. **Procurement Analytics**\n",
      "\t+ Created a Power BI dashboard to track procurement KPIs, supplier performance, and category spend, providing actionable insights for informed decision-making.\n",
      "\n",
      "These bullet points highlight your experience in logistics operations, supply chain management, and data analysis, which are relevant to the Optimization Analyst role at Suncor. They also demonstrate your ability to drive operational efficiency, improve decision-making, and enhance business processes through data-driven insights and automation.\n"
     ]
    }
   ],
   "source": [
    "print(DesiredSkill)"
   ]
  },
  {
   "cell_type": "code",
   "execution_count": 56,
   "metadata": {
    "id": "z5F7_7t5zvXr"
   },
   "outputs": [],
   "source": [
    "client = Groq(api_key= os.getenv(\"grok_api\"))\n",
    "    \n",
    "completion = client.chat.completions.create(\n",
    "    model=\"llama-3.3-70b-versatile\",\n",
    "    messages=[\n",
    "        {\n",
    "            \"role\": \"system\",\n",
    "            \"content\": \"You are a professional career coach and resume-writing assistant. Your task is to craft strong, impactful, and industry-relevant resume bullet points that make my profile stand out for data analytics, data engineering roles, and other types of analyst roles.\"\n",
    "        },\n",
    "        {\n",
    "            \"role\": \"user\",\n",
    "            \"content\": f\"{DesiredSkill}\\n\\nPlease generate the updated resume sections in YAML format using the same structure as provided below. Make sure the output is valid YAML without any markdown formatting (i.e., no triple backticks) so it can be directly loaded by a YAML parser. Also, include keywords from the project as a side heading in the 'projects' section.\\n\\n\"\n",
    "            \"\"\"{'work_experience': [{'title': , \n",
    "                                   'company': , \n",
    "                                   'dates': , \n",
    "                                   'achievements': []}], \n",
    "              'projects': [{'project_name': , \n",
    "                            'description': , \n",
    "                            'keywords': []}]}\"\"\"\n",
    "        }\n",
    "    ],\n",
    "    temperature=1,\n",
    "    max_completion_tokens=1024,\n",
    "    top_p=1,\n",
    "    stream=True,\n",
    "    stop=None,\n",
    ")\n",
    "\n",
    "llm_yaml = \"\"\n",
    "\n",
    "for chunk in completion:\n",
    "    content = chunk.choices[0].delta.content if chunk.choices[0].delta.content else \"\"\n",
    "    llm_yaml += content\n"
   ]
  },
  {
   "cell_type": "code",
   "execution_count": 57,
   "metadata": {},
   "outputs": [
    {
     "name": "stdout",
     "output_type": "stream",
     "text": [
      "work_experience:\n",
      "  - title: Procurement and Logistics Specialist\n",
      "    company: Vestas Wind Technology, India\n",
      "    dates: Nov 2021 - Aug 2023\n",
      "    achievements:\n",
      "      - Optimized logistics operations by developing predictive analytics models, resulting in a 20% reduction in project timelines and enhancing delivery capacity.\n",
      "      - Improved data-driven decision-making by creating interactive Power BI dashboards to track KPIs, supplier performance, and category spend, leading to a 30% reduction in manual efforts.\n",
      "      - Streamlined procurement workflows by automating processes using Python, resulting in $35M in savings and a 25% reduction in errors.\n",
      "  - title: Operations Analyst\n",
      "    company: Vestas, ManpowerGroup Services, India\n",
      "    dates: Jan 2021 - Nov 2021\n",
      "    achievements:\n",
      "      - Enhanced operational efficiency by 15% through process optimization analyses, utilizing data-driven insights to streamline operations.\n",
      "      - Developed and deployed cloud-based automation tools, resulting in a 30% increase in team productivity and faster completion of routine tasks.\n",
      "      - Improved supplier performance monitoring by implementing vendor scorecards using Excel and Power BI, providing actionable data visualizations for informed decision-making.\n",
      "  - title: Procurement Specialist\n",
      "    company: Valeo India, India\n",
      "    dates: Jun 2018 - Jan 2021\n",
      "    achievements:\n",
      "      - Managed RFx processes across various segments, achieving 10-15% cost reductions through competitive vendor sourcing and procurement strategies.\n",
      "      - Built and maintained a robust supplier base, resulting in a 20% improvement in supply chain efficiency.\n",
      "      - Conducted data-driven RFx processes on digital platforms, achieving an 8-12% reduction in part costs by leveraging competitive analysis and strategic sourcing.\n",
      "\n",
      "projects:\n",
      "  - project_name: Supply Chain Dashboard\n",
      "    description: Developed an interactive Tableau dashboard to analyze key supply chain KPIs, such as inventory levels, shipping times, and supplier performance.\n",
      "    keywords: [Tableau, Supply Chain, KPIs, Dashboard]\n",
      "  - project_name: Logistics Optimization\n",
      "    description: Built a machine learning model to forecast logistics demand, resulting in a 15% reduction in shipping costs and a 10% improvement in delivery times.\n",
      "    keywords: [Machine Learning, Logistics, Optimization, Forecasting]\n",
      "  - project_name: Procurement Analytics\n",
      "    description: Created a Power BI dashboard to track procurement KPIs, supplier performance, and category spend, providing actionable insights for informed decision-making.\n",
      "    keywords: [Power BI, Procurement, Analytics, KPIs]\n"
     ]
    }
   ],
   "source": [
    "print(llm_yaml)"
   ]
  },
  {
   "cell_type": "code",
   "execution_count": 58,
   "metadata": {},
   "outputs": [],
   "source": [
    "client = Groq(api_key= os.getenv(\"grok_api\"))\n",
    "    \n",
    "completion = client.chat.completions.create(\n",
    "    model=\"llama-3.3-70b-versatile\",\n",
    "    messages=[\n",
    "        {\n",
    "            \"role\": \"system\",\n",
    "            \"content\": \"You are a professional career coach and resume-writing assistant. Your task is to craft strong, impactful, and industry-relevant resume bullet points that make my profile stand out for data analytics, data engineering roles, and other types of analyst roles.\"\n",
    "        },\n",
    "        {\n",
    "            \"role\": \"user\",\n",
    "            \"content\": f\"\"\"based on resume and job description i need skills and write a powerful 1-line professional summary that hooks a recruiter in under 10 seconds.\\n\\n\n",
    "            job description{jd}\n",
    "            resume {llm_yaml}\n",
    "            \n",
    "            FORMAT:\n",
    "            summary:\n",
    "            skills:\n",
    "            -  name: maximum 6 names\n",
    "               keywords: [max 3 well suited skills, do not repeat same skills]\n",
    "               \n",
    "            NO PREAMBLE, Yaml format\\n\"\"\"\n",
    "        }\n",
    "    ],\n",
    "    temperature=1,\n",
    "    max_completion_tokens=1024,\n",
    "    top_p=1,\n",
    "    stream=True,\n",
    "    stop=None,\n",
    ")\n",
    "\n",
    "skillyaml = \"\"\n",
    "\n",
    "for chunk in completion:\n",
    "    content = chunk.choices[0].delta.content if chunk.choices[0].delta.content else \"\"\n",
    "    skillyaml += content"
   ]
  },
  {
   "cell_type": "code",
   "execution_count": 59,
   "metadata": {},
   "outputs": [
    {
     "name": "stdout",
     "output_type": "stream",
     "text": [
      "summary: Results-driven Optimization Analyst with 5+ years of experience in logistics operations, data analytics, and process improvement, leveraging expertise in data visualization, predictive modeling, and supply chain optimization to drive operational efficiency and informed decision-making.\n",
      "\n",
      "skills:\n",
      "  - name: Data Analysis\n",
      "    keywords: [Data Visualization, Predictive Modeling, Data Mining]\n",
      "  - name: Logistics Operations\n",
      "    keywords: [Supply Chain Management, Inventory Management, Transportation Management]\n",
      "  - name: Process Improvement\n",
      "    keywords: [Lean Six Sigma, Process Optimization, Change Management]\n",
      "  - name: Data Visualization\n",
      "    keywords: [Power BI, Tableau, Dashboard Development]\n",
      "  - name: Supply Chain Optimization\n",
      "    keywords: [DTN, SAP IBP, MarketView]\n",
      "  - name: Operational Efficiency\n",
      "    keywords: [Process Automation, Workflow Optimization, Continuous Improvement]\n"
     ]
    }
   ],
   "source": [
    "print(skillyaml)"
   ]
  },
  {
   "cell_type": "code",
   "execution_count": 60,
   "metadata": {},
   "outputs": [
    {
     "name": "stdout",
     "output_type": "stream",
     "text": [
      "summary: Results-driven Optimization Analyst with 5+ years of experience in logistics operations, data analytics, and process improvement, leveraging expertise in data visualization, predictive modeling, and supply chain optimization to drive operational efficiency and informed decision-making.\n",
      "\n",
      "skills:\n",
      "  - name: Data Analysis\n",
      "    keywords: [Data Visualization, Predictive Modeling, Data Mining]\n",
      "  - name: Logistics Operations\n",
      "    keywords: [Supply Chain Management, Inventory Management, Transportation Management]\n",
      "  - name: Process Improvement\n",
      "    keywords: [Lean Six Sigma, Process Optimization, Change Management]\n",
      "  - name: Data Visualization\n",
      "    keywords: [Power BI, Tableau, Dashboard Development]\n",
      "  - name: Supply Chain Optimization\n",
      "    keywords: [DTN, SAP IBP, MarketView]\n",
      "  - name: Operational Efficiency\n",
      "    keywords: [Process Automation, Workflow Optimization, Continuous Improvement]\n"
     ]
    }
   ],
   "source": [
    "print(skillyaml)"
   ]
  },
  {
   "cell_type": "code",
   "execution_count": 61,
   "metadata": {},
   "outputs": [],
   "source": [
    "skill_data = yaml.safe_load(skillyaml)"
   ]
  },
  {
   "cell_type": "code",
   "execution_count": 62,
   "metadata": {},
   "outputs": [
    {
     "name": "stdout",
     "output_type": "stream",
     "text": [
      "YAML file updated successfully.\n"
     ]
    }
   ],
   "source": [
    "import yaml\n",
    "\n",
    "yaml_file_path = r'C:\\Users\\karth\\OneDrive\\Documents\\GitHub\\pdf-build\\karthik.yaml'\n",
    "with open(yaml_file_path, 'r') as f:\n",
    "    resume_data = yaml.safe_load(f)\n",
    "\n",
    "exp_data = yaml.safe_load(llm_yaml)\n",
    "skill_data = yaml.safe_load(skillyaml)\n",
    "\n",
    "resume_data['basics']['summary'] = skill_data['summary']\n",
    "\n",
    "#work experience\n",
    "for i in range(len(exp_data['work_experience'])):\n",
    "    resume_data[\"work\"][i]['highlights'] = exp_data['work_experience'][i]['achievements']\n",
    "\n",
    "for i in range(len(exp_data['projects'])):\n",
    "    resume_data['projects'][i]['description'] = exp_data['projects'][i]['description']\n",
    "    resume_data['projects'][i]['keywords'] = exp_data['projects'][i]['keywords']\n",
    "    resume_data['projects'][i]['name'] = exp_data['projects'][i]['project_name']\n",
    "\n",
    "for i in range(len(skill_data['skills'])):\n",
    "    resume_data['skills'][i]['keywords'] = skill_data['skills'][i]['keywords']\n",
    "    resume_data['skills'][i]['name'] = skill_data['skills'][i]['name']\n",
    "    \n",
    "\n",
    "with open(\"output.yaml\", 'w') as f:\n",
    "    yaml.safe_dump(resume_data, f)\n",
    "\n",
    "print(\"YAML file updated successfully.\")\n"
   ]
  },
  {
   "cell_type": "code",
   "execution_count": 63,
   "metadata": {},
   "outputs": [
    {
     "data": {
      "text/plain": [
       "['Enhanced operational efficiency by 15% through process optimization analyses, utilizing data-driven insights to streamline operations.',\n",
       " 'Developed and deployed cloud-based automation tools, resulting in a 30% increase in team productivity and faster completion of routine tasks.',\n",
       " 'Improved supplier performance monitoring by implementing vendor scorecards using Excel and Power BI, providing actionable data visualizations for informed decision-making.']"
      ]
     },
     "execution_count": 63,
     "metadata": {},
     "output_type": "execute_result"
    }
   ],
   "source": [
    "resume_data[\"work\"][1]['highlights']"
   ]
  },
  {
   "cell_type": "code",
   "execution_count": 64,
   "metadata": {},
   "outputs": [
    {
     "name": "stdout",
     "output_type": "stream",
     "text": [
      "Generated HTML content:\n",
      "resume.pdf\n",
      "HTML file saved as: template.html\n",
      "SUCCESS: PDF created at resume.pdf\n"
     ]
    }
   ],
   "source": [
    "!python resumy.py build -o resume.pdf output.yaml"
   ]
  }
 ],
 "metadata": {
  "colab": {
   "authorship_tag": "ABX9TyPCaZx/Db0SJumCv0pb9W3i",
   "include_colab_link": true,
   "mount_file_id": "https://github.com/KarthikeyanBaskaran/pdf-build/blob/main/Resume_Generator.ipynb",
   "provenance": []
  },
  "kernelspec": {
   "display_name": ".venv",
   "language": "python",
   "name": "python3"
  },
  "language_info": {
   "codemirror_mode": {
    "name": "ipython",
    "version": 3
   },
   "file_extension": ".py",
   "mimetype": "text/x-python",
   "name": "python",
   "nbconvert_exporter": "python",
   "pygments_lexer": "ipython3",
   "version": "3.11.9"
  }
 },
 "nbformat": 4,
 "nbformat_minor": 1
}
