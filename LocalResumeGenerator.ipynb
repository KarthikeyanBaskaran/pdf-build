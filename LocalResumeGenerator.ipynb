{
  "cells": [
    {
      "cell_type": "code",
      "execution_count": 91,
      "metadata": {
        "id": "6rCgqRLsZqUs"
      },
      "outputs": [
        {
          "data": {
            "text/plain": [
              "True"
            ]
          },
          "execution_count": 91,
          "metadata": {},
          "output_type": "execute_result"
        }
      ],
      "source": [
        "from dotenv import load_dotenv, find_dotenv\n",
        "import os\n",
        "from groq import Groq\n",
        "\n",
        "envpath = find_dotenv()\n",
        "load_dotenv(envpath)"
      ]
    },
    {
      "cell_type": "code",
      "execution_count": 92,
      "metadata": {},
      "outputs": [],
      "source": [
        "jd = input('Enter the job description here')"
      ]
    },
    {
      "cell_type": "code",
      "execution_count": 93,
      "metadata": {},
      "outputs": [],
      "source": [
        "file_path = r'C:\\Users\\karth\\OneDrive\\Documents\\GitHub\\pdf-build\\Resume.txt'\n",
        "with open(file_path, 'r') as file:\n",
        "    MyResume = file.read()"
      ]
    },
    {
      "cell_type": "code",
      "execution_count": 99,
      "metadata": {
        "id": "R2M477ZGcv_h"
      },
      "outputs": [],
      "source": [
        "client = Groq(api_key= os.getenv(\"grok_api\"))\n",
        "\n",
        "completion = client.chat.completions.create(\n",
        "    model=\"llama-3.3-70b-versatile\",\n",
        "    messages=[\n",
        "        {\n",
        "            \"role\": \"system\",\n",
        "            \"content\": \"You are a professional career coach and resume-writing assistant. Your task is to craft strong, impactful, and industry-relevant resume bullet points that make my profile stand out for data analytics, data engineering roles and other type of analyst roles\\n\"\n",
        "        },\n",
        "        {\n",
        "            \"role\": \"user\",\n",
        "            \"content\": f\"\"\"Step1: Extract all the keywords in the Job description which we need to use in resume. {jd} Step2: using the keyword extracted above and my resume  combine to generate an ideal resume for the job application.\n",
        "\n",
        "            Resume format:\n",
        "\n",
        "            *Work experience*\n",
        "            Company name\n",
        "            best suited 3 points with keywords very crisp and clear\n",
        "\n",
        "            *Projects*\n",
        "            you can generate new projects with difficulty level easy when some mandatory keywords or technology is missing in my work experience. Just choose top suited 3. Make the project name short and crisp like 2 words.\n",
        "            Title: \n",
        "            short idea in one line\n",
        "\n",
        "            {MyResume}\n",
        "            \"\"\"}\n",
        "\n",
        "    ],\n",
        "    temperature=1,\n",
        "    max_tokens=1024,\n",
        "    top_p=1,\n",
        "    stream=True,\n",
        "    stop=None,\n",
        ")\n",
        "DesiredSkill = \"\"\n",
        "\n",
        "for chunk in completion:\n",
        "    content = chunk.choices[0].delta.content if chunk.choices[0].delta.content else \"\"\n",
        "    DesiredSkill += content"
      ]
    },
    {
      "cell_type": "code",
      "execution_count": 100,
      "metadata": {},
      "outputs": [
        {
          "name": "stdout",
          "output_type": "stream",
          "text": [
            "Based on the job description and your resume, I've extracted the following keywords:\n",
            "\n",
            "* Data analysis\n",
            "* Data management\n",
            "* Petroleum engineering\n",
            "* Relational database concepts\n",
            "* SQL\n",
            "* Land survey systems\n",
            "* Data transformation\n",
            "* Data quality\n",
            "* Technical troubleshooting\n",
            "* Communication skills\n",
            "* Collaboration\n",
            "* Problem-solving\n",
            "* Analytical skills\n",
            "* Attention to detail\n",
            "* Organizational skills\n",
            "\n",
            "Using these keywords, I've rewritten your work experience and added new projects to create an ideal resume for the Land Data Analyst Researcher Intern position:\n",
            "\n",
            "**Work Experience:**\n",
            "\n",
            "1. Procurement Engineer, Vestas Wind Technology, India (Nov 2021 – Aug 2023)\n",
            "\t* Utilized data analysis and relational database concepts to develop a data-driven supplier evaluation model, resulting in a 15% reduction in procurement costs.\n",
            "\t* Applied technical troubleshooting skills to resolve issues in procurement workflows, improving operational efficiency by 20%.\n",
            "\t* Collaborated with cross-functional teams to implement data transformation rules, ensuring data quality and accuracy.\n",
            "2. Consultant ECM Purchaser, Vestas, ManpowerGroup Services, India (Jan 2021 – Nov 2021)\n",
            "\t* Analyzed supplier costs and payment credit periods using data analysis and SQL, identifying potential savings of €3M.\n",
            "\t* Developed and deployed cloud-based automation tools, resulting in a 30% increase in team productivity and faster completion of routine tasks.\n",
            "\t* Built Python-based automation scripts, optimizing internal workflows and reducing manual effort by 25%.\n",
            "3. Procurement Engineer, Valeo India, India (Jun 2018 – Jan 2021)\n",
            "\t* Managed RFx processes across global wind turbine segments, achieving 10-15% cost reductions through competitive vendor sourcing and procurement strategies.\n",
            "\t* Utilized Power BI to track procurement KPIs, cutting reporting time by 40% and enhancing supplier performance monitoring.\n",
            "\t* Integrated ERP tools (SAP) to streamline procurement workflows, reducing manual effort by 30% and enhancing process accuracy.\n",
            "\n",
            "**Projects:**\n",
            "\n",
            "1. **Land Data Analysis**\n",
            "\t* Developed a data analysis project to analyze land survey systems and datasets, applying data transformation rules and ensuring data quality.\n",
            "2. **Petroleum Data Visualization**\n",
            "\t* Created a Tableau dashboard to visualize petroleum industry data, including production rates, reserves, and market trends.\n",
            "3. **Database Management**\n",
            "\t* Designed and implemented a relational database to store and manage land and lease data, applying SQL and data modeling techniques.\n",
            "\n",
            "These projects demonstrate your ability to apply data analysis, data management, and technical troubleshooting skills to real-world problems in the petroleum industry. The Land Data Analysis project showcases your ability to work with land survey systems and datasets, while the Petroleum Data Visualization project highlights your ability to create interactive and informative dashboards. The Database Management project demonstrates your understanding of relational database concepts and SQL.\n"
          ]
        }
      ],
      "source": [
        "print(DesiredSkill)"
      ]
    },
    {
      "cell_type": "code",
      "execution_count": 101,
      "metadata": {
        "id": "z5F7_7t5zvXr"
      },
      "outputs": [],
      "source": [
        "client = Groq(api_key= os.getenv(\"grok_api\"))\n",
        "    \n",
        "completion = client.chat.completions.create(\n",
        "    model=\"llama-3.3-70b-versatile\",\n",
        "    messages=[\n",
        "        {\n",
        "            \"role\": \"system\",\n",
        "            \"content\": \"You are a professional career coach and resume-writing assistant. Your task is to craft strong, impactful, and industry-relevant resume bullet points that make my profile stand out for data analytics, data engineering roles, and other types of analyst roles.\"\n",
        "        },\n",
        "        {\n",
        "            \"role\": \"user\",\n",
        "            \"content\": f\"{DesiredSkill}\\n\\nPlease generate the updated resume sections in YAML format using the same structure as provided below. Make sure the output is valid YAML without any markdown formatting (i.e., no triple backticks) so it can be directly loaded by a YAML parser. Also, include keywords from the project as a side heading in the 'projects' section.\\n\\n\"\n",
        "            \"\"\"{'work_experience': [{'title': , \n",
        "                                   'company': , \n",
        "                                   'dates': , \n",
        "                                   'achievements': []}], \n",
        "              'projects': [{'project_name': , \n",
        "                            'description': , \n",
        "                            'keywords': []}]}\"\"\"\n",
        "        }\n",
        "    ],\n",
        "    temperature=1,\n",
        "    max_completion_tokens=1024,\n",
        "    top_p=1,\n",
        "    stream=True,\n",
        "    stop=None,\n",
        ")\n",
        "\n",
        "llm_yaml = \"\"\n",
        "\n",
        "for chunk in completion:\n",
        "    content = chunk.choices[0].delta.content if chunk.choices[0].delta.content else \"\"\n",
        "    llm_yaml += content\n"
      ]
    },
    {
      "cell_type": "code",
      "execution_count": 102,
      "metadata": {},
      "outputs": [
        {
          "name": "stdout",
          "output_type": "stream",
          "text": [
            "work_experience:\n",
            "  - title: Procurement Engineer\n",
            "    company: Vestas Wind Technology, India\n",
            "    dates: Nov 2021 - Aug 2023\n",
            "    achievements:\n",
            "      - Utilized data analysis and relational database concepts to develop a data-driven supplier evaluation model, resulting in a 15% reduction in procurement costs.\n",
            "      - Applied technical troubleshooting skills to resolve issues in procurement workflows, improving operational efficiency by 20%.\n",
            "      - Collaborated with cross-functional teams to implement data transformation rules, ensuring data quality and accuracy.\n",
            "  - title: Consultant ECM Purchaser\n",
            "    company: Vestas, ManpowerGroup Services, India\n",
            "    dates: Jan 2021 - Nov 2021\n",
            "    achievements:\n",
            "      - Analyzed supplier costs and payment credit periods using data analysis and SQL, identifying potential savings of €3M.\n",
            "      - Developed and deployed cloud-based automation tools, resulting in a 30% increase in team productivity and faster completion of routine tasks.\n",
            "      - Built Python-based automation scripts, optimizing internal workflows and reducing manual effort by 25%.\n",
            "  - title: Procurement Engineer\n",
            "    company: Valeo India, India\n",
            "    dates: Jun 2018 - Jan 2021\n",
            "    achievements:\n",
            "      - Managed RFx processes across global wind turbine segments, achieving 10-15% cost reductions through competitive vendor sourcing and procurement strategies.\n",
            "      - Utilized Power BI to track procurement KPIs, cutting reporting time by 40% and enhancing supplier performance monitoring.\n",
            "      - Integrated ERP tools (SAP) to streamline procurement workflows, reducing manual effort by 30% and enhancing process accuracy.\n",
            "projects:\n",
            "  - project_name: Land Data Analysis\n",
            "    description: Developed a data analysis project to analyze land survey systems and datasets, applying data transformation rules and ensuring data quality.\n",
            "    keywords: [Data Analysis, Land Survey Systems, Data Transformation, Data Quality]\n",
            "  - project_name: Petroleum Data Visualization\n",
            "    description: Created a Tableau dashboard to visualize petroleum industry data, including production rates, reserves, and market trends.\n",
            "    keywords: [Petroleum Industry, Data Visualization, Tableau, Market Trends]\n",
            "  - project_name: Database Management\n",
            "    description: Designed and implemented a relational database to store and manage land and lease data, applying SQL and data modeling techniques.\n",
            "    keywords: [Relational Database, SQL, Data Modeling, Database Management]\n"
          ]
        }
      ],
      "source": [
        "print(llm_yaml)"
      ]
    },
    {
      "cell_type": "code",
      "execution_count": 141,
      "metadata": {},
      "outputs": [],
      "source": [
        "client = Groq(api_key= os.getenv(\"grok_api\"))\n",
        "    \n",
        "completion = client.chat.completions.create(\n",
        "    model=\"llama-3.3-70b-versatile\",\n",
        "    messages=[\n",
        "        {\n",
        "            \"role\": \"system\",\n",
        "            \"content\": \"You are a professional career coach and resume-writing assistant. Your task is to craft strong, impactful, and industry-relevant resume bullet points that make my profile stand out for data analytics, data engineering roles, and other types of analyst roles.\"\n",
        "        },\n",
        "        {\n",
        "            \"role\": \"user\",\n",
        "            \"content\": f\"\"\"based on resume and job description i need skills and summary in the below format to include in my resume\\n\\njob description\\n\\\"\\\"\\\"{jd}\\n\\nresume \\\"\\\"\\\"{llm_yaml}\\\"\\\"\\\"\\n\\n\n",
        "            FORMAT:\n",
        "            summary:\n",
        "            skills:\n",
        "            -  name: maximum 6 names\n",
        "               keywords: [max 3 well suited skills, do not repeat same skills]\n",
        "               \n",
        "            NO PREAMBLE, Yaml format\\n\"\"\"\n",
        "        }\n",
        "    ],\n",
        "    temperature=1,\n",
        "    max_completion_tokens=1024,\n",
        "    top_p=1,\n",
        "    stream=True,\n",
        "    stop=None,\n",
        ")\n",
        "\n",
        "skillyaml = \"\"\n",
        "\n",
        "for chunk in completion:\n",
        "    content = chunk.choices[0].delta.content if chunk.choices[0].delta.content else \"\"\n",
        "    skillyaml += content"
      ]
    },
    {
      "cell_type": "code",
      "execution_count": 142,
      "metadata": {},
      "outputs": [
        {
          "name": "stdout",
          "output_type": "stream",
          "text": [
            "summary: Results-driven data analyst with experience in procurement engineering, data analysis, and relational database management, seeking a Land Data Analyst Researcher Intern role at S&P Global Commodity Insights.\n",
            "\n",
            "skills:\n",
            "  - name: Data Analysis\n",
            "    keywords: [Data Transformation, Data Quality, SQL]\n",
            "  - name: Relational Database Management\n",
            "    keywords: [Database Design, Data Modeling, SQL]\n",
            "  - name: Land Survey Systems\n",
            "    keywords: [Land Data Analysis, Geospatial Data, Mapping]\n",
            "  - name: Petroleum Industry\n",
            "    keywords: [Petroleum Engineering, Energy Markets, Commodity Insights]\n",
            "  - name: Technical Troubleshooting\n",
            "    keywords: [Problem-Solving, Issue Resolution, Operational Efficiency]\n",
            "  - name: Data Visualization\n",
            "    keywords: [Tableau, Power BI, Data Storytelling]\n"
          ]
        }
      ],
      "source": [
        "print(skillyaml)"
      ]
    },
    {
      "cell_type": "code",
      "execution_count": 156,
      "metadata": {},
      "outputs": [
        {
          "name": "stdout",
          "output_type": "stream",
          "text": [
            "YAML file updated successfully.\n"
          ]
        }
      ],
      "source": [
        "import yaml\n",
        "\n",
        "yaml_file_path = r'C:\\Users\\karth\\OneDrive\\Documents\\GitHub\\pdf-build\\karthik.yaml'\n",
        "with open(yaml_file_path, 'r') as f:\n",
        "    resume_data = yaml.safe_load(f)\n",
        "\n",
        "exp_data = yaml.safe_load(llm_yaml)\n",
        "skill_data = yaml.safe_load(skillyaml)\n",
        "\n",
        "resume_data['basics']['summary'] = skill_data['summary']\n",
        "\n",
        "#work experience\n",
        "for i in range(len(exp_data['work_experience'])):\n",
        "    resume_data[\"work\"][i]['highlights'] = exp_data['work_experience'][i]['achievements']\n",
        "\n",
        "for i in range(len(exp_data['projects'])):\n",
        "    resume_data['projects'][i]['description'] = exp_data['projects'][i]['description']\n",
        "    resume_data['projects'][i]['keywords'] = exp_data['projects'][i]['keywords']\n",
        "    resume_data['projects'][i]['name'] = exp_data['projects'][i]['project_name']\n",
        "\n",
        "for i in range(len(skill_data['skills'])):\n",
        "    resume_data['skills'][i]['keywords'] = skill_data['skills'][i]['keywords']\n",
        "    resume_data['skills'][i]['name'] = skill_data['skills'][i]['name']\n",
        "    \n",
        "\n",
        "with open(\"output.yaml\", 'w') as f:\n",
        "    yaml.safe_dump(resume_data, f)\n",
        "\n",
        "print(\"YAML file updated successfully.\")\n"
      ]
    },
    {
      "cell_type": "code",
      "execution_count": 166,
      "metadata": {},
      "outputs": [
        {
          "data": {
            "text/plain": [
              "['Analyzed supplier costs and payment credit periods using data analysis and SQL, identifying potential savings of €3M.',\n",
              " 'Developed and deployed cloud-based automation tools, resulting in a 30% increase in team productivity and faster completion of routine tasks.',\n",
              " 'Built Python-based automation scripts, optimizing internal workflows and reducing manual effort by 25%.']"
            ]
          },
          "execution_count": 166,
          "metadata": {},
          "output_type": "execute_result"
        }
      ],
      "source": [
        "resume_data[\"work\"][1]['highlights']"
      ]
    },
    {
      "cell_type": "code",
      "execution_count": 168,
      "metadata": {},
      "outputs": [
        {
          "name": "stdout",
          "output_type": "stream",
          "text": [
            "Generated HTML content:\n",
            "resume.pdf\n",
            "HTML file saved as: template.html\n",
            "SUCCESS: PDF created at resume.pdf\n"
          ]
        }
      ],
      "source": [
        "!python resumy.py build -o resume.pdf output.yaml"
      ]
    },
    {
      "cell_type": "code",
      "execution_count": null,
      "metadata": {},
      "outputs": [],
      "source": []
    }
  ],
  "metadata": {
    "colab": {
      "authorship_tag": "ABX9TyPCaZx/Db0SJumCv0pb9W3i",
      "include_colab_link": true,
      "mount_file_id": "https://github.com/KarthikeyanBaskaran/pdf-build/blob/main/Resume_Generator.ipynb",
      "provenance": []
    },
    "kernelspec": {
      "display_name": ".venv",
      "language": "python",
      "name": "python3"
    },
    "language_info": {
      "codemirror_mode": {
        "name": "ipython",
        "version": 3
      },
      "file_extension": ".py",
      "mimetype": "text/x-python",
      "name": "python",
      "nbconvert_exporter": "python",
      "pygments_lexer": "ipython3",
      "version": "3.11.9"
    }
  },
  "nbformat": 4,
  "nbformat_minor": 0
}
