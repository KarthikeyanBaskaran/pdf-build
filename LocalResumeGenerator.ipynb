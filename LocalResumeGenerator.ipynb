{
 "cells": [
  {
   "cell_type": "code",
   "execution_count": 1,
   "metadata": {},
   "outputs": [],
   "source": [
    "!pip install dotenv groq PyYAML weasyprint --quiet"
   ]
  },
  {
   "cell_type": "code",
   "execution_count": 2,
   "metadata": {},
   "outputs": [],
   "source": [
    "import yaml"
   ]
  },
  {
   "cell_type": "code",
   "execution_count": 3,
   "metadata": {
    "id": "6rCgqRLsZqUs"
   },
   "outputs": [
    {
     "data": {
      "text/plain": [
       "True"
      ]
     },
     "execution_count": 3,
     "metadata": {},
     "output_type": "execute_result"
    }
   ],
   "source": [
    "from dotenv import load_dotenv, find_dotenv\n",
    "import os\n",
    "from groq import Groq\n",
    "\n",
    "envpath = find_dotenv()\n",
    "load_dotenv(envpath)"
   ]
  },
  {
   "cell_type": "code",
   "execution_count": 4,
   "metadata": {},
   "outputs": [],
   "source": [
    "jd = input('Enter the job description here')"
   ]
  },
  {
   "cell_type": "code",
   "execution_count": 5,
   "metadata": {},
   "outputs": [],
   "source": [
    "file_path = r'C:\\Users\\karth\\OneDrive\\Documents\\GitHub\\pdf-build\\Resume.txt'\n",
    "with open(file_path, 'r') as file:\n",
    "    MyResume = file.read()"
   ]
  },
  {
   "cell_type": "code",
   "execution_count": 6,
   "metadata": {
    "id": "R2M477ZGcv_h"
   },
   "outputs": [],
   "source": [
    "client = Groq(api_key= os.getenv(\"grok_api\"))\n",
    "\n",
    "completion = client.chat.completions.create(\n",
    "    model=\"llama-3.3-70b-versatile\",\n",
    "    messages=[\n",
    "        {\n",
    "            \"role\": \"system\",\n",
    "            \"content\": \"You are a professional career coach and resume-writing assistant. Your task is to craft strong, impactful, and industry-relevant resume bullet points that make my profile stand out for data analytics, data engineering roles and other type of analyst roles\\n\"\n",
    "        },\n",
    "        {\n",
    "            \"role\": \"user\",\n",
    "            \"content\": f\"\"\"\n",
    "            Instruction\n",
    "            Using the keyword extracted from the job description and my resume combine to generate an ideal resume for the job application.\n",
    "\n",
    "            Resume format:\n",
    "\n",
    "            *Work experience*\n",
    "            Company name\n",
    "            best suited 3 points from my resume and rewrite them to highlight transferable skills and quantify achievements\n",
    "            Use action verbs and measurable results (e.g., reduced, improved, increased by X%).\n",
    "\n",
    "\n",
    "            *Projects*\n",
    "            you can generate new projects with difficulty level easy when some mandatory keywords or technology is missing in my work experience. Make the project title short and crisp( 3 words ). Finally Just choose top suited 3 projects to list.\n",
    "            Title: \n",
    "            short idea in one line\n",
    "\n",
    "            Resume : {MyResume}\n",
    "            JOb Description : {jd}\n",
    "\n",
    "            \"\"\"}\n",
    "\n",
    "    ],\n",
    "    temperature=1,\n",
    "    max_tokens=1024,\n",
    "    top_p=1,\n",
    "    stream=True,\n",
    "    stop=None,\n",
    ")\n",
    "DesiredSkill = \"\"\n",
    "\n",
    "for chunk in completion:\n",
    "    content = chunk.choices[0].delta.content if chunk.choices[0].delta.content else \"\"\n",
    "    DesiredSkill += content"
   ]
  },
  {
   "cell_type": "code",
   "execution_count": 7,
   "metadata": {},
   "outputs": [
    {
     "name": "stdout",
     "output_type": "stream",
     "text": [
      "Based on the job description and your resume, I've crafted a strong and impactful resume with relevant bullet points that highlight your transferable skills and quantify your achievements. Here's an example:\n",
      "\n",
      "**Work Experience:**\n",
      "\n",
      "* **Procurement Engineer, Vestas Wind Technology, India (Nov 2021 – Aug 2023)**\n",
      "\t+ Analyzed customer needs and developed data-driven solutions to improve procurement processes, resulting in a 15% reduction in costs and a 20% increase in project delivery capacity.\n",
      "\t+ Utilized predictive analytics to forecast demand and optimize supply chain operations, achieving a 30% reduction in manual efforts and enhancing operational efficiency.\n",
      "\t+ Collaborated with cross-functional teams to develop and deploy automation tools, streamlining procurement workflows and resulting in $35M in savings.\n",
      "* **Consultant ECM Purchaser, Vestas, ManpowerGroup Services, India (Jan 2021 – Nov 2021)**\n",
      "\t+ Applied data-driven insights to optimize procurement processes, reducing production costs by 10% and improving operational efficiency by 15%.\n",
      "\t+ Developed and deployed cloud-based automation tools, increasing team productivity by 30% and reducing manual effort by 25%.\n",
      "\t+ Built and maintained a robust supplier base, achieving a 20% improvement in supply chain efficiency and ensuring 100% on-time delivery.\n",
      "* **Procurement Engineer, Valeo India, India (Jun 2018 – Jan 2021)**\n",
      "\t+ Conducted data analysis to identify cost-saving opportunities, achieving a 10-15% reduction in costs through competitive vendor sourcing and procurement strategies.\n",
      "\t+ Developed and deployed interactive dashboards to monitor procurement KPIs and supplier performance, reducing reporting time by 40% and improving decision-making accuracy.\n",
      "\t+ Executed e-auctions and sourcing strategies, optimizing supplier selection and driving cost efficiency across categories.\n",
      "\n",
      "**Projects:**\n",
      "\n",
      "1. **Customer Churn Analysis**: Analyzed and processed raw customer data, applied machine learning to predict churn risk, and visualized insights to guide retention strategies.\n",
      "2. **Meta Financial Dashboard**: Developed an interactive Tableau dashboard to analyze key financial KPIs, delivering actionable insights that improved financial decision-making and strategic planning.\n",
      "3. **Vestas KPI Tracking**: Automated employee data collection, analysis, and visualization processes using Power BI, Python, and Excel, improving traceability and key metric visibility for senior management decision-making.\n",
      "\n",
      "These bullet points highlight your ability to analyze customer needs, develop data-driven solutions, and improve operational efficiency. They also demonstrate your experience with automation tools, data analysis, and visualization, which are relevant to the Customer Experience Associate role at TD Canada Trust. Remember to customize your resume to fit your own experiences and style, and don't hesitate to reach out if you have any further questions!\n"
     ]
    }
   ],
   "source": [
    "print(DesiredSkill)"
   ]
  },
  {
   "cell_type": "code",
   "execution_count": 8,
   "metadata": {
    "id": "z5F7_7t5zvXr"
   },
   "outputs": [],
   "source": [
    "client = Groq(api_key= os.getenv(\"grok_api\"))\n",
    "    \n",
    "completion = client.chat.completions.create(\n",
    "    model=\"llama-3.3-70b-versatile\",\n",
    "    messages=[\n",
    "        {\n",
    "            \"role\": \"system\",\n",
    "            \"content\": \"You are a professional career coach and resume-writing assistant. Your task is to craft strong, impactful, and industry-relevant resume bullet points that make my profile stand out for data analytics, data engineering roles, and other types of analyst roles.\"\n",
    "        },\n",
    "        {\n",
    "            \"role\": \"user\",\n",
    "            \"content\": f\"{DesiredSkill}\\n\\nPlease generate the updated resume sections in YAML format using the same structure as provided below. Make sure the output is valid YAML without any markdown formatting (i.e., no triple backticks) so it can be directly loaded by a YAML parser. Also, include keywords from the project as a side heading in the 'projects' section.\\n\\n\"\n",
    "            \"\"\"{'work_experience': [{'title': , \n",
    "                                   'company': , \n",
    "                                   'dates': , \n",
    "                                   'achievements': []}], \n",
    "              'projects': [{'project_name': , \n",
    "                            'description': , \n",
    "                            'keywords': []}]}\"\"\"\n",
    "        }\n",
    "    ],\n",
    "    temperature=1,\n",
    "    max_completion_tokens=1024,\n",
    "    top_p=1,\n",
    "    stream=True,\n",
    "    stop=None,\n",
    ")\n",
    "\n",
    "llm_yaml = \"\"\n",
    "\n",
    "for chunk in completion:\n",
    "    content = chunk.choices[0].delta.content if chunk.choices[0].delta.content else \"\"\n",
    "    llm_yaml += content\n"
   ]
  },
  {
   "cell_type": "code",
   "execution_count": 9,
   "metadata": {},
   "outputs": [
    {
     "name": "stdout",
     "output_type": "stream",
     "text": [
      "work_experience:\n",
      "  - title: Procurement Engineer\n",
      "    company: Vestas Wind Technology, India\n",
      "    dates: Nov 2021 - Aug 2023\n",
      "    achievements:\n",
      "      - Analyzed customer needs and developed data-driven solutions to improve procurement processes, resulting in a 15% reduction in costs and a 20% increase in project delivery capacity.\n",
      "      - Utilized predictive analytics to forecast demand and optimize supply chain operations, achieving a 30% reduction in manual efforts and enhancing operational efficiency.\n",
      "      - Collaborated with cross-functional teams to develop and deploy automation tools, streamlining procurement workflows and resulting in $35M in savings.\n",
      "  - title: Consultant ECM Purchaser\n",
      "    company: Vestas, ManpowerGroup Services, India\n",
      "    dates: Jan 2021 - Nov 2021\n",
      "    achievements:\n",
      "      - Applied data-driven insights to optimize procurement processes, reducing production costs by 10% and improving operational efficiency by 15%.\n",
      "      - Developed and deployed cloud-based automation tools, increasing team productivity by 30% and reducing manual effort by 25%.\n",
      "      - Built and maintained a robust supplier base, achieving a 20% improvement in supply chain efficiency and ensuring 100% on-time delivery.\n",
      "  - title: Procurement Engineer\n",
      "    company: Valeo India, India\n",
      "    dates: Jun 2018 - Jan 2021\n",
      "    achievements:\n",
      "      - Conducted data analysis to identify cost-saving opportunities, achieving a 10-15% reduction in costs through competitive vendor sourcing and procurement strategies.\n",
      "      - Developed and deployed interactive dashboards to monitor procurement KPIs and supplier performance, reducing reporting time by 40% and improving decision-making accuracy.\n",
      "      - Executed e-auctions and sourcing strategies, optimizing supplier selection and driving cost efficiency across categories.\n",
      "\n",
      "projects:\n",
      "  - project_name: Customer Churn Analysis\n",
      "    description: Analyzed and processed raw customer data, applied machine learning to predict churn risk, and visualized insights to guide retention strategies.\n",
      "    keywords: [Machine Learning, Data Analysis, Customer Churn, Predictive Analytics]\n",
      "  - project_name: Meta Financial Dashboard\n",
      "    description: Developed an interactive Tableau dashboard to analyze key financial KPIs, delivering actionable insights that improved financial decision-making and strategic planning.\n",
      "    keywords: [Tableau, Financial Analysis, Data Visualization, KPI Tracking]\n",
      "  - project_name: Vestas KPI Tracking\n",
      "    description: Automated employee data collection, analysis, and visualization processes using Power BI, Python, and Excel, improving traceability and key metric visibility for senior management decision-making.\n",
      "    keywords: [Power BI, Python, Excel, Automation, Data Visualization, KPI Tracking]\n"
     ]
    }
   ],
   "source": [
    "print(llm_yaml)"
   ]
  },
  {
   "cell_type": "code",
   "execution_count": 10,
   "metadata": {},
   "outputs": [],
   "source": [
    "client = Groq(api_key= os.getenv(\"grok_api\"))\n",
    "    \n",
    "completion = client.chat.completions.create(\n",
    "    model=\"llama-3.3-70b-versatile\",\n",
    "    messages=[\n",
    "        {\n",
    "            \"role\": \"system\",\n",
    "            \"content\": \"You are a professional career coach and resume-writing assistant. Your task is to craft strong, impactful, and industry-relevant resume bullet points that make my profile stand out for data analytics, data engineering roles, and other types of analyst roles.\"\n",
    "        },\n",
    "        {\n",
    "            \"role\": \"user\",\n",
    "            \"content\": f\"\"\"based on resume and job description i need skills and write a powerful 1-line professional summary that hooks a recruiter in under 10 seconds.\\n\\n\n",
    "            job description{jd}\n",
    "            resume {llm_yaml}\n",
    "            \n",
    "            FORMAT:\n",
    "            summary:\n",
    "            skills:\n",
    "            -  name: maximum 6 names\n",
    "               keywords: [max 3 well suited skills, do not repeat same skills]\n",
    "               \n",
    "            NO PREAMBLE, Yaml format\\n\"\"\"\n",
    "        }\n",
    "    ],\n",
    "    temperature=1,\n",
    "    max_completion_tokens=1024,\n",
    "    top_p=1,\n",
    "    stream=True,\n",
    "    stop=None,\n",
    ")\n",
    "\n",
    "skillyaml = \"\"\n",
    "\n",
    "for chunk in completion:\n",
    "    content = chunk.choices[0].delta.content if chunk.choices[0].delta.content else \"\"\n",
    "    skillyaml += content"
   ]
  },
  {
   "cell_type": "code",
   "execution_count": 11,
   "metadata": {},
   "outputs": [
    {
     "name": "stdout",
     "output_type": "stream",
     "text": [
      "summary: Results-driven professional with expertise in data analysis, process improvement, and customer experience, seeking to leverage skills in a dynamic role that drives business growth and customer satisfaction.\n",
      "\n",
      "skills:\n",
      "  - name: Data Analysis\n",
      "    keywords: [Predictive Analytics, Data Visualization, Machine Learning]\n",
      "  - name: Procurement\n",
      "    keywords: [Supply Chain Operations, Cost Reduction, Automation]\n",
      "  - name: Customer Experience\n",
      "    keywords: [Customer Service, Relationship Building, Retention Strategies]\n",
      "  - name: Project Management\n",
      "    keywords: [Process Improvement, Team Collaboration, Stakeholder Management]\n",
      "  - name: Business Intelligence\n",
      "    keywords: [Tableau, Power BI, Data Visualization]\n",
      "  - name: Operational Efficiency\n",
      "    keywords: [Automation, Productivity Enhancement, Cost Savings]\n"
     ]
    }
   ],
   "source": [
    "print(skillyaml)"
   ]
  },
  {
   "cell_type": "code",
   "execution_count": 12,
   "metadata": {},
   "outputs": [
    {
     "name": "stdout",
     "output_type": "stream",
     "text": [
      "summary: Results-driven professional with expertise in data analysis, process improvement, and customer experience, seeking to leverage skills in a dynamic role that drives business growth and customer satisfaction.\n",
      "\n",
      "skills:\n",
      "  - name: Data Analysis\n",
      "    keywords: [Predictive Analytics, Data Visualization, Machine Learning]\n",
      "  - name: Procurement\n",
      "    keywords: [Supply Chain Operations, Cost Reduction, Automation]\n",
      "  - name: Customer Experience\n",
      "    keywords: [Customer Service, Relationship Building, Retention Strategies]\n",
      "  - name: Project Management\n",
      "    keywords: [Process Improvement, Team Collaboration, Stakeholder Management]\n",
      "  - name: Business Intelligence\n",
      "    keywords: [Tableau, Power BI, Data Visualization]\n",
      "  - name: Operational Efficiency\n",
      "    keywords: [Automation, Productivity Enhancement, Cost Savings]\n"
     ]
    }
   ],
   "source": [
    "print(skillyaml)"
   ]
  },
  {
   "cell_type": "code",
   "execution_count": 13,
   "metadata": {},
   "outputs": [],
   "source": [
    "skill_data = yaml.safe_load(skillyaml)"
   ]
  },
  {
   "cell_type": "code",
   "execution_count": 14,
   "metadata": {},
   "outputs": [
    {
     "name": "stdout",
     "output_type": "stream",
     "text": [
      "YAML file updated successfully.\n"
     ]
    }
   ],
   "source": [
    "import yaml\n",
    "\n",
    "yaml_file_path = r'C:\\Users\\karth\\OneDrive\\Documents\\GitHub\\pdf-build\\karthik.yaml'\n",
    "with open(yaml_file_path, 'r') as f:\n",
    "    resume_data = yaml.safe_load(f)\n",
    "\n",
    "exp_data = yaml.safe_load(llm_yaml)\n",
    "skill_data = yaml.safe_load(skillyaml)\n",
    "\n",
    "resume_data['basics']['summary'] = skill_data['summary']\n",
    "\n",
    "#work experience\n",
    "for i in range(len(exp_data['work_experience'])):\n",
    "    resume_data[\"work\"][i]['highlights'] = exp_data['work_experience'][i]['achievements']\n",
    "\n",
    "for i in range(len(exp_data['projects'])):\n",
    "    resume_data['projects'][i]['description'] = exp_data['projects'][i]['description']\n",
    "    resume_data['projects'][i]['keywords'] = exp_data['projects'][i]['keywords']\n",
    "    resume_data['projects'][i]['name'] = exp_data['projects'][i]['project_name']\n",
    "\n",
    "for i in range(len(skill_data['skills'])):\n",
    "    resume_data['skills'][i]['keywords'] = skill_data['skills'][i]['keywords']\n",
    "    resume_data['skills'][i]['name'] = skill_data['skills'][i]['name']\n",
    "    \n",
    "\n",
    "with open(\"output.yaml\", 'w') as f:\n",
    "    yaml.safe_dump(resume_data, f)\n",
    "\n",
    "print(\"YAML file updated successfully.\")\n"
   ]
  },
  {
   "cell_type": "code",
   "execution_count": 15,
   "metadata": {},
   "outputs": [
    {
     "data": {
      "text/plain": [
       "['Applied data-driven insights to optimize procurement processes, reducing production costs by 10% and improving operational efficiency by 15%.',\n",
       " 'Developed and deployed cloud-based automation tools, increasing team productivity by 30% and reducing manual effort by 25%.',\n",
       " 'Built and maintained a robust supplier base, achieving a 20% improvement in supply chain efficiency and ensuring 100% on-time delivery.']"
      ]
     },
     "execution_count": 15,
     "metadata": {},
     "output_type": "execute_result"
    }
   ],
   "source": [
    "resume_data[\"work\"][1]['highlights']"
   ]
  },
  {
   "cell_type": "code",
   "execution_count": 16,
   "metadata": {},
   "outputs": [
    {
     "name": "stdout",
     "output_type": "stream",
     "text": [
      "Generated HTML content:\n",
      "resume.pdf\n",
      "HTML file saved as: template.html\n",
      "SUCCESS: PDF created at resume.pdf\n"
     ]
    }
   ],
   "source": [
    "!python resumy.py build -o resume.pdf output.yaml"
   ]
  }
 ],
 "metadata": {
  "colab": {
   "authorship_tag": "ABX9TyPCaZx/Db0SJumCv0pb9W3i",
   "include_colab_link": true,
   "mount_file_id": "https://github.com/KarthikeyanBaskaran/pdf-build/blob/main/Resume_Generator.ipynb",
   "provenance": []
  },
  "kernelspec": {
   "display_name": ".venv",
   "language": "python",
   "name": "python3"
  },
  "language_info": {
   "codemirror_mode": {
    "name": "ipython",
    "version": 3
   },
   "file_extension": ".py",
   "mimetype": "text/x-python",
   "name": "python",
   "nbconvert_exporter": "python",
   "pygments_lexer": "ipython3",
   "version": "3.11.9"
  }
 },
 "nbformat": 4,
 "nbformat_minor": 1
}
