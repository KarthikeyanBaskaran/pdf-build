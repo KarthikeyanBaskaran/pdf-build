{
  "cells": [
    {
      "cell_type": "code",
      "execution_count": 103,
      "metadata": {},
      "outputs": [],
      "source": [
        "!pip install dotenv groq PyYAML weasyprint --quiet"
      ]
    },
    {
      "cell_type": "code",
      "execution_count": 104,
      "metadata": {},
      "outputs": [],
      "source": [
        "import yaml"
      ]
    },
    {
      "cell_type": "code",
      "execution_count": 105,
      "metadata": {
        "id": "6rCgqRLsZqUs"
      },
      "outputs": [
        {
          "data": {
            "text/plain": [
              "True"
            ]
          },
          "execution_count": 105,
          "metadata": {},
          "output_type": "execute_result"
        }
      ],
      "source": [
        "from dotenv import load_dotenv, find_dotenv\n",
        "import os\n",
        "from groq import Groq\n",
        "\n",
        "envpath = find_dotenv()\n",
        "load_dotenv(envpath)"
      ]
    },
    {
      "cell_type": "code",
      "execution_count": 106,
      "metadata": {},
      "outputs": [],
      "source": [
        "jd = input('Enter the job description here')"
      ]
    },
    {
      "cell_type": "code",
      "execution_count": 107,
      "metadata": {},
      "outputs": [],
      "source": [
        "file_path = r'C:\\Users\\karth\\OneDrive\\Documents\\GitHub\\pdf-build\\Resume.txt'\n",
        "with open(file_path, 'r') as file:\n",
        "    MyResume = file.read()"
      ]
    },
    {
      "cell_type": "code",
      "execution_count": 108,
      "metadata": {
        "id": "R2M477ZGcv_h"
      },
      "outputs": [],
      "source": [
        "client = Groq(api_key= os.getenv(\"grok_api\"))\n",
        "\n",
        "completion = client.chat.completions.create(\n",
        "    model=\"llama-3.3-70b-versatile\",\n",
        "    messages=[\n",
        "        {\n",
        "            \"role\": \"system\",\n",
        "            \"content\": \"You are a professional career coach and resume-writing assistant. Your task is to craft strong, impactful, and industry-relevant resume bullet points that make my profile stand out for data analytics, data engineering roles and other type of analyst roles\\n\"\n",
        "        },\n",
        "        {\n",
        "            \"role\": \"user\",\n",
        "            \"content\": f\"\"\"\n",
        "            Instruction\n",
        "            Using the keyword extracted from the job description and my resume combine to generate an ideal resume for the job application.\n",
        "\n",
        "            Resume format:\n",
        "\n",
        "            *Work experience*\n",
        "            Company name\n",
        "            best suited 3 points from my resume and rewrite them to highlight transferable skills and quantify achievements\n",
        "            Use action verbs and measurable results (e.g., reduced, improved, increased by X%).\n",
        "\n",
        "\n",
        "            *Projects*\n",
        "            you can generate new projects with difficulty level easy when some mandatory keywords or technology is missing in my work experience. Make the project title short and crisp( 3 words ). Finally Just choose top suited 3 projects to list.\n",
        "            Title: \n",
        "            short idea in one line\n",
        "\n",
        "            Resume : {MyResume}\n",
        "            JOb Description : {jd}\n",
        "\n",
        "            \"\"\"}\n",
        "\n",
        "    ],\n",
        "    temperature=1,\n",
        "    max_tokens=1024,\n",
        "    top_p=1,\n",
        "    stream=True,\n",
        "    stop=None,\n",
        ")\n",
        "DesiredSkill = \"\"\n",
        "\n",
        "for chunk in completion:\n",
        "    content = chunk.choices[0].delta.content if chunk.choices[0].delta.content else \"\"\n",
        "    DesiredSkill += content"
      ]
    },
    {
      "cell_type": "code",
      "execution_count": 109,
      "metadata": {},
      "outputs": [
        {
          "name": "stdout",
          "output_type": "stream",
          "text": [
            "Here's an example of a rewritten resume with a focus on the skills required for the Supply Chain Analyst position:\n",
            "\n",
            "**Work Experience**\n",
            "\n",
            "* **Procurement Engineer, Vestas Wind Technology, India (Nov 2021 – Aug 2023)**\n",
            "\t+ Analyzed supply chain data to forecast demand and optimized inventory levels, resulting in a 20% reduction in inventory costs and a 15% improvement in supply chain efficiency.\n",
            "\t+ Developed and implemented predictive models using Python and SQL to automate forecasting and demand planning, increasing accuracy by 10% and reducing manual effort by 30%.\n",
            "\t+ Collaborated with cross-functional teams to implement process improvements, resulting in a 25% reduction in supply chain cycle times and a 12% improvement in on-time delivery.\n",
            "* **Consultant ECM Purchaser, Vestas, ManpowerGroup Services, India (Jan 2021 – Nov 2021)**\n",
            "\t+ Utilized data analytics and SQL to analyze supplier performance and identify areas for improvement, resulting in a 10% reduction in procurement costs and a 15% improvement in supplier reliability.\n",
            "\t+ Developed and maintained dashboards using Power BI to track key performance indicators (KPIs) and supplier performance, providing actionable insights for data-driven decision-making.\n",
            "\t+ Implemented automation tools using Python to streamline procurement processes, resulting in a 30% reduction in manual effort and a 20% improvement in process efficiency.\n",
            "* **Procurement Engineer, Valeo India, India (Jun 2018 – Jan 2021)**\n",
            "\t+ Managed and analyzed supply chain data to identify trends and optimize inventory levels, resulting in a 15% reduction in inventory costs and a 10% improvement in supply chain efficiency.\n",
            "\t+ Developed and implemented data-driven procurement strategies using Excel and SQL, resulting in a 12% reduction in procurement costs and a 10% improvement in supplier quality.\n",
            "\t+ Collaborated with cross-functional teams to implement process improvements, resulting in a 20% reduction in supply chain cycle times and a 15% improvement in on-time delivery.\n",
            "\n",
            "**Projects**\n",
            "\n",
            "* **Supply Chain Dashboard**: Developed an interactive dashboard using Tableau to track key performance indicators (KPIs) and supplier performance, providing actionable insights for data-driven decision-making.\n",
            "* **Demand Forecasting Model**: Built a predictive model using Python and SQL to forecast demand and optimize inventory levels, resulting in a 10% improvement in forecasting accuracy and a 15% reduction in inventory costs.\n",
            "* **Automation Tool**: Developed an automation tool using Python to streamline procurement processes, resulting in a 30% reduction in manual effort and a 20% improvement in process efficiency.\n",
            "\n",
            "I chose these projects because they demonstrate my ability to work with supply chain data, develop predictive models, and automate processes using Python and SQL. The Supply Chain Dashboard project showcases my ability to create interactive and actionable dashboards, while the Demand Forecasting Model project demonstrates my ability to build predictive models to optimize inventory levels. The Automation Tool project highlights my ability to develop automation tools to streamline procurement processes.\n"
          ]
        }
      ],
      "source": [
        "print(DesiredSkill)"
      ]
    },
    {
      "cell_type": "code",
      "execution_count": 110,
      "metadata": {
        "id": "z5F7_7t5zvXr"
      },
      "outputs": [],
      "source": [
        "client = Groq(api_key= os.getenv(\"grok_api\"))\n",
        "    \n",
        "completion = client.chat.completions.create(\n",
        "    model=\"llama-3.3-70b-versatile\",\n",
        "    messages=[\n",
        "        {\n",
        "            \"role\": \"system\",\n",
        "            \"content\": \"You are a professional career coach and resume-writing assistant. Your task is to craft strong, impactful, and industry-relevant resume bullet points that make my profile stand out for data analytics, data engineering roles, and other types of analyst roles.\"\n",
        "        },\n",
        "        {\n",
        "            \"role\": \"user\",\n",
        "            \"content\": f\"{DesiredSkill}\\n\\nPlease generate the updated resume sections in YAML format using the same structure as provided below. Make sure the output is valid YAML without any markdown formatting (i.e., no triple backticks) so it can be directly loaded by a YAML parser. Also, include keywords from the project as a side heading in the 'projects' section.\\n\\n\"\n",
        "            \"\"\"{'work_experience': [{'title': , \n",
        "                                   'company': , \n",
        "                                   'dates': , \n",
        "                                   'achievements': []}], \n",
        "              'projects': [{'project_name': , \n",
        "                            'description': , \n",
        "                            'keywords': []}]}\"\"\"\n",
        "        }\n",
        "    ],\n",
        "    temperature=1,\n",
        "    max_completion_tokens=1024,\n",
        "    top_p=1,\n",
        "    stream=True,\n",
        "    stop=None,\n",
        ")\n",
        "\n",
        "llm_yaml = \"\"\n",
        "\n",
        "for chunk in completion:\n",
        "    content = chunk.choices[0].delta.content if chunk.choices[0].delta.content else \"\"\n",
        "    llm_yaml += content\n"
      ]
    },
    {
      "cell_type": "code",
      "execution_count": 111,
      "metadata": {},
      "outputs": [
        {
          "name": "stdout",
          "output_type": "stream",
          "text": [
            "work_experience:\n",
            "  - title: Procurement Engineer\n",
            "    company: Vestas Wind Technology, India\n",
            "    dates: Nov 2021 - Aug 2023\n",
            "    achievements:\n",
            "      - Analyzed supply chain data to forecast demand and optimized inventory levels, resulting in a 20% reduction in inventory costs and a 15% improvement in supply chain efficiency.\n",
            "      - Developed and implemented predictive models using Python and SQL to automate forecasting and demand planning, increasing accuracy by 10% and reducing manual effort by 30%.\n",
            "      - Collaborated with cross-functional teams to implement process improvements, resulting in a 25% reduction in supply chain cycle times and a 12% improvement in on-time delivery.\n",
            "  - title: Consultant ECM Purchaser\n",
            "    company: Vestas, ManpowerGroup Services, India\n",
            "    dates: Jan 2021 - Nov 2021\n",
            "    achievements:\n",
            "      - Utilized data analytics and SQL to analyze supplier performance and identify areas for improvement, resulting in a 10% reduction in procurement costs and a 15% improvement in supplier reliability.\n",
            "      - Developed and maintained dashboards using Power BI to track key performance indicators (KPIs) and supplier performance, providing actionable insights for data-driven decision-making.\n",
            "      - Implemented automation tools using Python to streamline procurement processes, resulting in a 30% reduction in manual effort and a 20% improvement in process efficiency.\n",
            "  - title: Procurement Engineer\n",
            "    company: Valeo India, India\n",
            "    dates: Jun 2018 - Jan 2021\n",
            "    achievements:\n",
            "      - Managed and analyzed supply chain data to identify trends and optimize inventory levels, resulting in a 15% reduction in inventory costs and a 10% improvement in supply chain efficiency.\n",
            "      - Developed and implemented data-driven procurement strategies using Excel and SQL, resulting in a 12% reduction in procurement costs and a 10% improvement in supplier quality.\n",
            "      - Collaborated with cross-functional teams to implement process improvements, resulting in a 20% reduction in supply chain cycle times and a 15% improvement in on-time delivery.\n",
            "\n",
            "projects:\n",
            "  - project_name: Supply Chain Dashboard\n",
            "    description: Developed an interactive dashboard using Tableau to track key performance indicators (KPIs) and supplier performance, providing actionable insights for data-driven decision-making.\n",
            "    keywords: [Data Analytics, Tableau, KPIs, Supply Chain]\n",
            "  - project_name: Demand Forecasting Model\n",
            "    description: Built a predictive model using Python and SQL to forecast demand and optimize inventory levels, resulting in a 10% improvement in forecasting accuracy and a 15% reduction in inventory costs.\n",
            "    keywords: [Predictive Modeling, Python, SQL, Demand Forecasting]\n",
            "  - project_name: Automation Tool\n",
            "    description: Developed an automation tool using Python to streamline procurement processes, resulting in a 30% reduction in manual effort and a 20% improvement in process efficiency.\n",
            "    keywords: [Automation, Python, Procurement, Process Efficiency]\n"
          ]
        }
      ],
      "source": [
        "print(llm_yaml)"
      ]
    },
    {
      "cell_type": "code",
      "execution_count": 112,
      "metadata": {},
      "outputs": [],
      "source": [
        "client = Groq(api_key= os.getenv(\"grok_api\"))\n",
        "    \n",
        "completion = client.chat.completions.create(\n",
        "    model=\"llama-3.3-70b-versatile\",\n",
        "    messages=[\n",
        "        {\n",
        "            \"role\": \"system\",\n",
        "            \"content\": \"You are a professional career coach and resume-writing assistant. Your task is to craft strong, impactful, and industry-relevant resume bullet points that make my profile stand out for data analytics, data engineering roles, and other types of analyst roles.\"\n",
        "        },\n",
        "        {\n",
        "            \"role\": \"user\",\n",
        "            \"content\": f\"\"\"based on resume and job description i need skills and write a powerful 1-line professional summary that hooks a recruiter in under 10 seconds.\\n\\n\n",
        "            job description{jd}\n",
        "            resume {llm_yaml}\n",
        "            \n",
        "            FORMAT:\n",
        "            summary:\n",
        "            skills:\n",
        "            -  name: maximum 6 names\n",
        "               keywords: [max 3 well suited skills, do not repeat same skills]\n",
        "               \n",
        "            NO PREAMBLE, Yaml format\\n\"\"\"\n",
        "        }\n",
        "    ],\n",
        "    temperature=1,\n",
        "    max_completion_tokens=1024,\n",
        "    top_p=1,\n",
        "    stream=True,\n",
        "    stop=None,\n",
        ")\n",
        "\n",
        "skillyaml = \"\"\n",
        "\n",
        "for chunk in completion:\n",
        "    content = chunk.choices[0].delta.content if chunk.choices[0].delta.content else \"\"\n",
        "    skillyaml += content"
      ]
    },
    {
      "cell_type": "code",
      "execution_count": 113,
      "metadata": {},
      "outputs": [
        {
          "name": "stdout",
          "output_type": "stream",
          "text": [
            "summary: Results-driven Supply Chain Analyst with 4+ years of experience in forecasting, inventory planning, and supply chain optimization, leveraging SQL, Python, and data analytics to drive business growth and improve efficiency.\n",
            "\n",
            "skills:\n",
            "  - name: Data Analysis\n",
            "    keywords: [SQL, Python, Data Visualization]\n",
            "  - name: Supply Chain Management\n",
            "    keywords: [Inventory Planning, Forecasting, Procurement]\n",
            "  - name: Process Automation\n",
            "    keywords: [Python, Automation, Efficiency]\n",
            "  - name: Predictive Modeling\n",
            "    keywords: [Demand Forecasting, Predictive Analytics, Machine Learning]\n",
            "  - name: Business Intelligence\n",
            "    keywords: [Tableau, Power BI, Data-Driven Decision Making]\n",
            "  - name: Operations Research\n",
            "    keywords: [Optimization, Simulation, Analytics]\n"
          ]
        }
      ],
      "source": [
        "print(skillyaml)"
      ]
    },
    {
      "cell_type": "code",
      "execution_count": 114,
      "metadata": {},
      "outputs": [
        {
          "name": "stdout",
          "output_type": "stream",
          "text": [
            "summary: Results-driven Supply Chain Analyst with 4+ years of experience in forecasting, inventory planning, and supply chain optimization, leveraging SQL, Python, and data analytics to drive business growth and improve efficiency.\n",
            "\n",
            "skills:\n",
            "  - name: Data Analysis\n",
            "    keywords: [SQL, Python, Data Visualization]\n",
            "  - name: Supply Chain Management\n",
            "    keywords: [Inventory Planning, Forecasting, Procurement]\n",
            "  - name: Process Automation\n",
            "    keywords: [Python, Automation, Efficiency]\n",
            "  - name: Predictive Modeling\n",
            "    keywords: [Demand Forecasting, Predictive Analytics, Machine Learning]\n",
            "  - name: Business Intelligence\n",
            "    keywords: [Tableau, Power BI, Data-Driven Decision Making]\n",
            "  - name: Operations Research\n",
            "    keywords: [Optimization, Simulation, Analytics]\n"
          ]
        }
      ],
      "source": [
        "print(skillyaml)"
      ]
    },
    {
      "cell_type": "code",
      "execution_count": 115,
      "metadata": {},
      "outputs": [],
      "source": [
        "skill_data = yaml.safe_load(skillyaml)"
      ]
    },
    {
      "cell_type": "code",
      "execution_count": 116,
      "metadata": {},
      "outputs": [
        {
          "name": "stdout",
          "output_type": "stream",
          "text": [
            "YAML file updated successfully.\n"
          ]
        }
      ],
      "source": [
        "import yaml\n",
        "\n",
        "yaml_file_path = r'C:\\Users\\karth\\OneDrive\\Documents\\GitHub\\pdf-build\\karthik.yaml'\n",
        "with open(yaml_file_path, 'r') as f:\n",
        "    resume_data = yaml.safe_load(f)\n",
        "\n",
        "exp_data = yaml.safe_load(llm_yaml)\n",
        "skill_data = yaml.safe_load(skillyaml)\n",
        "\n",
        "resume_data['basics']['summary'] = skill_data['summary']\n",
        "\n",
        "#work experience\n",
        "for i in range(len(exp_data['work_experience'])):\n",
        "    resume_data[\"work\"][i]['highlights'] = exp_data['work_experience'][i]['achievements']\n",
        "\n",
        "for i in range(len(exp_data['projects'])):\n",
        "    resume_data['projects'][i]['description'] = exp_data['projects'][i]['description']\n",
        "    resume_data['projects'][i]['keywords'] = exp_data['projects'][i]['keywords']\n",
        "    resume_data['projects'][i]['name'] = exp_data['projects'][i]['project_name']\n",
        "\n",
        "for i in range(len(skill_data['skills'])):\n",
        "    resume_data['skills'][i]['keywords'] = skill_data['skills'][i]['keywords']\n",
        "    resume_data['skills'][i]['name'] = skill_data['skills'][i]['name']\n",
        "    \n",
        "\n",
        "with open(\"output.yaml\", 'w') as f:\n",
        "    yaml.safe_dump(resume_data, f)\n",
        "\n",
        "print(\"YAML file updated successfully.\")\n"
      ]
    },
    {
      "cell_type": "code",
      "execution_count": 117,
      "metadata": {},
      "outputs": [
        {
          "data": {
            "text/plain": [
              "['Utilized data analytics and SQL to analyze supplier performance and identify areas for improvement, resulting in a 10% reduction in procurement costs and a 15% improvement in supplier reliability.',\n",
              " 'Developed and maintained dashboards using Power BI to track key performance indicators (KPIs) and supplier performance, providing actionable insights for data-driven decision-making.',\n",
              " 'Implemented automation tools using Python to streamline procurement processes, resulting in a 30% reduction in manual effort and a 20% improvement in process efficiency.']"
            ]
          },
          "execution_count": 117,
          "metadata": {},
          "output_type": "execute_result"
        }
      ],
      "source": [
        "resume_data[\"work\"][1]['highlights']"
      ]
    },
    {
      "cell_type": "code",
      "execution_count": 118,
      "metadata": {},
      "outputs": [
        {
          "name": "stdout",
          "output_type": "stream",
          "text": [
            "Generated HTML content:\n",
            "resume.pdf\n",
            "HTML file saved as: template.html\n",
            "SUCCESS: PDF created at resume.pdf\n"
          ]
        }
      ],
      "source": [
        "!python resumy.py build -o resume.pdf output.yaml"
      ]
    }
  ],
  "metadata": {
    "colab": {
      "authorship_tag": "ABX9TyPCaZx/Db0SJumCv0pb9W3i",
      "include_colab_link": true,
      "mount_file_id": "https://github.com/KarthikeyanBaskaran/pdf-build/blob/main/Resume_Generator.ipynb",
      "provenance": []
    },
    "kernelspec": {
      "display_name": ".venv",
      "language": "python",
      "name": "python3"
    },
    "language_info": {
      "codemirror_mode": {
        "name": "ipython",
        "version": 3
      },
      "file_extension": ".py",
      "mimetype": "text/x-python",
      "name": "python",
      "nbconvert_exporter": "python",
      "pygments_lexer": "ipython3",
      "version": "3.11.9"
    }
  },
  "nbformat": 4,
  "nbformat_minor": 0
}
