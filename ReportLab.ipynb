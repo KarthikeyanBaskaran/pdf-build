{
  "nbformat": 4,
  "nbformat_minor": 0,
  "metadata": {
    "colab": {
      "provenance": [],
      "authorship_tag": "ABX9TyPBVD8sCNj+76if5gVZFNqo",
      "include_colab_link": true
    },
    "kernelspec": {
      "name": "python3",
      "display_name": "Python 3"
    },
    "language_info": {
      "name": "python"
    }
  },
  "cells": [
    {
      "cell_type": "markdown",
      "metadata": {
        "id": "view-in-github",
        "colab_type": "text"
      },
      "source": [
        "<a href=\"https://colab.research.google.com/github/KarthikeyanBaskaran/pdf-build/blob/main/ReportLab.ipynb\" target=\"_parent\"><img src=\"https://colab.research.google.com/assets/colab-badge.svg\" alt=\"Open In Colab\"/></a>"
      ]
    },
    {
      "cell_type": "code",
      "execution_count": null,
      "metadata": {
        "colab": {
          "base_uri": "https://localhost:8080/"
        },
        "id": "--hICvV3ZDJg",
        "outputId": "9e70bf61-59c0-4207-fd1c-0aef044c8915"
      },
      "outputs": [
        {
          "output_type": "stream",
          "name": "stdout",
          "text": [
            "Requirement already satisfied: reportlab in /usr/local/lib/python3.12/dist-packages (4.4.3)\n",
            "Requirement already satisfied: pyyaml in /usr/local/lib/python3.12/dist-packages (6.0.2)\n",
            "Requirement already satisfied: pillow>=9.0.0 in /usr/local/lib/python3.12/dist-packages (from reportlab) (11.3.0)\n",
            "Requirement already satisfied: charset-normalizer in /usr/local/lib/python3.12/dist-packages (from reportlab) (3.4.3)\n"
          ]
        }
      ],
      "source": [
        "pip install reportlab pyyaml"
      ]
    },
    {
      "cell_type": "code",
      "source": [
        "# COrrect code\n",
        "\n",
        "import yaml\n",
        "from reportlab.lib.pagesizes import A4\n",
        "from reportlab.platypus import SimpleDocTemplate, Paragraph, Spacer, Table, TableStyle, ListFlowable, ListItem, HRFlowable\n",
        "from reportlab.lib.styles import getSampleStyleSheet, ParagraphStyle\n",
        "from reportlab.lib import colors\n",
        "from reportlab.lib.units import inch\n",
        "\n",
        "\n",
        "# Load YAML\n",
        "def load_content(yaml_file):\n",
        "    with open(yaml_file, \"r\") as f:\n",
        "        return yaml.safe_load(f)\n",
        "\n",
        "def build_pdf(data, output_file=\"resume.pdf\"):\n",
        "    doc = SimpleDocTemplate(output_file, pagesize=A4,\n",
        "                            leftMargin=40, rightMargin=40,\n",
        "                            topMargin=40, bottomMargin=40)\n",
        "    elements = []\n",
        "    styles = getSampleStyleSheet()\n",
        "\n",
        "    # Custom styles\n",
        "    section_style = ParagraphStyle(\"Section\", fontSize=14, textColor=colors.black, spaceAfter=6, leading=16, spaceBefore=12)\n",
        "    text_style = ParagraphStyle(\"Text\", fontSize=10, leading=14)\n",
        "    bullet_style = ParagraphStyle(\"Bullet\", fontSize=10, leading=14, leftIndent=15, bulletIndent=5)\n",
        "\n",
        "    # ==== HEADER (from Code B) ====\n",
        "    big_bold_style = ParagraphStyle(\n",
        "        name='BigBold',\n",
        "        parent=styles['Normal'],\n",
        "        fontName='Helvetica-Bold',\n",
        "        fontSize=18,\n",
        "        leading=22,\n",
        "        textColor=colors.black,\n",
        "        alignment=0  # Left aligned\n",
        "    )\n",
        "\n",
        "    left_normal_style = ParagraphStyle(\n",
        "        name='LeftNormal',\n",
        "        parent=styles['Normal'],\n",
        "        fontName='Helvetica',\n",
        "        fontSize=10,\n",
        "        leading=12,\n",
        "        textColor=colors.black,\n",
        "        alignment=0\n",
        "    )\n",
        "\n",
        "    right_normal_style = ParagraphStyle(\n",
        "        name='RightNormal',\n",
        "        parent=styles['Normal'],\n",
        "        fontName='Helvetica',\n",
        "        fontSize=10,\n",
        "        leading=12,\n",
        "        textColor=colors.black,\n",
        "        alignment=2  # Right aligned\n",
        "    )\n",
        "\n",
        "    # Left and right column data\n",
        "    left_col = [\n",
        "        Paragraph('Karthik', big_bold_style),\n",
        "        Paragraph('(Karthikeyan Baskaran)', left_normal_style),\n",
        "        Paragraph('', left_normal_style),\n",
        "        Paragraph('', left_normal_style)\n",
        "    ]\n",
        "\n",
        "    right_col = [\n",
        "        Paragraph('+1 437-665-6654', right_normal_style),\n",
        "        Paragraph('karthikeyanbaskarca@gmail.com', right_normal_style),\n",
        "        Paragraph('https://github.com/KarthikeyanBaskaran', right_normal_style),\n",
        "        Paragraph('https://www.linkedin.com/in/karthikeyan-baskaran-data/', right_normal_style)\n",
        "    ]\n",
        "\n",
        "    # Combine into table\n",
        "    header_data = [[left, right] for left, right in zip(left_col, right_col)]\n",
        "    header_table = Table(header_data, colWidths=[2.5*inch, 4*inch], hAlign='CENTER')\n",
        "\n",
        "    header_table.setStyle(TableStyle([\n",
        "        ('VALIGN', (0, 0), (-1, -1), 'TOP'),\n",
        "        ('GRID', (0, 0), (-1, -1), 0.5, colors.transparent),\n",
        "        ('LEFTPADDING', (0, 0), (-1, -1), 0),\n",
        "        ('RIGHTPADDING', (0, 0), (-1, -1), 0),\n",
        "        ('TOPPADDING', (0, 0), (-1, -1), 0),\n",
        "        ('BOTTOMPADDING', (0, 0), (-1, -1), 0),\n",
        "    ]))\n",
        "\n",
        "    # elements.append(Spacer(1, 0.3*inch))\n",
        "    elements.append(header_table)\n",
        "    # elements.append(Spacer(1, 12))\n",
        "\n",
        "    # ---- SUMMARY ----\n",
        "    elements.append(Paragraph(\"Summary\", section_style))\n",
        "\n",
        "    elements.append(HRFlowable(width=\"100%\", thickness=0.75, lineCap='round', color='black'))\n",
        "    elements.append(Spacer(1, 6))\n",
        "\n",
        "    elements.append(Paragraph(data[\"summary\"], text_style))\n",
        "\n",
        "    # ---- SKILLS ----\n",
        "    elements.append(Paragraph(\"Skills\", section_style))\n",
        "\n",
        "    elements.append(HRFlowable(width=\"100%\", thickness=0.75, lineCap='round', color='black'))\n",
        "    elements.append(Spacer(1, 6))\n",
        "\n",
        "    for item in data.get(\"skills\", []):\n",
        "        category = item.get(\"name\", \"Skills\")\n",
        "        keywords = item.get(\"keywords\", [])\n",
        "        elements.append(Paragraph(f\"<b>{category}:</b> {', '.join(map(str, keywords))}\", text_style))\n",
        "\n",
        "    # ---- WORK EXPERIENCE ----\n",
        "    elements.append(Paragraph(\"Work Experience\", section_style))\n",
        "\n",
        "    elements.append(HRFlowable(width=\"100%\", thickness=0.75, lineCap='round', color='black'))\n",
        "    elements.append(Spacer(1, 6))\n",
        "\n",
        "    hardcoded_jobs = [\n",
        "        {\"title\": \"Data Analyst\", \"company\": \"Vestas Wind Systems\", \"dates\": \"Jan 2020 - Dec 2022\"},\n",
        "        {\"title\": \"Project Coordinator\", \"company\": \"ManpowerGroup Services\", \"dates\": \"Jan 2018 - Dec 2019\"},\n",
        "        {\"title\": \"Manufacturing Analyst\", \"company\": \"Valeo India\", \"dates\": \"Jan 2015 - Dec 2017\"}\n",
        "    ]\n",
        "\n",
        "    for idx, job in enumerate(hardcoded_jobs):\n",
        "        elements.append(Paragraph(f\"<b>{job['title']}</b> | {job['company']}\", text_style))\n",
        "        elements.append(Paragraph(job[\"dates\"], text_style))\n",
        "\n",
        "        yaml_job = data['work_experience'][idx]\n",
        "        bullet_points = [ListItem(Paragraph(bp, bullet_style)) for bp in yaml_job[\"achievements\"]]\n",
        "\n",
        "        elements.append(ListFlowable(bullet_points, bulletType=\"bullet\", start=\"•\"))\n",
        "        elements.append(Spacer(1, 6))\n",
        "\n",
        "    # ---- PROJECTS ----\n",
        "    elements.append(Paragraph(\"Projects\", section_style))\n",
        "\n",
        "    elements.append(HRFlowable(width=\"100%\", thickness=0.75, lineCap='round', color='black'))\n",
        "    elements.append(Spacer(1, 6))\n",
        "\n",
        "    for proj in data[\"projects\"]:\n",
        "        elements.append(Paragraph(f\"<b>{proj['project_name']}</b>\", text_style))\n",
        "        elements.append(Paragraph(proj[\"description\"], text_style))\n",
        "        elements.append(Paragraph(f\"({', '.join(proj['keywords'])})\", text_style))\n",
        "        elements.append(Spacer(1, 6))\n",
        "\n",
        "    # ---- EDUCATION ----\n",
        "    elements.append(Paragraph(\"Education\", section_style))\n",
        "\n",
        "    elements.append(HRFlowable(width=\"100%\", thickness=0.75, lineCap='round', color='black'))\n",
        "    elements.append(Spacer(1, 6))\n",
        "\n",
        "    hardcoded_education = [\n",
        "        {\"degree\": \"Diploma in Data Analytics for Business\", \"institution\": \"St. Clair College, Canada\", \"gpa\": \"4.0 GPA\", \"dates\": \"Sep 2023 - Apr 2025\"},\n",
        "        {\"degree\": \"Bachelor of Mechanical Engineering\", \"institution\": \"St. Joseph's Institute of Technology, India\", \"gpa\": \"3.7 GPA\", \"dates\": \"Jun 2014 - Jun 2018\"}\n",
        "    ]\n",
        "\n",
        "    for edu in hardcoded_education:\n",
        "        elements.append(Paragraph(f\"<b>{edu['degree']}</b> - {edu['institution']}\", text_style))\n",
        "        elements.append(Paragraph(f\"GPA: {edu['gpa']} | {edu['dates']}\", text_style))\n",
        "        elements.append(Spacer(1, 6))\n",
        "\n",
        "    # Build PDF\n",
        "    doc.build(elements)\n",
        "    print(f\"✅ Resume generated: {output_file}\")\n",
        "\n",
        "if __name__ == \"__main__\":\n",
        "    content = load_content(\"output.yaml\")\n",
        "    build_pdf(content, \"formatted_resume.pdf\")\n"
      ],
      "metadata": {
        "colab": {
          "base_uri": "https://localhost:8080/"
        },
        "id": "o1Yvnurb5lDr",
        "outputId": "9b4539fc-aac4-442f-d03d-e4e2ada15072"
      },
      "execution_count": 12,
      "outputs": [
        {
          "output_type": "stream",
          "name": "stdout",
          "text": [
            "✅ Resume generated: formatted_resume.pdf\n"
          ]
        }
      ]
    },
    {
      "cell_type": "code",
      "source": [
        "from reportlab.pdfgen import canvas\n",
        "\n",
        "c = canvas.Canvas(\"line_example.pdf\")\n",
        "\n",
        "# Draw a horizontal line (x1, y1, x2, y2)\n",
        "c.line(50, 750, 550, 750)\n",
        "\n",
        "c.save()\n"
      ],
      "metadata": {
        "id": "AiGzsIc7fUcT"
      },
      "execution_count": 2,
      "outputs": []
    }
  ]
}